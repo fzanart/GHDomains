{
  "nbformat": 4,
  "nbformat_minor": 0,
  "metadata": {
    "colab": {
      "name": "GitHub_data_downloader.ipynb",
      "provenance": [],
      "authorship_tag": "ABX9TyO50DZgL4AMys9dfU9wE9Ek",
      "include_colab_link": true
    },
    "kernelspec": {
      "name": "python3",
      "display_name": "Python 3"
    },
    "language_info": {
      "name": "python"
    }
  },
  "cells": [
    {
      "cell_type": "markdown",
      "metadata": {
        "id": "view-in-github",
        "colab_type": "text"
      },
      "source": [
        "<a href=\"https://colab.research.google.com/github/fzanart/GHDomains/blob/main/GitHub_data_downloader.ipynb\" target=\"_parent\"><img src=\"https://colab.research.google.com/assets/colab-badge.svg\" alt=\"Open In Colab\"/></a>"
      ]
    },
    {
      "cell_type": "code",
      "execution_count": 15,
      "metadata": {
        "id": "pukQEf1aWZNI"
      },
      "outputs": [],
      "source": [
        "%%capture\n",
        "!pip install PyGithub\n",
        "\n"
      ]
    },
    {
      "cell_type": "code",
      "source": [
        "from github import Github, RateLimitExceededException\n",
        "from github.GithubException import UnknownObjectException\n",
        "from getpass import getpass"
      ],
      "metadata": {
        "id": "iX9rCX7lcR_w"
      },
      "execution_count": 16,
      "outputs": []
    },
    {
      "cell_type": "code",
      "source": [
        "\n",
        "token = getpass(prompt=\"Enter your Github token:\")\n",
        "g = Github(token, timeout=30, per_page=100)"
      ],
      "metadata": {
        "colab": {
          "base_uri": "https://localhost:8080/"
        },
        "id": "RfbMDnlyYfgR",
        "outputId": "6e5519ba-e37f-4d5f-a970-de4665c9f976"
      },
      "execution_count": 17,
      "outputs": [
        {
          "name": "stdout",
          "output_type": "stream",
          "text": [
            "Enter your Github token:··········\n"
          ]
        }
      ]
    },
    {
      "cell_type": "code",
      "source": [
        "# Get stars\n",
        "def get_starscount(repo):\n",
        "    try:\n",
        "        return repo.stargazers_count\n",
        "    except:\n",
        "        return None\n",
        "\n",
        "# Get Forks\n",
        "def get_forkscount(repo):\n",
        "    try:\n",
        "        return repo.get_forks().totalCount\n",
        "    except:\n",
        "        return None\n",
        "\n",
        "# Get description\n",
        "def get_description(repo):\n",
        "    try:\n",
        "        return repo.description\n",
        "    except:\n",
        "        return None\n",
        "\n",
        "# Get Url\n",
        "def get_url(repo):\n",
        "    try:\n",
        "        return repo.url\n",
        "    except:\n",
        "        return None\n",
        "\n",
        "# Get decoded readme\n",
        "def get_readme(repo):\n",
        "    try:\n",
        "        return repo.get_readme().decoded_content.decode('UTF-8')\n",
        "    except:\n",
        "        return None\n",
        "\n",
        "# Get topic label\n",
        "def get_topics(repo):\n",
        "    try:\n",
        "        topics = repo.get_topics()\n",
        "        if len(topics) != 0:\n",
        "            return topics\n",
        "        else:\n",
        "            return None\n",
        "    except:\n",
        "        return None\n",
        "\n",
        "# Get all programming languages .values retrives bytes of code in each language\n",
        "# Returns a dictionary with bits of each language\n",
        "def get_languages(repo):\n",
        "    \n",
        "    languages_dict = []\n",
        "    languages_list = []\n",
        "    try:\n",
        "        languages = repo.get_languages()\n",
        "        languages_dict.extend([languages])\n",
        "        languages_list.extend([language for language in languages])\n",
        "        if len(languages_list) != 0:\n",
        "            return languages_list, languages_dict\n",
        "        else:\n",
        "            return None, None\n",
        "    except:\n",
        "        return None, None\n",
        "\n",
        "# Get type of license\n",
        "def get_license(repo):\n",
        "    try:\n",
        "        return repo.get_license().license.name\n",
        "    except:\n",
        "        return None\n",
        "    \n",
        "# Get labels from pull requests\n",
        "def get_labels(repo):\n",
        "    try:\n",
        "        labels_list = []\n",
        "        labels = repo.get_labels()\n",
        "        labels_list.extend([label.name for label in labels])\n",
        "        if len(labels_list) != 0:\n",
        "            return labels_list\n",
        "        else:\n",
        "            return None\n",
        "    except:\n",
        "        return None\n",
        "\n",
        "# Get copntributors login names\n",
        "def get_contributors(repo):\n",
        "\n",
        "    contributor_list = []\n",
        "    try:\n",
        "        contributors = repo.get_contributors()\n",
        "        contributor_list.extend([contributor.login for contributor in contributors])\n",
        "        if len(contributor_list) != 0:\n",
        "            return contributor_list\n",
        "        else:\n",
        "            return None\n",
        "    except:\n",
        "        return None\n",
        "\n",
        "# Get the count of releases\n",
        "def get_releases_count(repo):\n",
        "    try:\n",
        "        return repo.get_releases().totalCount\n",
        "    except:\n",
        "        return None\n",
        "\n",
        "# Get names for types of events\n",
        "def get_repoevents(repo):\n",
        "    try:\n",
        "        events = repo.get_events()\n",
        "        events_list = []\n",
        "        events_list.extend([event.type for event in events])\n",
        "        if len(events_list) !=0:\n",
        "            return events_list\n",
        "        else:\n",
        "            return None\n",
        "    except:\n",
        "        return None\n",
        "\n",
        "# Get workflow names\n",
        "def get_workflow(repo):\n",
        "    try:\n",
        "        workflows = repo.get_workflows()\n",
        "        workflow_list = []\n",
        "        workflow_list.extend([workflow.name for workflow in workflows])\n",
        "        if len(workflow_list) !=0:\n",
        "            return workflow_list\n",
        "        else:\n",
        "            return None\n",
        "    except:\n",
        "        return None\n",
        "\n",
        "# Get home contents\n",
        "def get_contents(repo):\n",
        "    try:\n",
        "        contents = repo.get_contents(\"\")\n",
        "        contents_list = []\n",
        "        contents_list.extend([content.name for content in contents])\n",
        "        if len(contents_list) != 0:\n",
        "            return contents_list\n",
        "        else:\n",
        "            return None\n",
        "    except:\n",
        "        return None  "
      ],
      "metadata": {
        "id": "NJp2_XuKZXdT"
      },
      "execution_count": 18,
      "outputs": []
    }
  ]
}