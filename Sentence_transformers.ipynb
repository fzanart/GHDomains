{
  "nbformat": 4,
  "nbformat_minor": 0,
  "metadata": {
    "colab": {
      "name": "Sentence_transformers.ipynb",
      "provenance": [],
      "collapsed_sections": [],
      "authorship_tag": "ABX9TyPi/Eef+PcrB16amSxgEM8R",
      "include_colab_link": true
    },
    "kernelspec": {
      "name": "python3",
      "display_name": "Python 3"
    },
    "language_info": {
      "name": "python"
    },
    "accelerator": "GPU"
  },
  "cells": [
    {
      "cell_type": "markdown",
      "metadata": {
        "id": "view-in-github",
        "colab_type": "text"
      },
      "source": [
        "<a href=\"https://colab.research.google.com/github/fzanart/GHDomains/blob/main/Sentence_transformers.ipynb\" target=\"_parent\"><img src=\"https://colab.research.google.com/assets/colab-badge.svg\" alt=\"Open In Colab\"/></a>"
      ]
    },
    {
      "cell_type": "code",
      "execution_count": 1,
      "metadata": {
        "colab": {
          "base_uri": "https://localhost:8080/"
        },
        "id": "M12Ijr7UzzJv",
        "outputId": "d445a41c-fe96-4da3-88f3-37bfd85f3467"
      },
      "outputs": [
        {
          "output_type": "stream",
          "name": "stdout",
          "text": [
            "Requirement already satisfied: sentence-transformers in /usr/local/lib/python3.7/dist-packages (2.2.0)\n",
            "Requirement already satisfied: torchvision in /usr/local/lib/python3.7/dist-packages (from sentence-transformers) (0.11.1+cu111)\n",
            "Requirement already satisfied: scipy in /usr/local/lib/python3.7/dist-packages (from sentence-transformers) (1.4.1)\n",
            "Requirement already satisfied: huggingface-hub in /usr/local/lib/python3.7/dist-packages (from sentence-transformers) (0.4.0)\n",
            "Requirement already satisfied: tqdm in /usr/local/lib/python3.7/dist-packages (from sentence-transformers) (4.63.0)\n",
            "Requirement already satisfied: numpy in /usr/local/lib/python3.7/dist-packages (from sentence-transformers) (1.21.5)\n",
            "Requirement already satisfied: scikit-learn in /usr/local/lib/python3.7/dist-packages (from sentence-transformers) (1.0.2)\n",
            "Requirement already satisfied: nltk in /usr/local/lib/python3.7/dist-packages (from sentence-transformers) (3.2.5)\n",
            "Requirement already satisfied: transformers<5.0.0,>=4.6.0 in /usr/local/lib/python3.7/dist-packages (from sentence-transformers) (4.17.0)\n",
            "Requirement already satisfied: torch>=1.6.0 in /usr/local/lib/python3.7/dist-packages (from sentence-transformers) (1.10.0+cu111)\n",
            "Requirement already satisfied: sentencepiece in /usr/local/lib/python3.7/dist-packages (from sentence-transformers) (0.1.96)\n",
            "Requirement already satisfied: typing-extensions in /usr/local/lib/python3.7/dist-packages (from torch>=1.6.0->sentence-transformers) (3.10.0.2)\n",
            "Requirement already satisfied: regex!=2019.12.17 in /usr/local/lib/python3.7/dist-packages (from transformers<5.0.0,>=4.6.0->sentence-transformers) (2019.12.20)\n",
            "Requirement already satisfied: importlib-metadata in /usr/local/lib/python3.7/dist-packages (from transformers<5.0.0,>=4.6.0->sentence-transformers) (4.11.2)\n",
            "Requirement already satisfied: tokenizers!=0.11.3,>=0.11.1 in /usr/local/lib/python3.7/dist-packages (from transformers<5.0.0,>=4.6.0->sentence-transformers) (0.11.6)\n",
            "Requirement already satisfied: requests in /usr/local/lib/python3.7/dist-packages (from transformers<5.0.0,>=4.6.0->sentence-transformers) (2.23.0)\n",
            "Requirement already satisfied: pyyaml>=5.1 in /usr/local/lib/python3.7/dist-packages (from transformers<5.0.0,>=4.6.0->sentence-transformers) (6.0)\n",
            "Requirement already satisfied: sacremoses in /usr/local/lib/python3.7/dist-packages (from transformers<5.0.0,>=4.6.0->sentence-transformers) (0.0.47)\n",
            "Requirement already satisfied: filelock in /usr/local/lib/python3.7/dist-packages (from transformers<5.0.0,>=4.6.0->sentence-transformers) (3.6.0)\n",
            "Requirement already satisfied: packaging>=20.0 in /usr/local/lib/python3.7/dist-packages (from transformers<5.0.0,>=4.6.0->sentence-transformers) (21.3)\n",
            "Requirement already satisfied: pyparsing!=3.0.5,>=2.0.2 in /usr/local/lib/python3.7/dist-packages (from packaging>=20.0->transformers<5.0.0,>=4.6.0->sentence-transformers) (3.0.7)\n",
            "Requirement already satisfied: zipp>=0.5 in /usr/local/lib/python3.7/dist-packages (from importlib-metadata->transformers<5.0.0,>=4.6.0->sentence-transformers) (3.7.0)\n",
            "Requirement already satisfied: six in /usr/local/lib/python3.7/dist-packages (from nltk->sentence-transformers) (1.15.0)\n",
            "Requirement already satisfied: idna<3,>=2.5 in /usr/local/lib/python3.7/dist-packages (from requests->transformers<5.0.0,>=4.6.0->sentence-transformers) (2.10)\n",
            "Requirement already satisfied: chardet<4,>=3.0.2 in /usr/local/lib/python3.7/dist-packages (from requests->transformers<5.0.0,>=4.6.0->sentence-transformers) (3.0.4)\n",
            "Requirement already satisfied: certifi>=2017.4.17 in /usr/local/lib/python3.7/dist-packages (from requests->transformers<5.0.0,>=4.6.0->sentence-transformers) (2021.10.8)\n",
            "Requirement already satisfied: urllib3!=1.25.0,!=1.25.1,<1.26,>=1.21.1 in /usr/local/lib/python3.7/dist-packages (from requests->transformers<5.0.0,>=4.6.0->sentence-transformers) (1.24.3)\n",
            "Requirement already satisfied: click in /usr/local/lib/python3.7/dist-packages (from sacremoses->transformers<5.0.0,>=4.6.0->sentence-transformers) (7.1.2)\n",
            "Requirement already satisfied: joblib in /usr/local/lib/python3.7/dist-packages (from sacremoses->transformers<5.0.0,>=4.6.0->sentence-transformers) (1.1.0)\n",
            "Requirement already satisfied: threadpoolctl>=2.0.0 in /usr/local/lib/python3.7/dist-packages (from scikit-learn->sentence-transformers) (3.1.0)\n",
            "Requirement already satisfied: pillow!=8.3.0,>=5.3.0 in /usr/local/lib/python3.7/dist-packages (from torchvision->sentence-transformers) (7.1.2)\n",
            "Requirement already satisfied: flaml in /usr/local/lib/python3.7/dist-packages (0.10.0)\n",
            "Requirement already satisfied: scikit-learn>=0.24 in /usr/local/lib/python3.7/dist-packages (from flaml) (1.0.2)\n",
            "Requirement already satisfied: lightgbm>=2.3.1 in /usr/local/lib/python3.7/dist-packages (from flaml) (3.3.2)\n",
            "Requirement already satisfied: pandas>=1.1.4 in /usr/local/lib/python3.7/dist-packages (from flaml) (1.3.5)\n",
            "Requirement already satisfied: scipy>=1.4.1 in /usr/local/lib/python3.7/dist-packages (from flaml) (1.4.1)\n",
            "Requirement already satisfied: xgboost<=1.3.3,>=0.90 in /usr/local/lib/python3.7/dist-packages (from flaml) (0.90)\n",
            "Requirement already satisfied: NumPy>=1.16.2 in /usr/local/lib/python3.7/dist-packages (from flaml) (1.21.5)\n",
            "Requirement already satisfied: wheel in /usr/local/lib/python3.7/dist-packages (from lightgbm>=2.3.1->flaml) (0.37.1)\n",
            "Requirement already satisfied: python-dateutil>=2.7.3 in /usr/local/lib/python3.7/dist-packages (from pandas>=1.1.4->flaml) (2.8.2)\n",
            "Requirement already satisfied: pytz>=2017.3 in /usr/local/lib/python3.7/dist-packages (from pandas>=1.1.4->flaml) (2018.9)\n",
            "Requirement already satisfied: six>=1.5 in /usr/local/lib/python3.7/dist-packages (from python-dateutil>=2.7.3->pandas>=1.1.4->flaml) (1.15.0)\n",
            "Requirement already satisfied: joblib>=0.11 in /usr/local/lib/python3.7/dist-packages (from scikit-learn>=0.24->flaml) (1.1.0)\n",
            "Requirement already satisfied: threadpoolctl>=2.0.0 in /usr/local/lib/python3.7/dist-packages (from scikit-learn>=0.24->flaml) (3.1.0)\n"
          ]
        }
      ],
      "source": [
        "!pip install -U sentence-transformers\n",
        "!pip install flaml"
      ]
    },
    {
      "cell_type": "code",
      "source": [
        "import numpy as np\n",
        "import pandas as pd\n",
        "from google.colab import drive\n",
        "from sentence_transformers import SentenceTransformer\n",
        "from sklearn.metrics import classification_report, classification_report, confusion_matrix, ConfusionMatrixDisplay\n",
        "from sklearn.model_selection import train_test_split\n",
        "import matplotlib.pyplot as plt\n",
        "from flaml import AutoML\n",
        "drive.mount('/content/drive/')"
      ],
      "metadata": {
        "colab": {
          "base_uri": "https://localhost:8080/"
        },
        "id": "kwxxlHonz6Qp",
        "outputId": "f320cb32-10b7-4806-801c-b990b174642f"
      },
      "execution_count": 2,
      "outputs": [
        {
          "output_type": "stream",
          "name": "stdout",
          "text": [
            "Drive already mounted at /content/drive/; to attempt to forcibly remount, call drive.mount(\"/content/drive/\", force_remount=True).\n"
          ]
        }
      ]
    },
    {
      "cell_type": "code",
      "source": [
        "df = pd.read_csv('/content/drive/MyDrive/GHDomains/expanded_frame_final.csv')\n",
        "df = df[['Description', 'Domain']]"
      ],
      "metadata": {
        "id": "TY5uOp_W0GKy"
      },
      "execution_count": 3,
      "outputs": []
    },
    {
      "cell_type": "code",
      "source": [
        "df['Domain'].value_counts(normalize=True)"
      ],
      "metadata": {
        "colab": {
          "base_uri": "https://localhost:8080/"
        },
        "id": "U9-Bx10dI8Iq",
        "outputId": "ab5c03c7-9f97-49a3-f60e-7addfa3f4b14"
      },
      "execution_count": 4,
      "outputs": [
        {
          "output_type": "execute_result",
          "data": {
            "text/plain": [
              "Web libraries and frameworks        0.3070\n",
              "Non-web libraries and frameworks    0.2878\n",
              "Software tools                      0.1944\n",
              "Application software                0.0874\n",
              "Documentation                       0.0866\n",
              "System software                     0.0368\n",
              "Name: Domain, dtype: float64"
            ]
          },
          "metadata": {},
          "execution_count": 4
        }
      ]
    },
    {
      "cell_type": "code",
      "source": [
        "sentences = df['Description'].astype(str).to_list()\n",
        "model = SentenceTransformer('sentence-transformers/all-mpnet-base-v2')\n",
        "embeddings = model.encode(sentences)\n"
      ],
      "metadata": {
        "id": "fxMdIkiA0IXh"
      },
      "execution_count": 5,
      "outputs": []
    },
    {
      "cell_type": "code",
      "source": [
        "print(embeddings)"
      ],
      "metadata": {
        "colab": {
          "base_uri": "https://localhost:8080/"
        },
        "id": "xG4H1Pbr0Hv4",
        "outputId": "b89e4eca-9f48-48ba-c487-0f5c272af0da"
      },
      "execution_count": 6,
      "outputs": [
        {
          "output_type": "stream",
          "name": "stdout",
          "text": [
            "[[-0.04548993  0.02769925 -0.03909118 ... -0.0459747   0.094528\n",
            "  -0.0266563 ]\n",
            " [ 0.04029812 -0.04677185 -0.03203496 ...  0.03065734 -0.00314759\n",
            "  -0.00266311]\n",
            " [-0.0700078  -0.01342771 -0.03766381 ...  0.0441578  -0.03241105\n",
            "  -0.02198323]\n",
            " ...\n",
            " [ 0.02449287 -0.00454703 -0.03171149 ... -0.01806248 -0.04499822\n",
            "  -0.04802662]\n",
            " [ 0.00537236  0.00757165 -0.00454085 ... -0.03616588  0.02678915\n",
            "  -0.02734574]\n",
            " [-0.03769108 -0.06433064 -0.02846344 ... -0.04777469  0.00284626\n",
            "   0.00035598]]\n"
          ]
        }
      ]
    },
    {
      "cell_type": "code",
      "source": [
        "X_train, X_test, y_train, y_test = train_test_split(embeddings, df['Domain'], test_size=0.1, random_state=42, stratify=df['Domain'])"
      ],
      "metadata": {
        "id": "-MRwpVwA19ZA"
      },
      "execution_count": 7,
      "outputs": []
    },
    {
      "cell_type": "code",
      "source": [
        "automl = AutoML()\n",
        "settings = {\n",
        "    \"time_budget\": 1000,  # total running time in seconds\n",
        "    \"metric\": 'macro_f1',  # can be: 'r2', 'rmse', 'mae', 'mse', 'accuracy', 'roc_auc', 'roc_auc_ovr',\n",
        "                           # 'roc_auc_ovo', 'log_loss', 'mape', 'f1', 'ap', 'ndcg', 'micro_f1', 'macro_f1'\n",
        "    \"task\": 'classification',  # task type\n",
        "    \"eval_method\" : 'cv',\n",
        "    \"n_splits\" : 10,\n",
        "    \"seed\": 42,    # random seed\n",
        "}"
      ],
      "metadata": {
        "id": "eq_xbcV32i3H"
      },
      "execution_count": 8,
      "outputs": []
    },
    {
      "cell_type": "code",
      "source": [
        "automl.fit(X_train=X_train, y_train=y_train, **settings)"
      ],
      "metadata": {
        "colab": {
          "base_uri": "https://localhost:8080/"
        },
        "id": "d4nYf6fe2jfO",
        "outputId": "7e0baf89-127a-44f9-e392-64043a0c227b"
      },
      "execution_count": 9,
      "outputs": [
        {
          "output_type": "stream",
          "name": "stderr",
          "text": [
            "[flaml.automl: 03-09 01:00:02] {2068} INFO - task = classification\n",
            "[flaml.automl: 03-09 01:00:02] {2070} INFO - Data split method: stratified\n",
            "[flaml.automl: 03-09 01:00:02] {2074} INFO - Evaluation method: cv\n",
            "[flaml.automl: 03-09 01:00:02] {2155} INFO - Minimizing error metric: 1-macro_f1\n",
            "[flaml.automl: 03-09 01:00:02] {2248} INFO - List of ML learners in AutoML Run: ['lgbm', 'rf', 'xgboost', 'extra_tree', 'xgb_limitdepth', 'lrl1']\n",
            "[flaml.automl: 03-09 01:00:02] {2501} INFO - iteration 0, current learner lgbm\n",
            "[flaml.automl: 03-09 01:00:24] {2617} INFO - Estimated sufficient time budget=217070s. Estimated necessary time budget=5003s.\n",
            "[flaml.automl: 03-09 01:00:24] {2669} INFO -  at 21.7s,\testimator lgbm's best error=0.7495,\tbest estimator lgbm's best error=0.7495\n",
            "[flaml.automl: 03-09 01:00:24] {2501} INFO - iteration 1, current learner lgbm\n",
            "[flaml.automl: 03-09 01:00:47] {2669} INFO -  at 45.0s,\testimator lgbm's best error=0.7495,\tbest estimator lgbm's best error=0.7495\n",
            "[flaml.automl: 03-09 01:00:47] {2501} INFO - iteration 2, current learner lgbm\n",
            "[flaml.automl: 03-09 01:01:05] {2669} INFO -  at 62.6s,\testimator lgbm's best error=0.6535,\tbest estimator lgbm's best error=0.6535\n",
            "[flaml.automl: 03-09 01:01:05] {2501} INFO - iteration 3, current learner xgboost\n",
            "[flaml.automl: 03-09 01:01:35] {2669} INFO -  at 92.6s,\testimator xgboost's best error=0.6726,\tbest estimator lgbm's best error=0.6535\n",
            "[flaml.automl: 03-09 01:01:35] {2501} INFO - iteration 4, current learner lgbm\n",
            "[flaml.automl: 03-09 01:01:58] {2669} INFO -  at 115.4s,\testimator lgbm's best error=0.5584,\tbest estimator lgbm's best error=0.5584\n",
            "[flaml.automl: 03-09 01:01:58] {2501} INFO - iteration 5, current learner lgbm\n",
            "[flaml.automl: 03-09 01:02:21] {2669} INFO -  at 139.2s,\testimator lgbm's best error=0.5584,\tbest estimator lgbm's best error=0.5584\n",
            "[flaml.automl: 03-09 01:02:21] {2501} INFO - iteration 6, current learner lgbm\n",
            "[flaml.automl: 03-09 01:02:57] {2669} INFO -  at 175.2s,\testimator lgbm's best error=0.5347,\tbest estimator lgbm's best error=0.5347\n",
            "[flaml.automl: 03-09 01:02:57] {2501} INFO - iteration 7, current learner lgbm\n",
            "[flaml.automl: 03-09 01:04:02] {2669} INFO -  at 240.2s,\testimator lgbm's best error=0.4924,\tbest estimator lgbm's best error=0.4924\n",
            "[flaml.automl: 03-09 01:04:02] {2501} INFO - iteration 8, current learner lgbm\n",
            "[flaml.automl: 03-09 01:04:38] {2669} INFO -  at 276.2s,\testimator lgbm's best error=0.4924,\tbest estimator lgbm's best error=0.4924\n",
            "[flaml.automl: 03-09 01:04:38] {2501} INFO - iteration 9, current learner xgboost\n",
            "[flaml.automl: 03-09 01:05:09] {2669} INFO -  at 307.0s,\testimator xgboost's best error=0.6726,\tbest estimator lgbm's best error=0.4924\n",
            "[flaml.automl: 03-09 01:05:09] {2501} INFO - iteration 10, current learner xgboost\n",
            "[flaml.automl: 03-09 01:05:44] {2669} INFO -  at 341.8s,\testimator xgboost's best error=0.6273,\tbest estimator lgbm's best error=0.4924\n",
            "[flaml.automl: 03-09 01:05:44] {2501} INFO - iteration 11, current learner extra_tree\n",
            "[flaml.automl: 03-09 01:05:46] {2669} INFO -  at 344.0s,\testimator extra_tree's best error=0.8171,\tbest estimator lgbm's best error=0.4924\n",
            "[flaml.automl: 03-09 01:05:46] {2501} INFO - iteration 12, current learner extra_tree\n",
            "[flaml.automl: 03-09 01:05:49] {2669} INFO -  at 346.6s,\testimator extra_tree's best error=0.8171,\tbest estimator lgbm's best error=0.4924\n",
            "[flaml.automl: 03-09 01:05:49] {2501} INFO - iteration 13, current learner extra_tree\n",
            "[flaml.automl: 03-09 01:05:51] {2669} INFO -  at 348.9s,\testimator extra_tree's best error=0.8013,\tbest estimator lgbm's best error=0.4924\n",
            "[flaml.automl: 03-09 01:05:51] {2501} INFO - iteration 14, current learner rf\n",
            "[flaml.automl: 03-09 01:05:53] {2669} INFO -  at 351.1s,\testimator rf's best error=0.7936,\tbest estimator lgbm's best error=0.4924\n",
            "[flaml.automl: 03-09 01:05:53] {2501} INFO - iteration 15, current learner rf\n",
            "[flaml.automl: 03-09 01:05:59] {2669} INFO -  at 357.1s,\testimator rf's best error=0.7936,\tbest estimator lgbm's best error=0.4924\n",
            "[flaml.automl: 03-09 01:05:59] {2501} INFO - iteration 16, current learner rf\n",
            "[flaml.automl: 03-09 01:06:03] {2669} INFO -  at 360.4s,\testimator rf's best error=0.7678,\tbest estimator lgbm's best error=0.4924\n",
            "[flaml.automl: 03-09 01:06:03] {2501} INFO - iteration 17, current learner extra_tree\n",
            "[flaml.automl: 03-09 01:06:05] {2669} INFO -  at 362.8s,\testimator extra_tree's best error=0.7868,\tbest estimator lgbm's best error=0.4924\n",
            "[flaml.automl: 03-09 01:06:05] {2501} INFO - iteration 18, current learner lgbm\n",
            "[flaml.automl: 03-09 01:06:56] {2669} INFO -  at 413.6s,\testimator lgbm's best error=0.4924,\tbest estimator lgbm's best error=0.4924\n",
            "[flaml.automl: 03-09 01:06:56] {2501} INFO - iteration 19, current learner extra_tree\n",
            "[flaml.automl: 03-09 01:06:58] {2669} INFO -  at 415.9s,\testimator extra_tree's best error=0.7868,\tbest estimator lgbm's best error=0.4924\n",
            "[flaml.automl: 03-09 01:06:58] {2501} INFO - iteration 20, current learner lgbm\n",
            "[flaml.automl: 03-09 01:08:19] {2669} INFO -  at 496.5s,\testimator lgbm's best error=0.4924,\tbest estimator lgbm's best error=0.4924\n",
            "[flaml.automl: 03-09 01:08:19] {2501} INFO - iteration 21, current learner rf\n",
            "[flaml.automl: 03-09 01:08:23] {2669} INFO -  at 500.9s,\testimator rf's best error=0.7583,\tbest estimator lgbm's best error=0.4924\n",
            "[flaml.automl: 03-09 01:08:23] {2501} INFO - iteration 22, current learner lgbm\n",
            "[flaml.automl: 03-09 01:10:54] {2669} INFO -  at 652.3s,\testimator lgbm's best error=0.4924,\tbest estimator lgbm's best error=0.4924\n",
            "[flaml.automl: 03-09 01:10:54] {2501} INFO - iteration 23, current learner lgbm\n",
            "[flaml.automl: 03-09 01:11:21] {2669} INFO -  at 679.2s,\testimator lgbm's best error=0.4924,\tbest estimator lgbm's best error=0.4924\n",
            "[flaml.automl: 03-09 01:11:21] {2501} INFO - iteration 24, current learner extra_tree\n",
            "[flaml.automl: 03-09 01:11:24] {2669} INFO -  at 681.6s,\testimator extra_tree's best error=0.7868,\tbest estimator lgbm's best error=0.4924\n",
            "[flaml.automl: 03-09 01:11:24] {2501} INFO - iteration 25, current learner extra_tree\n",
            "[flaml.automl: 03-09 01:11:26] {2669} INFO -  at 683.9s,\testimator extra_tree's best error=0.7718,\tbest estimator lgbm's best error=0.4924\n",
            "[flaml.automl: 03-09 01:11:26] {2501} INFO - iteration 26, current learner rf\n",
            "[flaml.automl: 03-09 01:11:33] {2669} INFO -  at 691.2s,\testimator rf's best error=0.7583,\tbest estimator lgbm's best error=0.4924\n",
            "[flaml.automl: 03-09 01:11:33] {2501} INFO - iteration 27, current learner extra_tree\n",
            "[flaml.automl: 03-09 01:11:36] {2669} INFO -  at 693.5s,\testimator extra_tree's best error=0.7682,\tbest estimator lgbm's best error=0.4924\n",
            "[flaml.automl: 03-09 01:11:36] {2501} INFO - iteration 28, current learner extra_tree\n",
            "[flaml.automl: 03-09 01:11:38] {2669} INFO -  at 695.9s,\testimator extra_tree's best error=0.7682,\tbest estimator lgbm's best error=0.4924\n",
            "[flaml.automl: 03-09 01:11:38] {2501} INFO - iteration 29, current learner xgboost\n",
            "[flaml.automl: 03-09 01:12:07] {2669} INFO -  at 724.8s,\testimator xgboost's best error=0.6273,\tbest estimator lgbm's best error=0.4924\n",
            "[flaml.automl: 03-09 01:12:07] {2501} INFO - iteration 30, current learner lgbm\n",
            "[flaml.automl: 03-09 01:12:41] {2669} INFO -  at 759.0s,\testimator lgbm's best error=0.4924,\tbest estimator lgbm's best error=0.4924\n",
            "[flaml.automl: 03-09 01:12:41] {2501} INFO - iteration 31, current learner lgbm\n",
            "[flaml.automl: 03-09 01:14:21] {2669} INFO -  at 859.0s,\testimator lgbm's best error=0.4924,\tbest estimator lgbm's best error=0.4924\n",
            "[flaml.automl: 03-09 01:14:21] {2501} INFO - iteration 32, current learner lgbm\n",
            "[flaml.automl: 03-09 01:16:32] {2669} INFO -  at 989.5s,\testimator lgbm's best error=0.4924,\tbest estimator lgbm's best error=0.4924\n",
            "[flaml.automl: 03-09 01:16:32] {2501} INFO - iteration 33, current learner rf\n",
            "[flaml.automl: 03-09 01:16:38] {2669} INFO -  at 996.1s,\testimator rf's best error=0.7583,\tbest estimator lgbm's best error=0.4924\n",
            "[flaml.automl: 03-09 01:16:38] {2501} INFO - iteration 34, current learner xgb_limitdepth\n",
            "[flaml.automl: 03-09 01:16:43] {2669} INFO -  at 1001.0s,\testimator xgb_limitdepth's best error=0.6614,\tbest estimator lgbm's best error=0.4924\n",
            "[flaml.automl: 03-09 01:16:50] {2895} INFO - retrain lgbm for 6.9s\n",
            "[flaml.automl: 03-09 01:16:50] {2900} INFO - retrained model: LGBMClassifier(colsample_bytree=0.996498378007316,\n",
            "               learning_rate=0.21480951571013288, max_bin=63,\n",
            "               min_child_samples=13, n_estimators=37, num_leaves=9,\n",
            "               reg_alpha=0.002255250947893723, reg_lambda=0.10239167483099826,\n",
            "               verbose=-1)\n",
            "[flaml.automl: 03-09 01:16:50] {2277} INFO - fit succeeded\n",
            "[flaml.automl: 03-09 01:16:50] {2279} INFO - Time taken to find the best model: 240.1811821460724\n"
          ]
        }
      ]
    },
    {
      "cell_type": "code",
      "source": [
        "'''retrieve best config and best learner'''\n",
        "print('Best ML leaner:', automl.best_estimator)\n",
        "print('Best hyperparmeter config:', automl.best_config)\n",
        "print('Best accuracy on validation data: {0:.4g}'.format(1-automl.best_loss))\n",
        "print('Training duration of best run: {0:.4g} s'.format(automl.best_config_train_time))"
      ],
      "metadata": {
        "colab": {
          "base_uri": "https://localhost:8080/"
        },
        "id": "yeaZ7eHe2pEl",
        "outputId": "e81d7455-7d93-4931-cf28-6593476083cd"
      },
      "execution_count": 10,
      "outputs": [
        {
          "output_type": "stream",
          "name": "stdout",
          "text": [
            "Best ML leaner: lgbm\n",
            "Best hyperparmeter config: {'n_estimators': 37, 'num_leaves': 9, 'min_child_samples': 13, 'learning_rate': 0.21480951571013288, 'log_max_bin': 6, 'colsample_bytree': 0.996498378007316, 'reg_alpha': 0.002255250947893723, 'reg_lambda': 0.10239167483099826}\n",
            "Best accuracy on validation data: 0.5076\n",
            "Training duration of best run: 6.892 s\n"
          ]
        }
      ]
    },
    {
      "cell_type": "code",
      "source": [
        "'''compute predictions of testing dataset''' \n",
        "y_pred = automl.predict(X_test)\n",
        "y_pred_proba = automl.predict_proba(X_test)[:,1]"
      ],
      "metadata": {
        "id": "aVXANl7j4ssf"
      },
      "execution_count": 11,
      "outputs": []
    },
    {
      "cell_type": "code",
      "source": [
        "target_names, counts = np.unique(y_test, return_counts=True)\n",
        "print(np.asarray((target_names, counts)).T)"
      ],
      "metadata": {
        "colab": {
          "base_uri": "https://localhost:8080/"
        },
        "id": "UfhHhtC_5yQ8",
        "outputId": "3212d8f7-af2c-439d-8e65-ada3ac524fae"
      },
      "execution_count": 17,
      "outputs": [
        {
          "output_type": "stream",
          "name": "stdout",
          "text": [
            "[['Application software' 44]\n",
            " ['Documentation' 43]\n",
            " ['Non-web libraries and frameworks' 144]\n",
            " ['Software tools' 97]\n",
            " ['System software' 18]\n",
            " ['Web libraries and frameworks' 154]]\n"
          ]
        }
      ]
    },
    {
      "cell_type": "code",
      "source": [
        "print(classification_report(y_test, y_pred, target_names=target_names))"
      ],
      "metadata": {
        "colab": {
          "base_uri": "https://localhost:8080/"
        },
        "id": "zLzxylST5m0h",
        "outputId": "061e2301-8a15-4b6c-fca7-dcd803a813fc"
      },
      "execution_count": 13,
      "outputs": [
        {
          "output_type": "stream",
          "name": "stdout",
          "text": [
            "                                  precision    recall  f1-score   support\n",
            "\n",
            "            Application software       0.35      0.20      0.26        44\n",
            "                   Documentation       0.69      0.42      0.52        43\n",
            "Non-web libraries and frameworks       0.63      0.72      0.67       144\n",
            "                  Software tools       0.56      0.56      0.56        97\n",
            "                 System software       0.60      0.33      0.43        18\n",
            "    Web libraries and frameworks       0.66      0.75      0.70       154\n",
            "\n",
            "                        accuracy                           0.61       500\n",
            "                       macro avg       0.58      0.50      0.52       500\n",
            "                    weighted avg       0.60      0.61      0.60       500\n",
            "\n"
          ]
        }
      ]
    },
    {
      "cell_type": "code",
      "source": [
        "cnf_matrix = confusion_matrix(y_test, y_pred)\n",
        "disp = ConfusionMatrixDisplay(confusion_matrix=cnf_matrix, display_labels=target_names).plot(cmap=plt.cm.Blues, xticks_rotation='vertical')"
      ],
      "metadata": {
        "colab": {
          "base_uri": "https://localhost:8080/",
          "height": 441
        },
        "id": "xHrX-dfOIT5z",
        "outputId": "268a5ac4-2c83-419f-b1e3-5dbe7dbceb7a"
      },
      "execution_count": 14,
      "outputs": [
        {
          "output_type": "display_data",
          "data": {
            "image/png": "[encoded data removed]",
            "text/plain": [
              "<Figure size 432x288 with 2 Axes>"
            ]
          },
          "metadata": {
            "needs_background": "light"
          }
        }
      ]
    }
  ]
}