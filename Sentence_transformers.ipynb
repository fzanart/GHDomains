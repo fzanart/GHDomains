{
  "cells": [
    {
      "cell_type": "markdown",
      "metadata": {
        "id": "view-in-github",
        "colab_type": "text"
      },
      "source": [
        "<a href=\"https://colab.research.google.com/github/fzanart/GHDomains/blob/main/Sentence_transformers.ipynb\" target=\"_parent\"><img src=\"https://colab.research.google.com/assets/colab-badge.svg\" alt=\"Open In Colab\"/></a>"
      ]
    },
    {
      "cell_type": "code",
      "execution_count": 56,
      "metadata": {
        "id": "M12Ijr7UzzJv"
      },
      "outputs": [],
      "source": [
        "%%capture\n",
        "!pip install -U sentence-transformers\n",
        "!pip install flaml"
      ]
    },
    {
      "cell_type": "code",
      "execution_count": 57,
      "metadata": {
        "colab": {
          "base_uri": "https://localhost:8080/"
        },
        "id": "kwxxlHonz6Qp",
        "outputId": "3ec926b7-0e71-4819-a39d-4a47972fcee8"
      },
      "outputs": [
        {
          "output_type": "stream",
          "name": "stdout",
          "text": [
            "Drive already mounted at /content/drive/; to attempt to forcibly remount, call drive.mount(\"/content/drive/\", force_remount=True).\n"
          ]
        }
      ],
      "source": [
        "from sentence_transformers import SentenceTransformer\n",
        "from flaml import AutoML\n",
        "import numpy as np\n",
        "import pandas as pd\n",
        "from google.colab import drive\n",
        "from sklearn.metrics import classification_report, classification_report, confusion_matrix, ConfusionMatrixDisplay\n",
        "from sklearn.feature_selection import chi2, SelectKBest, SelectFromModel\n",
        "from sklearn.model_selection import train_test_split\n",
        "from sklearn.feature_extraction.text import CountVectorizer\n",
        "from sklearn.svm import LinearSVC\n",
        "from sklearn import preprocessing\n",
        "import matplotlib.pyplot as plt\n",
        "import markdown\n",
        "import lxml\n",
        "from bs4 import BeautifulSoup\n",
        "import re\n",
        "import time\n",
        "import unicodedata\n",
        "import spacy\n",
        "nlp = spacy.load(\"en_core_web_sm\", disable=['tagger', 'parser', 'ner'])\n",
        "drive.mount('/content/drive/')"
      ]
    },
    {
      "cell_type": "code",
      "execution_count": 58,
      "metadata": {
        "colab": {
          "base_uri": "https://localhost:8080/",
          "height": 1000
        },
        "id": "TY5uOp_W0GKy",
        "outputId": "8df84d8a-e108-4968-a40d-2e889a754f5a"
      },
      "outputs": [
        {
          "output_type": "execute_result",
          "data": {
            "text/plain": [
              "         Stars    Forks                                      Language dict  \\\n",
              "0     323943.0  25410.0  [{'JavaScript': 1492576, 'CSS': 103413, 'Shell...   \n",
              "1     150012.0  71296.0  [{'JavaScript': 738421, 'HTML': 575762, 'SCSS'...   \n",
              "2      96800.0  22341.0                             [{'JavaScript': 2361}]   \n",
              "3     168294.0  33061.0  [{'JavaScript': 5539058, 'HTML': 115651, 'CSS'...   \n",
              "4      59608.0  28135.0  [{'JavaScript': 6810485, 'HTML': 84393, 'Shell...   \n",
              "...        ...      ...                                                ...   \n",
              "4943    1850.0    349.0                                  [{'Java': 32480}]   \n",
              "4944    1780.0    178.0  [{'JavaScript': 123266, 'CSS': 6537, 'HTML': 1...   \n",
              "4945    3138.0    300.0                  [{'C': 77760, 'Assembly': 15792}]   \n",
              "4946    1668.0    441.0              [{'Objective-C': 48239, 'Ruby': 680}]   \n",
              "4947    2926.0    722.0  [{'XSLT': 7555212, 'C++': 4783229, 'Python': 2...   \n",
              "\n",
              "                                            Description  \\\n",
              "0     freeCodeCamp.org's open source codebase and cu...   \n",
              "1     The most popular HTML, CSS, and JavaScript fra...   \n",
              "2     Bring data to life with SVG, Canvas and HTML. ...   \n",
              "3     A declarative, efficient, and flexible JavaScr...   \n",
              "4               AngularJS - HTML enhanced for web apps!   \n",
              "...                                                 ...   \n",
              "4943  This project aims to provide a working page fl...   \n",
              "4944  JavaScript Client-Side Cookie Manipulation Lib...   \n",
              "4945  The earliest versions of the very first c comp...   \n",
              "4946  A clone of the UIImagePickerController using t...   \n",
              "4947  Mapnik is an open source toolkit for developin...   \n",
              "\n",
              "                                                    Url  \\\n",
              "0     https://api.github.com/repos/freeCodeCamp/free...   \n",
              "1           https://api.github.com/repos/twbs/bootstrap   \n",
              "2                    https://api.github.com/repos/d3/d3   \n",
              "3           https://api.github.com/repos/facebook/react   \n",
              "4       https://api.github.com/repos/angular/angular.js   \n",
              "...                                                 ...   \n",
              "4943  https://api.github.com/repos/Yalantis/FlipView...   \n",
              "4944   https://api.github.com/repos/ScottHamper/Cookies   \n",
              "4945    https://api.github.com/repos/mortdeus/legacy-cc   \n",
              "4946  https://api.github.com/repos/B-Sides/ELCImageP...   \n",
              "4947         https://api.github.com/repos/mapnik/mapnik   \n",
              "\n",
              "                                                 Readme  \\\n",
              "0     ![freeCodeCamp.org Social Banner](https://s3.a...   \n",
              "1     <p align=\"center\">\\n  <a href=\"https://getboot...   \n",
              "2     # D3: Data-Driven Documents\\n\\n<a href=\"https:...   \n",
              "3     # [React](https://reactjs.org/) &middot; [![Gi...   \n",
              "4     AngularJS [![CircleCI](https://circleci.com/gh...   \n",
              "...                                                 ...   \n",
              "4943  # Changes:\\n\\n  * Made clickable views like a ...   \n",
              "4944  # Cookies.js\\n\\nCookies.js is a small client-s...   \n",
              "4945  legacy-cc\\n=========\\n\\nThe earliest versions ...   \n",
              "4946  # ELCImagePickerController\\n\\n*A clone of the ...   \n",
              "4947  ```\\n    _/      _/                           ...   \n",
              "\n",
              "                                                 Topics  \\\n",
              "0     ['learn-to-code', 'nonprofits', 'programming',...   \n",
              "1     ['css', 'bootstrap', 'javascript', 'html', 'sc...   \n",
              "2                                     ['visualization']   \n",
              "3     ['javascript', 'react', 'frontend', 'declarati...   \n",
              "4                                                   NaN   \n",
              "...                                                 ...   \n",
              "4943  ['android', 'java', 'viewpager', 'animation', ...   \n",
              "4944                                                NaN   \n",
              "4945                                                NaN   \n",
              "4946                                                NaN   \n",
              "4947  ['mapnik', 'c-plus-plus', 'mapping', 'cartogra...   \n",
              "\n",
              "                                              Languages  \\\n",
              "0     ['JavaScript', 'CSS', 'Shell', 'HTML', 'EJS', ...   \n",
              "1     ['JavaScript', 'HTML', 'SCSS', 'CSS', 'PowerSh...   \n",
              "2                                        ['JavaScript']   \n",
              "3     ['JavaScript', 'HTML', 'CSS', 'C++', 'TypeScri...   \n",
              "4         ['JavaScript', 'HTML', 'Shell', 'PHP', 'CSS']   \n",
              "...                                                 ...   \n",
              "4943                                           ['Java']   \n",
              "4944                      ['JavaScript', 'CSS', 'HTML']   \n",
              "4945                                  ['C', 'Assembly']   \n",
              "4946                            ['Objective-C', 'Ruby']   \n",
              "4947  ['XSLT', 'C++', 'Python', 'HTML', 'JavaScript'...   \n",
              "\n",
              "                                      Licence  \\\n",
              "0     BSD 3-Clause \"New\" or \"Revised\" License   \n",
              "1                                 MIT License   \n",
              "2     BSD 3-Clause \"New\" or \"Revised\" License   \n",
              "3                                 MIT License   \n",
              "4                                 MIT License   \n",
              "...                                       ...   \n",
              "4943                                      NaN   \n",
              "4944                            The Unlicense   \n",
              "4945                                      NaN   \n",
              "4946                                      NaN   \n",
              "4947   GNU Lesser General Public License v2.1   \n",
              "\n",
              "                                                 Labels  ...  \\\n",
              "0     ['crowdin-sync', 'first timers only', 'help wa...  ...   \n",
              "1     ['3rd-party', 'CI', 'accessibility', 'awaiting...  ...   \n",
              "2     ['bug', 'code', 'docs', 'droid', 'ios', 'linux...  ...   \n",
              "3     ['Browser: IE', 'Browser: Safari', 'CLA Signed...  ...   \n",
              "4     ['In Progress', 'Intent-To-Deprecate', 'Known ...  ...   \n",
              "...                                                 ...  ...   \n",
              "4943  ['bug', 'duplicate', 'enhancement', 'help want...  ...   \n",
              "4944  ['bug', 'duplicate', 'enhancement', 'invalid',...  ...   \n",
              "4945  ['bug', 'duplicate', 'enhancement', 'invalid',...  ...   \n",
              "4946                                                NaN  ...   \n",
              "4947  ['breaking change', 'bug', 'c++11', 'c++14', '...  ...   \n",
              "\n",
              "                                               Contents  Description Length  \\\n",
              "0     ['.dockerignore', '.editorconfig', '.eslintign...                79.0   \n",
              "1     ['.babelrc.js', '.browserslistrc', '.bundlewat...               113.0   \n",
              "2     ['.gitignore', 'API.md', 'CHANGES.md', 'ISSUE_...                89.0   \n",
              "3     ['.circleci', '.codesandbox', '.editorconfig',...                87.0   \n",
              "4     ['.circleci', '.editorconfig', '.eslintignore'...                39.0   \n",
              "...                                                 ...                 ...   \n",
              "4943  ['.gitignore', 'README.md', 'build.gradle', 'f...                86.0   \n",
              "4944  ['.gitignore', 'CHANGELOG.md', 'README.md', 'U...                50.0   \n",
              "4945  ['Caldera-license.pdf', 'README.md', 'last1120...               118.0   \n",
              "4946  ['.gitignore', 'Classes', 'Default-568h@2x.png...               111.0   \n",
              "4947  ['.gitattributes', '.gitignore', '.gitmodules'...                68.0   \n",
              "\n",
              "      Readme Length Contributor Count Topic Count Content Count  \\\n",
              "0           18148.0             410.0        15.0          40.0   \n",
              "1           13218.0             375.0         7.0          26.0   \n",
              "2            2305.0             122.0         1.0          13.0   \n",
              "3            5166.0             431.0         6.0          29.0   \n",
              "4            5965.0             406.0         NaN          51.0   \n",
              "...             ...               ...         ...           ...   \n",
              "4943         4557.0               4.0         5.0          11.0   \n",
              "4944         7338.0              11.0         NaN           7.0   \n",
              "4945          866.0               2.0         NaN           4.0   \n",
              "4946         2960.0              23.0         NaN          14.0   \n",
              "4947         1929.0              91.0         9.0          29.0   \n",
              "\n",
              "                                  Name                            Domain  \\\n",
              "0            freeCodeCamp/freeCodeCamp                     Documentation   \n",
              "1                       twbs/bootstrap      Web libraries and frameworks   \n",
              "2                                d3/d3      Web libraries and frameworks   \n",
              "3                       facebook/react      Web libraries and frameworks   \n",
              "4                   angular/angular.js      Web libraries and frameworks   \n",
              "...                                ...                               ...   \n",
              "4943      Yalantis/FlipViewPager.Draco  Non-web libraries and frameworks   \n",
              "4944               ScottHamper/Cookies      Web libraries and frameworks   \n",
              "4945                mortdeus/legacy-cc                    Software tools   \n",
              "4946  B-Sides/ELCImagePickerController  Non-web libraries and frameworks   \n",
              "4947                     mapnik/mapnik  Non-web libraries and frameworks   \n",
              "\n",
              "      Main Language  Sum of bytes  \n",
              "0        JavaScript       1606036  \n",
              "1        JavaScript       1800587  \n",
              "2        JavaScript          2361  \n",
              "3        JavaScript       5815290  \n",
              "4        JavaScript       6937316  \n",
              "...             ...           ...  \n",
              "4943           Java         32480  \n",
              "4944     JavaScript        131183  \n",
              "4945              C         93552  \n",
              "4946    Objective-C         48919  \n",
              "4947           XSLT      15649909  \n",
              "\n",
              "[4948 rows x 25 columns]"
            ],
            "text/html": [
              "\n",
              "  <div id=\"df-be3c17a4-350b-44f3-8f7e-28f9dd5731ce\">\n",
              "    <div class=\"colab-df-container\">\n",
              "      <div>\n",
              "<style scoped>\n",
              "    .dataframe tbody tr th:only-of-type {\n",
              "        vertical-align: middle;\n",
              "    }\n",
              "\n",
              "    .dataframe tbody tr th {\n",
              "        vertical-align: top;\n",
              "    }\n",
              "\n",
              "    .dataframe thead th {\n",
              "        text-align: right;\n",
              "    }\n",
              "</style>\n",
              "<table border=\"1\" class=\"dataframe\">\n",
              "  <thead>\n",
              "    <tr style=\"text-align: right;\">\n",
              "      <th></th>\n",
              "      <th>Stars</th>\n",
              "      <th>Forks</th>\n",
              "      <th>Language dict</th>\n",
              "      <th>Description</th>\n",
              "      <th>Url</th>\n",
              "      <th>Readme</th>\n",
              "      <th>Topics</th>\n",
              "      <th>Languages</th>\n",
              "      <th>Licence</th>\n",
              "      <th>Labels</th>\n",
              "      <th>...</th>\n",
              "      <th>Contents</th>\n",
              "      <th>Description Length</th>\n",
              "      <th>Readme Length</th>\n",
              "      <th>Contributor Count</th>\n",
              "      <th>Topic Count</th>\n",
              "      <th>Content Count</th>\n",
              "      <th>Name</th>\n",
              "      <th>Domain</th>\n",
              "      <th>Main Language</th>\n",
              "      <th>Sum of bytes</th>\n",
              "    </tr>\n",
              "  </thead>\n",
              "  <tbody>\n",
              "    <tr>\n",
              "      <th>0</th>\n",
              "      <td>323943.0</td>\n",
              "      <td>25410.0</td>\n",
              "      <td>[{'JavaScript': 1492576, 'CSS': 103413, 'Shell...</td>\n",
              "      <td>freeCodeCamp.org's open source codebase and cu...</td>\n",
              "      <td>https://api.github.com/repos/freeCodeCamp/free...</td>\n",
              "      <td>![freeCodeCamp.org Social Banner](https://s3.a...</td>\n",
              "      <td>['learn-to-code', 'nonprofits', 'programming',...</td>\n",
              "      <td>['JavaScript', 'CSS', 'Shell', 'HTML', 'EJS', ...</td>\n",
              "      <td>BSD 3-Clause \"New\" or \"Revised\" License</td>\n",
              "      <td>['crowdin-sync', 'first timers only', 'help wa...</td>\n",
              "      <td>...</td>\n",
              "      <td>['.dockerignore', '.editorconfig', '.eslintign...</td>\n",
              "      <td>79.0</td>\n",
              "      <td>18148.0</td>\n",
              "      <td>410.0</td>\n",
              "      <td>15.0</td>\n",
              "      <td>40.0</td>\n",
              "      <td>freeCodeCamp/freeCodeCamp</td>\n",
              "      <td>Documentation</td>\n",
              "      <td>JavaScript</td>\n",
              "      <td>1606036</td>\n",
              "    </tr>\n",
              "    <tr>\n",
              "      <th>1</th>\n",
              "      <td>150012.0</td>\n",
              "      <td>71296.0</td>\n",
              "      <td>[{'JavaScript': 738421, 'HTML': 575762, 'SCSS'...</td>\n",
              "      <td>The most popular HTML, CSS, and JavaScript fra...</td>\n",
              "      <td>https://api.github.com/repos/twbs/bootstrap</td>\n",
              "      <td>&lt;p align=\"center\"&gt;\\n  &lt;a href=\"https://getboot...</td>\n",
              "      <td>['css', 'bootstrap', 'javascript', 'html', 'sc...</td>\n",
              "      <td>['JavaScript', 'HTML', 'SCSS', 'CSS', 'PowerSh...</td>\n",
              "      <td>MIT License</td>\n",
              "      <td>['3rd-party', 'CI', 'accessibility', 'awaiting...</td>\n",
              "      <td>...</td>\n",
              "      <td>['.babelrc.js', '.browserslistrc', '.bundlewat...</td>\n",
              "      <td>113.0</td>\n",
              "      <td>13218.0</td>\n",
              "      <td>375.0</td>\n",
              "      <td>7.0</td>\n",
              "      <td>26.0</td>\n",
              "      <td>twbs/bootstrap</td>\n",
              "      <td>Web libraries and frameworks</td>\n",
              "      <td>JavaScript</td>\n",
              "      <td>1800587</td>\n",
              "    </tr>\n",
              "    <tr>\n",
              "      <th>2</th>\n",
              "      <td>96800.0</td>\n",
              "      <td>22341.0</td>\n",
              "      <td>[{'JavaScript': 2361}]</td>\n",
              "      <td>Bring data to life with SVG, Canvas and HTML. ...</td>\n",
              "      <td>https://api.github.com/repos/d3/d3</td>\n",
              "      <td># D3: Data-Driven Documents\\n\\n&lt;a href=\"https:...</td>\n",
              "      <td>['visualization']</td>\n",
              "      <td>['JavaScript']</td>\n",
              "      <td>BSD 3-Clause \"New\" or \"Revised\" License</td>\n",
              "      <td>['bug', 'code', 'docs', 'droid', 'ios', 'linux...</td>\n",
              "      <td>...</td>\n",
              "      <td>['.gitignore', 'API.md', 'CHANGES.md', 'ISSUE_...</td>\n",
              "      <td>89.0</td>\n",
              "      <td>2305.0</td>\n",
              "      <td>122.0</td>\n",
              "      <td>1.0</td>\n",
              "      <td>13.0</td>\n",
              "      <td>d3/d3</td>\n",
              "      <td>Web libraries and frameworks</td>\n",
              "      <td>JavaScript</td>\n",
              "      <td>2361</td>\n",
              "    </tr>\n",
              "    <tr>\n",
              "      <th>3</th>\n",
              "      <td>168294.0</td>\n",
              "      <td>33061.0</td>\n",
              "      <td>[{'JavaScript': 5539058, 'HTML': 115651, 'CSS'...</td>\n",
              "      <td>A declarative, efficient, and flexible JavaScr...</td>\n",
              "      <td>https://api.github.com/repos/facebook/react</td>\n",
              "      <td># [React](https://reactjs.org/) &amp;middot; [![Gi...</td>\n",
              "      <td>['javascript', 'react', 'frontend', 'declarati...</td>\n",
              "      <td>['JavaScript', 'HTML', 'CSS', 'C++', 'TypeScri...</td>\n",
              "      <td>MIT License</td>\n",
              "      <td>['Browser: IE', 'Browser: Safari', 'CLA Signed...</td>\n",
              "      <td>...</td>\n",
              "      <td>['.circleci', '.codesandbox', '.editorconfig',...</td>\n",
              "      <td>87.0</td>\n",
              "      <td>5166.0</td>\n",
              "      <td>431.0</td>\n",
              "      <td>6.0</td>\n",
              "      <td>29.0</td>\n",
              "      <td>facebook/react</td>\n",
              "      <td>Web libraries and frameworks</td>\n",
              "      <td>JavaScript</td>\n",
              "      <td>5815290</td>\n",
              "    </tr>\n",
              "    <tr>\n",
              "      <th>4</th>\n",
              "      <td>59608.0</td>\n",
              "      <td>28135.0</td>\n",
              "      <td>[{'JavaScript': 6810485, 'HTML': 84393, 'Shell...</td>\n",
              "      <td>AngularJS - HTML enhanced for web apps!</td>\n",
              "      <td>https://api.github.com/repos/angular/angular.js</td>\n",
              "      <td>AngularJS [![CircleCI](https://circleci.com/gh...</td>\n",
              "      <td>NaN</td>\n",
              "      <td>['JavaScript', 'HTML', 'Shell', 'PHP', 'CSS']</td>\n",
              "      <td>MIT License</td>\n",
              "      <td>['In Progress', 'Intent-To-Deprecate', 'Known ...</td>\n",
              "      <td>...</td>\n",
              "      <td>['.circleci', '.editorconfig', '.eslintignore'...</td>\n",
              "      <td>39.0</td>\n",
              "      <td>5965.0</td>\n",
              "      <td>406.0</td>\n",
              "      <td>NaN</td>\n",
              "      <td>51.0</td>\n",
              "      <td>angular/angular.js</td>\n",
              "      <td>Web libraries and frameworks</td>\n",
              "      <td>JavaScript</td>\n",
              "      <td>6937316</td>\n",
              "    </tr>\n",
              "    <tr>\n",
              "      <th>...</th>\n",
              "      <td>...</td>\n",
              "      <td>...</td>\n",
              "      <td>...</td>\n",
              "      <td>...</td>\n",
              "      <td>...</td>\n",
              "      <td>...</td>\n",
              "      <td>...</td>\n",
              "      <td>...</td>\n",
              "      <td>...</td>\n",
              "      <td>...</td>\n",
              "      <td>...</td>\n",
              "      <td>...</td>\n",
              "      <td>...</td>\n",
              "      <td>...</td>\n",
              "      <td>...</td>\n",
              "      <td>...</td>\n",
              "      <td>...</td>\n",
              "      <td>...</td>\n",
              "      <td>...</td>\n",
              "      <td>...</td>\n",
              "      <td>...</td>\n",
              "    </tr>\n",
              "    <tr>\n",
              "      <th>4943</th>\n",
              "      <td>1850.0</td>\n",
              "      <td>349.0</td>\n",
              "      <td>[{'Java': 32480}]</td>\n",
              "      <td>This project aims to provide a working page fl...</td>\n",
              "      <td>https://api.github.com/repos/Yalantis/FlipView...</td>\n",
              "      <td># Changes:\\n\\n  * Made clickable views like a ...</td>\n",
              "      <td>['android', 'java', 'viewpager', 'animation', ...</td>\n",
              "      <td>['Java']</td>\n",
              "      <td>NaN</td>\n",
              "      <td>['bug', 'duplicate', 'enhancement', 'help want...</td>\n",
              "      <td>...</td>\n",
              "      <td>['.gitignore', 'README.md', 'build.gradle', 'f...</td>\n",
              "      <td>86.0</td>\n",
              "      <td>4557.0</td>\n",
              "      <td>4.0</td>\n",
              "      <td>5.0</td>\n",
              "      <td>11.0</td>\n",
              "      <td>Yalantis/FlipViewPager.Draco</td>\n",
              "      <td>Non-web libraries and frameworks</td>\n",
              "      <td>Java</td>\n",
              "      <td>32480</td>\n",
              "    </tr>\n",
              "    <tr>\n",
              "      <th>4944</th>\n",
              "      <td>1780.0</td>\n",
              "      <td>178.0</td>\n",
              "      <td>[{'JavaScript': 123266, 'CSS': 6537, 'HTML': 1...</td>\n",
              "      <td>JavaScript Client-Side Cookie Manipulation Lib...</td>\n",
              "      <td>https://api.github.com/repos/ScottHamper/Cookies</td>\n",
              "      <td># Cookies.js\\n\\nCookies.js is a small client-s...</td>\n",
              "      <td>NaN</td>\n",
              "      <td>['JavaScript', 'CSS', 'HTML']</td>\n",
              "      <td>The Unlicense</td>\n",
              "      <td>['bug', 'duplicate', 'enhancement', 'invalid',...</td>\n",
              "      <td>...</td>\n",
              "      <td>['.gitignore', 'CHANGELOG.md', 'README.md', 'U...</td>\n",
              "      <td>50.0</td>\n",
              "      <td>7338.0</td>\n",
              "      <td>11.0</td>\n",
              "      <td>NaN</td>\n",
              "      <td>7.0</td>\n",
              "      <td>ScottHamper/Cookies</td>\n",
              "      <td>Web libraries and frameworks</td>\n",
              "      <td>JavaScript</td>\n",
              "      <td>131183</td>\n",
              "    </tr>\n",
              "    <tr>\n",
              "      <th>4945</th>\n",
              "      <td>3138.0</td>\n",
              "      <td>300.0</td>\n",
              "      <td>[{'C': 77760, 'Assembly': 15792}]</td>\n",
              "      <td>The earliest versions of the very first c comp...</td>\n",
              "      <td>https://api.github.com/repos/mortdeus/legacy-cc</td>\n",
              "      <td>legacy-cc\\n=========\\n\\nThe earliest versions ...</td>\n",
              "      <td>NaN</td>\n",
              "      <td>['C', 'Assembly']</td>\n",
              "      <td>NaN</td>\n",
              "      <td>['bug', 'duplicate', 'enhancement', 'invalid',...</td>\n",
              "      <td>...</td>\n",
              "      <td>['Caldera-license.pdf', 'README.md', 'last1120...</td>\n",
              "      <td>118.0</td>\n",
              "      <td>866.0</td>\n",
              "      <td>2.0</td>\n",
              "      <td>NaN</td>\n",
              "      <td>4.0</td>\n",
              "      <td>mortdeus/legacy-cc</td>\n",
              "      <td>Software tools</td>\n",
              "      <td>C</td>\n",
              "      <td>93552</td>\n",
              "    </tr>\n",
              "    <tr>\n",
              "      <th>4946</th>\n",
              "      <td>1668.0</td>\n",
              "      <td>441.0</td>\n",
              "      <td>[{'Objective-C': 48239, 'Ruby': 680}]</td>\n",
              "      <td>A clone of the UIImagePickerController using t...</td>\n",
              "      <td>https://api.github.com/repos/B-Sides/ELCImageP...</td>\n",
              "      <td># ELCImagePickerController\\n\\n*A clone of the ...</td>\n",
              "      <td>NaN</td>\n",
              "      <td>['Objective-C', 'Ruby']</td>\n",
              "      <td>NaN</td>\n",
              "      <td>NaN</td>\n",
              "      <td>...</td>\n",
              "      <td>['.gitignore', 'Classes', 'Default-568h@2x.png...</td>\n",
              "      <td>111.0</td>\n",
              "      <td>2960.0</td>\n",
              "      <td>23.0</td>\n",
              "      <td>NaN</td>\n",
              "      <td>14.0</td>\n",
              "      <td>B-Sides/ELCImagePickerController</td>\n",
              "      <td>Non-web libraries and frameworks</td>\n",
              "      <td>Objective-C</td>\n",
              "      <td>48919</td>\n",
              "    </tr>\n",
              "    <tr>\n",
              "      <th>4947</th>\n",
              "      <td>2926.0</td>\n",
              "      <td>722.0</td>\n",
              "      <td>[{'XSLT': 7555212, 'C++': 4783229, 'Python': 2...</td>\n",
              "      <td>Mapnik is an open source toolkit for developin...</td>\n",
              "      <td>https://api.github.com/repos/mapnik/mapnik</td>\n",
              "      <td>```\\n    _/      _/                           ...</td>\n",
              "      <td>['mapnik', 'c-plus-plus', 'mapping', 'cartogra...</td>\n",
              "      <td>['XSLT', 'C++', 'Python', 'HTML', 'JavaScript'...</td>\n",
              "      <td>GNU Lesser General Public License v2.1</td>\n",
              "      <td>['breaking change', 'bug', 'c++11', 'c++14', '...</td>\n",
              "      <td>...</td>\n",
              "      <td>['.gitattributes', '.gitignore', '.gitmodules'...</td>\n",
              "      <td>68.0</td>\n",
              "      <td>1929.0</td>\n",
              "      <td>91.0</td>\n",
              "      <td>9.0</td>\n",
              "      <td>29.0</td>\n",
              "      <td>mapnik/mapnik</td>\n",
              "      <td>Non-web libraries and frameworks</td>\n",
              "      <td>XSLT</td>\n",
              "      <td>15649909</td>\n",
              "    </tr>\n",
              "  </tbody>\n",
              "</table>\n",
              "<p>4948 rows × 25 columns</p>\n",
              "</div>\n",
              "      <button class=\"colab-df-convert\" onclick=\"convertToInteractive('df-be3c17a4-350b-44f3-8f7e-28f9dd5731ce')\"\n",
              "              title=\"Convert this dataframe to an interactive table.\"\n",
              "              style=\"display:none;\">\n",
              "        \n",
              "  <svg xmlns=\"http://www.w3.org/2000/svg\" height=\"24px\"viewBox=\"0 0 24 24\"\n",
              "       width=\"24px\">\n",
              "    <path d=\"M0 0h24v24H0V0z\" fill=\"none\"/>\n",
              "    <path d=\"M18.56 5.44l.94 2.06.94-2.06 2.06-.94-2.06-.94-.94-2.06-.94 2.06-2.06.94zm-11 1L8.5 8.5l.94-2.06 2.06-.94-2.06-.94L8.5 2.5l-.94 2.06-2.06.94zm10 10l.94 2.06.94-2.06 2.06-.94-2.06-.94-.94-2.06-.94 2.06-2.06.94z\"/><path d=\"M17.41 7.96l-1.37-1.37c-.4-.4-.92-.59-1.43-.59-.52 0-1.04.2-1.43.59L10.3 9.45l-7.72 7.72c-.78.78-.78 2.05 0 2.83L4 21.41c.39.39.9.59 1.41.59.51 0 1.02-.2 1.41-.59l7.78-7.78 2.81-2.81c.8-.78.8-2.07 0-2.86zM5.41 20L4 18.59l7.72-7.72 1.47 1.35L5.41 20z\"/>\n",
              "  </svg>\n",
              "      </button>\n",
              "      \n",
              "  <style>\n",
              "    .colab-df-container {\n",
              "      display:flex;\n",
              "      flex-wrap:wrap;\n",
              "      gap: 12px;\n",
              "    }\n",
              "\n",
              "    .colab-df-convert {\n",
              "      background-color: #E8F0FE;\n",
              "      border: none;\n",
              "      border-radius: 50%;\n",
              "      cursor: pointer;\n",
              "      display: none;\n",
              "      fill: #1967D2;\n",
              "      height: 32px;\n",
              "      padding: 0 0 0 0;\n",
              "      width: 32px;\n",
              "    }\n",
              "\n",
              "    .colab-df-convert:hover {\n",
              "      background-color: #E2EBFA;\n",
              "      box-shadow: 0px 1px 2px rgba(60, 64, 67, 0.3), 0px 1px 3px 1px rgba(60, 64, 67, 0.15);\n",
              "      fill: #174EA6;\n",
              "    }\n",
              "\n",
              "    [theme=dark] .colab-df-convert {\n",
              "      background-color: #3B4455;\n",
              "      fill: #D2E3FC;\n",
              "    }\n",
              "\n",
              "    [theme=dark] .colab-df-convert:hover {\n",
              "      background-color: #434B5C;\n",
              "      box-shadow: 0px 1px 3px 1px rgba(0, 0, 0, 0.15);\n",
              "      filter: drop-shadow(0px 1px 2px rgba(0, 0, 0, 0.3));\n",
              "      fill: #FFFFFF;\n",
              "    }\n",
              "  </style>\n",
              "\n",
              "      <script>\n",
              "        const buttonEl =\n",
              "          document.querySelector('#df-be3c17a4-350b-44f3-8f7e-28f9dd5731ce button.colab-df-convert');\n",
              "        buttonEl.style.display =\n",
              "          google.colab.kernel.accessAllowed ? 'block' : 'none';\n",
              "\n",
              "        async function convertToInteractive(key) {\n",
              "          const element = document.querySelector('#df-be3c17a4-350b-44f3-8f7e-28f9dd5731ce');\n",
              "          const dataTable =\n",
              "            await google.colab.kernel.invokeFunction('convertToInteractive',\n",
              "                                                     [key], {});\n",
              "          if (!dataTable) return;\n",
              "\n",
              "          const docLinkHtml = 'Like what you see? Visit the ' +\n",
              "            '<a target=\"_blank\" href=https://colab.research.google.com/notebooks/data_table.ipynb>data table notebook</a>'\n",
              "            + ' to learn more about interactive tables.';\n",
              "          element.innerHTML = '';\n",
              "          dataTable['output_type'] = 'display_data';\n",
              "          await google.colab.output.renderOutput(dataTable, element);\n",
              "          const docLink = document.createElement('div');\n",
              "          docLink.innerHTML = docLinkHtml;\n",
              "          element.appendChild(docLink);\n",
              "        }\n",
              "      </script>\n",
              "    </div>\n",
              "  </div>\n",
              "  "
            ]
          },
          "metadata": {},
          "execution_count": 58
        }
      ],
      "source": [
        "df = pd.read_csv('/content/drive/MyDrive/GHDomains/expanded_frame_final.csv')\n",
        "df.dropna(subset=['Readme'], inplace=True)\n",
        "df.drop(31, axis=0, inplace=True)   #removed repo Homebrew/legacy-homebrew      # Software tools\n",
        "df.drop(124, axis=0, inplace=True)  #removed repo shadowsocks/shadowsocks       # Software tools\n",
        "df.drop(237, axis=0, inplace=True)  #removed repo npm/npm                       # Software tools\n",
        "df.drop(3057, axis=0, inplace=True) #removed repo firstopinion/formatter.js     # Web libraries and frameworks\n",
        "df.drop(4488, axis=0, inplace=True) #removed repo jersey/jersey                 # Web libraries and frameworks\n",
        "df.reset_index(inplace=True, drop=True)\n",
        "\n",
        "df['Domain'] = df['Domain'].replace(['System software','Application software'], 'Application & System software')\n",
        "df"
      ]
    },
    {
      "cell_type": "code",
      "execution_count": 59,
      "metadata": {
        "colab": {
          "base_uri": "https://localhost:8080/"
        },
        "id": "wV5QZugKLoVV",
        "outputId": "3147ca29-e8df-4eab-e10b-1471e1a88fb5"
      },
      "outputs": [
        {
          "output_type": "execute_result",
          "data": {
            "text/plain": [
              "(2613, 0.5226)"
            ]
          },
          "metadata": {},
          "execution_count": 59
        }
      ],
      "source": [
        "pd.isna(df['Topics']).sum(), pd.isna(df['Topics']).sum()/5000"
      ]
    },
    {
      "cell_type": "code",
      "source": [
        ""
      ],
      "metadata": {
        "id": "uBbqHnHLIlNT"
      },
      "execution_count": 59,
      "outputs": []
    },
    {
      "cell_type": "code",
      "execution_count": 60,
      "metadata": {
        "colab": {
          "base_uri": "https://localhost:8080/",
          "height": 206
        },
        "id": "u17jl3h8D5UQ",
        "outputId": "1b3bfa48-382d-42c8-b2b3-5dc15729ceee"
      },
      "outputs": [
        {
          "output_type": "execute_result",
          "data": {
            "text/plain": [
              "                                  Missing Topics  Total Values  Total Values\n",
              "Application & System software                287           607      0.122676\n",
              "Documentation                                257           427      0.086297\n",
              "Non-web libraries and frameworks             812          1429      0.288804\n",
              "Software tools                               453           963      0.194624\n",
              "Web libraries and frameworks                 804          1522      0.307599"
            ],
            "text/html": [
              "\n",
              "  <div id=\"df-ba8277d2-e57e-42e0-9cef-a8de41e34ef8\">\n",
              "    <div class=\"colab-df-container\">\n",
              "      <div>\n",
              "<style scoped>\n",
              "    .dataframe tbody tr th:only-of-type {\n",
              "        vertical-align: middle;\n",
              "    }\n",
              "\n",
              "    .dataframe tbody tr th {\n",
              "        vertical-align: top;\n",
              "    }\n",
              "\n",
              "    .dataframe thead th {\n",
              "        text-align: right;\n",
              "    }\n",
              "</style>\n",
              "<table border=\"1\" class=\"dataframe\">\n",
              "  <thead>\n",
              "    <tr style=\"text-align: right;\">\n",
              "      <th></th>\n",
              "      <th>Missing Topics</th>\n",
              "      <th>Total Values</th>\n",
              "      <th>Total Values</th>\n",
              "    </tr>\n",
              "  </thead>\n",
              "  <tbody>\n",
              "    <tr>\n",
              "      <th>Application &amp; System software</th>\n",
              "      <td>287</td>\n",
              "      <td>607</td>\n",
              "      <td>0.122676</td>\n",
              "    </tr>\n",
              "    <tr>\n",
              "      <th>Documentation</th>\n",
              "      <td>257</td>\n",
              "      <td>427</td>\n",
              "      <td>0.086297</td>\n",
              "    </tr>\n",
              "    <tr>\n",
              "      <th>Non-web libraries and frameworks</th>\n",
              "      <td>812</td>\n",
              "      <td>1429</td>\n",
              "      <td>0.288804</td>\n",
              "    </tr>\n",
              "    <tr>\n",
              "      <th>Software tools</th>\n",
              "      <td>453</td>\n",
              "      <td>963</td>\n",
              "      <td>0.194624</td>\n",
              "    </tr>\n",
              "    <tr>\n",
              "      <th>Web libraries and frameworks</th>\n",
              "      <td>804</td>\n",
              "      <td>1522</td>\n",
              "      <td>0.307599</td>\n",
              "    </tr>\n",
              "  </tbody>\n",
              "</table>\n",
              "</div>\n",
              "      <button class=\"colab-df-convert\" onclick=\"convertToInteractive('df-ba8277d2-e57e-42e0-9cef-a8de41e34ef8')\"\n",
              "              title=\"Convert this dataframe to an interactive table.\"\n",
              "              style=\"display:none;\">\n",
              "        \n",
              "  <svg xmlns=\"http://www.w3.org/2000/svg\" height=\"24px\"viewBox=\"0 0 24 24\"\n",
              "       width=\"24px\">\n",
              "    <path d=\"M0 0h24v24H0V0z\" fill=\"none\"/>\n",
              "    <path d=\"M18.56 5.44l.94 2.06.94-2.06 2.06-.94-2.06-.94-.94-2.06-.94 2.06-2.06.94zm-11 1L8.5 8.5l.94-2.06 2.06-.94-2.06-.94L8.5 2.5l-.94 2.06-2.06.94zm10 10l.94 2.06.94-2.06 2.06-.94-2.06-.94-.94-2.06-.94 2.06-2.06.94z\"/><path d=\"M17.41 7.96l-1.37-1.37c-.4-.4-.92-.59-1.43-.59-.52 0-1.04.2-1.43.59L10.3 9.45l-7.72 7.72c-.78.78-.78 2.05 0 2.83L4 21.41c.39.39.9.59 1.41.59.51 0 1.02-.2 1.41-.59l7.78-7.78 2.81-2.81c.8-.78.8-2.07 0-2.86zM5.41 20L4 18.59l7.72-7.72 1.47 1.35L5.41 20z\"/>\n",
              "  </svg>\n",
              "      </button>\n",
              "      \n",
              "  <style>\n",
              "    .colab-df-container {\n",
              "      display:flex;\n",
              "      flex-wrap:wrap;\n",
              "      gap: 12px;\n",
              "    }\n",
              "\n",
              "    .colab-df-convert {\n",
              "      background-color: #E8F0FE;\n",
              "      border: none;\n",
              "      border-radius: 50%;\n",
              "      cursor: pointer;\n",
              "      display: none;\n",
              "      fill: #1967D2;\n",
              "      height: 32px;\n",
              "      padding: 0 0 0 0;\n",
              "      width: 32px;\n",
              "    }\n",
              "\n",
              "    .colab-df-convert:hover {\n",
              "      background-color: #E2EBFA;\n",
              "      box-shadow: 0px 1px 2px rgba(60, 64, 67, 0.3), 0px 1px 3px 1px rgba(60, 64, 67, 0.15);\n",
              "      fill: #174EA6;\n",
              "    }\n",
              "\n",
              "    [theme=dark] .colab-df-convert {\n",
              "      background-color: #3B4455;\n",
              "      fill: #D2E3FC;\n",
              "    }\n",
              "\n",
              "    [theme=dark] .colab-df-convert:hover {\n",
              "      background-color: #434B5C;\n",
              "      box-shadow: 0px 1px 3px 1px rgba(0, 0, 0, 0.15);\n",
              "      filter: drop-shadow(0px 1px 2px rgba(0, 0, 0, 0.3));\n",
              "      fill: #FFFFFF;\n",
              "    }\n",
              "  </style>\n",
              "\n",
              "      <script>\n",
              "        const buttonEl =\n",
              "          document.querySelector('#df-ba8277d2-e57e-42e0-9cef-a8de41e34ef8 button.colab-df-convert');\n",
              "        buttonEl.style.display =\n",
              "          google.colab.kernel.accessAllowed ? 'block' : 'none';\n",
              "\n",
              "        async function convertToInteractive(key) {\n",
              "          const element = document.querySelector('#df-ba8277d2-e57e-42e0-9cef-a8de41e34ef8');\n",
              "          const dataTable =\n",
              "            await google.colab.kernel.invokeFunction('convertToInteractive',\n",
              "                                                     [key], {});\n",
              "          if (!dataTable) return;\n",
              "\n",
              "          const docLinkHtml = 'Like what you see? Visit the ' +\n",
              "            '<a target=\"_blank\" href=https://colab.research.google.com/notebooks/data_table.ipynb>data table notebook</a>'\n",
              "            + ' to learn more about interactive tables.';\n",
              "          element.innerHTML = '';\n",
              "          dataTable['output_type'] = 'display_data';\n",
              "          await google.colab.output.renderOutput(dataTable, element);\n",
              "          const docLink = document.createElement('div');\n",
              "          docLink.innerHTML = docLinkHtml;\n",
              "          element.appendChild(docLink);\n",
              "        }\n",
              "      </script>\n",
              "    </div>\n",
              "  </div>\n",
              "  "
            ]
          },
          "metadata": {},
          "execution_count": 60
        }
      ],
      "source": [
        "# Topics could be a great feature for the classifier. However, more than a half of the values are empty.\n",
        "pd.concat([pd.isna(df['Topics']).groupby(by=df['Domain']).sum(),df['Domain'].value_counts(),df['Domain'].value_counts(normalize=True)], axis=1).rename({'Topics':'Missing Topics','Domain':'Total Values'},axis=1)\n"
      ]
    },
    {
      "cell_type": "code",
      "execution_count": 61,
      "metadata": {
        "id": "CHI9d9yt3Cuw"
      },
      "outputs": [],
      "source": [
        "def join_words_from_lists(text, join=False):\n",
        "  text = str(text)\n",
        "  if text == 'nan':\n",
        "    return ''\n",
        "  else:\n",
        "    text = text[1:-1]\n",
        "    text = text.replace('\\'','')\n",
        "    text = text.split(',')\n",
        "    if join:\n",
        "      text = ' '.join([word.strip() for word in text])\n",
        "    return text\n",
        "\n",
        "def normalise_text(text):\n",
        "\n",
        "    # decode text to utf8 - remove non ascii charcters\n",
        "    text = unicodedata.normalize('NFKD', text).encode('ascii', 'ignore').decode('utf-8', 'ignore')\n",
        "    \n",
        "    # regularise text replace urls and emails by special token.\n",
        "    aux = []\n",
        "    for token in nlp(text):\n",
        "      if token.like_url:\n",
        "        aux.append('TOK1')\n",
        "      else:\n",
        "        aux.append(token.norm_)\n",
        "    \n",
        "    text = \" \".join(aux)\n",
        "\n",
        "    # regularise over withespace\n",
        "    text = re.sub('\\s{2,}', \" \", text)\n",
        "    text = re.sub(r\"\\s+$\", \"\", text)\n",
        "    \n",
        "    return text\n",
        "\n",
        "\n",
        "def clean_htmltags(text):\n",
        "\n",
        "    html = markdown.markdown(text)                                # convert the code to html\n",
        "    soup = BeautifulSoup(html, \"lxml\")                            # html.parser #XML stands for \"eXtensible Markup Language\",\n",
        "    \n",
        "    [s.extract() for s in soup(['iframe', 'script'])]             # eliminate html tags \n",
        "    stripped_text = soup.get_text()                               # get the rest of the text\n",
        "    stripped_text = re.sub(r'[\\r|\\n|\\r\\n]+', ' ', stripped_text)  # delete remaining tags\n",
        "    text = stripped_text                                          #\n",
        "                                    \n",
        "    return text"
      ]
    },
    {
      "cell_type": "code",
      "execution_count": 62,
      "metadata": {
        "id": "pBKHZR323wtj"
      },
      "outputs": [],
      "source": [
        "df['Labels'] = df['Labels'].apply(lambda x: join_words_from_lists(x, join=True))\n",
        "df['Labels'] = df['Labels'].apply(lambda x: normalise_text(x))"
      ]
    },
    {
      "cell_type": "code",
      "execution_count": 63,
      "metadata": {
        "colab": {
          "base_uri": "https://localhost:8080/"
        },
        "id": "4A-xF3ji3wqi",
        "outputId": "11b722ac-9acc-41e6-b255-0b83dd99b984"
      },
      "outputs": [
        {
          "output_type": "execute_result",
          "data": {
            "text/plain": [
              "0       crowdin - sync first timers only help wanted i...\n",
              "1       3rd - party ci accessibility awaiting - reply ...\n",
              "2       bug code docs droid ios linux moz ms o perf pk...\n",
              "3       browser : ie browser : safari cla signed compo...\n",
              "4       in progress intent - to - deprecate known issu...\n",
              "                              ...                        \n",
              "4943    bug duplicate enhancement help wanted invalid ...\n",
              "4944    bug duplicate enhancement invalid needs - docu...\n",
              "4945    bug duplicate enhancement invalid question won...\n",
              "4946                                                     \n",
              "4947    breaking change bug c++11 c++14 ci compositing...\n",
              "Name: Labels, Length: 4948, dtype: object"
            ]
          },
          "metadata": {},
          "execution_count": 63
        }
      ],
      "source": [
        "df['Labels']"
      ]
    },
    {
      "cell_type": "code",
      "execution_count": 64,
      "metadata": {
        "id": "H0iNDiJGkcFk"
      },
      "outputs": [],
      "source": [
        "df['Readme'] = df['Readme'].astype(str)\n",
        "df['Readme'] = df['Readme'].apply(lambda x: clean_htmltags(x))\n",
        "df['Readme'] = df['Readme'].apply(lambda x: normalise_text(x))"
      ]
    },
    {
      "cell_type": "code",
      "execution_count": 65,
      "metadata": {
        "id": "gSghJ015lsC3"
      },
      "outputs": [],
      "source": [
        "df['Description'] = df['Description'].astype(str)\n",
        "df['Description'] = df['Description'].replace('nan','')\n",
        "df['Description'] = df['Description'].apply(lambda x: normalise_text(x))\n",
        "df['Text_data']   = df['Description'] + df['Readme'] + df['Labels']"
      ]
    },
    {
      "cell_type": "code",
      "execution_count": 66,
      "metadata": {
        "colab": {
          "base_uri": "https://localhost:8080/"
        },
        "id": "raOfzrtLpGJ-",
        "outputId": "26b6d1a6-f0aa-45a0-bfbc-eed8025e28fc"
      },
      "outputs": [
        {
          "output_type": "execute_result",
          "data": {
            "text/plain": [
              "0       TOK1 's open source codebase and curriculum . ...\n",
              "1       the most popular html , css , and javascript f...\n",
              "2       bring data to life with svg , canvas and html ...\n",
              "3       a declarative , efficient , and flexible javas...\n",
              "4       angularjs - html enhanced for web apps !angula...\n",
              "                              ...                        \n",
              "4943    this project aims to provide a working page fl...\n",
              "4944    javascript client - side cookie manipulation l...\n",
              "4945    the earliest versions of the very first c comp...\n",
              "4946    a clone of the uiimagepickercontroller using t...\n",
              "4947    mapnik is an open source toolkit for developin...\n",
              "Name: Text_data, Length: 4948, dtype: object"
            ]
          },
          "metadata": {},
          "execution_count": 66
        }
      ],
      "source": [
        "df['Text_data']"
      ]
    },
    {
      "cell_type": "code",
      "execution_count": 67,
      "metadata": {
        "id": "-MRwpVwA19ZA"
      },
      "outputs": [],
      "source": [
        "X_train, X_test, y_train, y_test = train_test_split(df.loc[:,df.columns!='Domain'], df['Domain'], test_size=0.1, random_state=42, stratify=df['Domain'])"
      ]
    },
    {
      "cell_type": "code",
      "execution_count": 68,
      "metadata": {
        "id": "gfnaN2G7dvpT"
      },
      "outputs": [],
      "source": [
        "Y_train = pd.get_dummies(y_train)\n",
        "\n",
        "def vect_reduce_features(Y_train, train, test, prefix, Selectmodel=False, Select50Best=False, defaultVect=False):\n",
        "\n",
        "    # Save indexes\n",
        "    train_text_index = train.index\n",
        "    test_text_index  = test.index\n",
        "\n",
        "    # Vectorize the words contained into lists\n",
        "    vect = CountVectorizer(tokenizer=join_words_from_lists)\n",
        "    \n",
        "    if defaultVect:\n",
        "      print('using default vectoriser')\n",
        "      vect = CountVectorizer()\n",
        "\n",
        "    train = vect.fit_transform(train.astype(str))\n",
        "\n",
        "    # Select features to reduce the dimensionality acording the selected method (FromModel or KBest)\n",
        "    Y_train = pd.get_dummies(y_train)\n",
        "    labels = Y_train.columns\n",
        "    selected_features = []\n",
        "\n",
        "    if Selectmodel:\n",
        "\n",
        "        for label in labels:\n",
        "            selector =  SelectFromModel(LinearSVC(C=0.01, penalty=\"l1\", dual=False, max_iter=5000))\n",
        "            selector.fit(train, Y_train[label])\n",
        "            features = selector.get_support()\n",
        "            selected_features.extend(list(vect.get_feature_names_out()[features]))\n",
        "\n",
        "    if Select50Best:\n",
        "\n",
        "        for label in labels:\n",
        "            selector =  SelectKBest(chi2, k=50) # SelectFpr(chi2, alpha=0.01)\n",
        "            selector.fit(train, Y_train[label])\n",
        "            features = selector.get_support()\n",
        "            selected_features.extend(list(vect.get_feature_names_out()[features]))\n",
        "\n",
        "    # Apply the selected features to the vectorised train matrix\n",
        "    bolean_columns = np.isin(vect.get_feature_names_out(),list(set(selected_features)))\n",
        "    column_indices = [j for i in np.argwhere(bolean_columns) for j in i]\n",
        "    train = train[:,bolean_columns]\n",
        "    \n",
        "    # Apply the selection to the test matrix\n",
        "    test = vect.transform(test.astype(str))\n",
        "    test = test[:,bolean_columns]\n",
        "\n",
        "    # Transform the matrices to pd.Dataframes\n",
        "    train = pd.DataFrame(train.toarray(), columns=vect.get_feature_names_out()[column_indices], index=train_text_index).add_prefix(prefix)\n",
        "    test = pd.DataFrame(test.toarray(), columns=vect.get_feature_names_out()[column_indices], index=test_text_index).add_prefix(prefix)\n",
        "\n",
        "    return train, test"
      ]
    },
    {
      "cell_type": "code",
      "source": [
        "df.columns"
      ],
      "metadata": {
        "colab": {
          "base_uri": "https://localhost:8080/"
        },
        "id": "ystvAgzZt5KG",
        "outputId": "dec1e683-73ab-49a7-af1d-4dacb234d66c"
      },
      "execution_count": 69,
      "outputs": [
        {
          "output_type": "execute_result",
          "data": {
            "text/plain": [
              "Index(['Stars', 'Forks', 'Language dict', 'Description', 'Url', 'Readme',\n",
              "       'Topics', 'Languages', 'Licence', 'Labels', 'Contributors', 'Releases',\n",
              "       'Status', 'Events', 'Workflows', 'Contents', 'Description Length',\n",
              "       'Readme Length', 'Contributor Count', 'Topic Count', 'Content Count',\n",
              "       'Name', 'Domain', 'Main Language', 'Sum of bytes', 'Text_data'],\n",
              "      dtype='object')"
            ]
          },
          "metadata": {},
          "execution_count": 69
        }
      ]
    },
    {
      "cell_type": "code",
      "execution_count": 70,
      "metadata": {
        "id": "o0NPgLqGtB9y",
        "outputId": "c191baa7-644b-49f5-f7ef-b862c651f6b8",
        "colab": {
          "base_uri": "https://localhost:8080/"
        }
      },
      "outputs": [
        {
          "output_type": "stream",
          "name": "stdout",
          "text": [
            "using default vectoriser\n"
          ]
        }
      ],
      "source": [
        "cn_train, cn_test = vect_reduce_features(Y_train, X_train['Contributors'], X_test['Contributors'], 'cn: ', Select50Best=True)\n",
        "pl_train, pl_test = vect_reduce_features(Y_train, X_train['Languages'], X_test['Languages'], 'pl: ', Selectmodel=True)\n",
        "tp_train, tp_test = vect_reduce_features(Y_train, X_train['Topics'], X_test['Topics'], 'tp: ', Selectmodel=True)\n",
        "ct_train, ct_test = vect_reduce_features(Y_train, X_train['Contents'], X_test['Contents'], 'ct: ', Selectmodel=True, defaultVect=True)\n",
        "li_train, li_test = vect_reduce_features(Y_train, X_train['Licence'], X_test['Licence'], 'li: ', Selectmodel=True)"
      ]
    },
    {
      "cell_type": "code",
      "execution_count": 71,
      "metadata": {
        "id": "fxMdIkiA0IXh"
      },
      "outputs": [],
      "source": [
        "model = SentenceTransformer('sentence-transformers/all-MiniLM-L6-v2')\n",
        "\n",
        "# Add special token for email, url and numbers\n",
        "tokens = [\"TOK1\"]\n",
        "word_embedding_model = model._first_module()   #Your models.Transformer object\n",
        "word_embedding_model.tokenizer.add_tokens(tokens, special_tokens=True)\n",
        "word_embedding_model.auto_model.resize_token_embeddings(len(word_embedding_model.tokenizer))\n",
        "\n",
        "#model.max_seq_length = 384\n",
        "train_vectors = model.encode(X_train['Text_data'].to_list())\n",
        "test_vectors  = model.encode(X_test['Text_data'].to_list())"
      ]
    },
    {
      "cell_type": "code",
      "execution_count": 72,
      "metadata": {
        "id": "xG4H1Pbr0Hv4"
      },
      "outputs": [],
      "source": [
        "train_vectors = pd.DataFrame(train_vectors.tolist(), index=X_train.index)\n",
        "train_vectors = train_vectors.add_prefix(\"Text \")\n",
        "test_vectors  = pd.DataFrame(test_vectors.tolist(), index=X_test.index)\n",
        "test_vectors  = test_vectors.add_prefix(\"Text \")"
      ]
    },
    {
      "cell_type": "code",
      "source": [
        "# Numercial data scaling:\n",
        "num_train = X_train[['Stars', 'Forks', 'Releases']].astype(np.float64)\n",
        "num_test  = X_test[['Stars', 'Forks', 'Releases']].astype(np.float64)\n",
        "\n",
        "scaler = preprocessing.MinMaxScaler()\n",
        "num_columns = num_train.columns\n",
        "num_index = num_train.index\n",
        "num_train = scaler.fit_transform(num_train)\n",
        "num_train = pd.DataFrame(num_train, columns=num_columns, index=num_index)\n",
        "num_index = num_test.index\n",
        "num_test = scaler.transform(num_test)\n",
        "num_test = pd.DataFrame(num_test, columns=num_columns, index=num_index)"
      ],
      "metadata": {
        "id": "c-cQa-S6HFvd"
      },
      "execution_count": 73,
      "outputs": []
    },
    {
      "cell_type": "code",
      "execution_count": 74,
      "metadata": {
        "id": "t534JT7emaa9"
      },
      "outputs": [],
      "source": [
        "X_train = pd.concat([train_vectors, cn_train, pl_train, tp_train, ct_train, li_train, num_train], axis=1)\n",
        "X_test  = pd.concat([test_vectors, cn_test, pl_test, tp_test, ct_test, li_test, num_test], axis=1)"
      ]
    },
    {
      "cell_type": "code",
      "execution_count": 75,
      "metadata": {
        "id": "PZ-R8vldyo4z"
      },
      "outputs": [],
      "source": [
        "# X_train = X_train.rename(columns = lambda x:re.sub('[^A-Za-z0-9_]+', '', x))\n",
        "# X_test = X_test.rename(columns = lambda x:re.sub('[^A-Za-z0-9_]+', '', x))\n",
        "X_train_columns = X_train.columns\n",
        "X_test_columns = X_test.columns"
      ]
    },
    {
      "cell_type": "code",
      "source": [
        "from collections import Counter\n",
        "from imblearn.over_sampling import SVMSMOTE"
      ],
      "metadata": {
        "id": "R6W58aPt2xPP"
      },
      "execution_count": 76,
      "outputs": []
    },
    {
      "cell_type": "code",
      "source": [
        "print('Encoding labels')\n",
        "le = preprocessing.LabelEncoder()\n",
        "labels_train = le.fit_transform(y_train)\n",
        "labels_test = le.transform(y_test)\n",
        "\n",
        "print('Balancing dataset')\n",
        "print('Original dataset shape %s' % Counter(y_train))\n",
        "svmsm = SVMSMOTE(random_state=42, n_jobs=-1)\n",
        "\n",
        "X_train, labels_train = svmsm.fit_resample(X_train.values, labels_train)\n",
        "X_train = pd.DataFrame(X_train, columns=X_test.columns)\n",
        "\n",
        "print('Resampled dataset shape %s' % Counter(labels_train))"
      ],
      "metadata": {
        "colab": {
          "base_uri": "https://localhost:8080/"
        },
        "id": "xy4F-yqy2o-3",
        "outputId": "d34f9c89-e91a-4e22-9283-8b7b7c3e7e55"
      },
      "execution_count": 77,
      "outputs": [
        {
          "output_type": "stream",
          "name": "stdout",
          "text": [
            "Encoding labels\n",
            "Balancing dataset\n",
            "Original dataset shape Counter({'Web libraries and frameworks': 1370, 'Non-web libraries and frameworks': 1286, 'Software tools': 867, 'Application & System software': 546, 'Documentation': 384})\n",
            "Resampled dataset shape Counter({1: 1370, 2: 1370, 3: 1370, 4: 1370, 0: 1370})\n"
          ]
        }
      ]
    },
    {
      "cell_type": "code",
      "execution_count": 78,
      "metadata": {
        "id": "eq_xbcV32i3H"
      },
      "outputs": [],
      "source": [
        "automl = AutoML()\n",
        "settings = {\n",
        "    \"time_budget\": 10000,  # total running time in seconds\n",
        "    \"metric\": 'roc_auc_ovo',  # can be: 'r2', 'rmse', 'mae', 'mse', 'accuracy', 'roc_auc', 'roc_auc_ovr',\n",
        "                           # 'roc_auc_ovo', 'log_loss', 'mape', 'f1', 'ap', 'ndcg', 'micro_f1', 'macro_f1'\n",
        "    \"task\": 'classification',  # task type\n",
        "    \"estimator_list\": ['lgbm'],\n",
        "    \"eval_method\" : 'cv',\n",
        "    \"n_splits\" : 10,\n",
        "    \"log_file_name\": 'GHDomains_macro_f1_30000.log',\n",
        "    \"seed\": 42,    # random seed\n",
        "}"
      ]
    },
    {
      "cell_type": "code",
      "execution_count": 48,
      "metadata": {
        "id": "d4nYf6fe2jfO",
        "outputId": "e736e2a6-3cd8-4816-d4cf-1826ee1321bc",
        "colab": {
          "base_uri": "https://localhost:8080/"
        }
      },
      "outputs": [
        {
          "output_type": "stream",
          "name": "stderr",
          "text": [
            "[flaml.automl: 04-05 05:34:40] {2105} INFO - task = classification\n",
            "[flaml.automl: 04-05 05:34:40] {2107} INFO - Data split method: stratified\n",
            "[flaml.automl: 04-05 05:34:40] {2111} INFO - Evaluation method: cv\n",
            "[flaml.automl: 04-05 05:34:40] {2188} INFO - Minimizing error metric: 1-roc_auc_ovo\n",
            "[flaml.automl: 04-05 05:34:40] {2281} INFO - List of ML learners in AutoML Run: ['lgbm']\n",
            "[flaml.automl: 04-05 05:34:40] {2567} INFO - iteration 0, current learner lgbm\n",
            "[flaml.automl: 04-05 05:34:49] {2698} INFO - Estimated sufficient time budget=96034s. Estimated necessary time budget=96s.\n",
            "[flaml.automl: 04-05 05:34:49] {2750} INFO -  at 9.6s,\testimator lgbm's best error=0.1601,\tbest estimator lgbm's best error=0.1601\n",
            "[flaml.automl: 04-05 05:34:49] {2567} INFO - iteration 1, current learner lgbm\n",
            "[flaml.automl: 04-05 05:35:02] {2750} INFO -  at 22.3s,\testimator lgbm's best error=0.1601,\tbest estimator lgbm's best error=0.1601\n",
            "[flaml.automl: 04-05 05:35:02] {2567} INFO - iteration 2, current learner lgbm\n",
            "[flaml.automl: 04-05 05:35:12] {2750} INFO -  at 32.1s,\testimator lgbm's best error=0.1207,\tbest estimator lgbm's best error=0.1207\n",
            "[flaml.automl: 04-05 05:35:12] {2567} INFO - iteration 3, current learner lgbm\n",
            "[flaml.automl: 04-05 05:35:23] {2750} INFO -  at 43.4s,\testimator lgbm's best error=0.0922,\tbest estimator lgbm's best error=0.0922\n",
            "[flaml.automl: 04-05 05:35:23] {2567} INFO - iteration 4, current learner lgbm\n",
            "[flaml.automl: 04-05 05:35:35] {2750} INFO -  at 54.9s,\testimator lgbm's best error=0.0922,\tbest estimator lgbm's best error=0.0922\n",
            "[flaml.automl: 04-05 05:35:35] {2567} INFO - iteration 5, current learner lgbm\n",
            "[flaml.automl: 04-05 05:35:56] {2750} INFO -  at 76.6s,\testimator lgbm's best error=0.0763,\tbest estimator lgbm's best error=0.0763\n",
            "[flaml.automl: 04-05 05:35:56] {2567} INFO - iteration 6, current learner lgbm\n",
            "[flaml.automl: 04-05 05:36:08] {2750} INFO -  at 88.7s,\testimator lgbm's best error=0.0763,\tbest estimator lgbm's best error=0.0763\n",
            "[flaml.automl: 04-05 05:36:08] {2567} INFO - iteration 7, current learner lgbm\n",
            "[flaml.automl: 04-05 05:36:48] {2750} INFO -  at 128.4s,\testimator lgbm's best error=0.0488,\tbest estimator lgbm's best error=0.0488\n",
            "[flaml.automl: 04-05 05:36:48] {2567} INFO - iteration 8, current learner lgbm\n",
            "[flaml.automl: 04-05 05:37:10] {2750} INFO -  at 150.2s,\testimator lgbm's best error=0.0488,\tbest estimator lgbm's best error=0.0488\n",
            "[flaml.automl: 04-05 05:37:10] {2567} INFO - iteration 9, current learner lgbm\n",
            "[flaml.automl: 04-05 05:37:39] {2750} INFO -  at 179.4s,\testimator lgbm's best error=0.0488,\tbest estimator lgbm's best error=0.0488\n",
            "[flaml.automl: 04-05 05:37:39] {2567} INFO - iteration 10, current learner lgbm\n",
            "[flaml.automl: 04-05 05:38:29] {2750} INFO -  at 229.3s,\testimator lgbm's best error=0.0488,\tbest estimator lgbm's best error=0.0488\n",
            "[flaml.automl: 04-05 05:38:29] {2567} INFO - iteration 11, current learner lgbm\n",
            "[flaml.automl: 04-05 05:40:09] {2750} INFO -  at 329.5s,\testimator lgbm's best error=0.0428,\tbest estimator lgbm's best error=0.0428\n",
            "[flaml.automl: 04-05 05:40:09] {2567} INFO - iteration 12, current learner lgbm\n",
            "[flaml.automl: 04-05 05:40:57] {2750} INFO -  at 377.1s,\testimator lgbm's best error=0.0402,\tbest estimator lgbm's best error=0.0402\n",
            "[flaml.automl: 04-05 05:40:57] {2567} INFO - iteration 13, current learner lgbm\n",
            "[flaml.automl: 04-05 05:42:30] {2750} INFO -  at 470.2s,\testimator lgbm's best error=0.0402,\tbest estimator lgbm's best error=0.0402\n",
            "[flaml.automl: 04-05 05:42:30] {2567} INFO - iteration 14, current learner lgbm\n",
            "[flaml.automl: 04-05 05:44:46] {2750} INFO -  at 606.1s,\testimator lgbm's best error=0.0386,\tbest estimator lgbm's best error=0.0386\n",
            "[flaml.automl: 04-05 05:44:46] {2567} INFO - iteration 15, current learner lgbm\n",
            "[flaml.automl: 04-05 05:45:34] {2750} INFO -  at 654.3s,\testimator lgbm's best error=0.0386,\tbest estimator lgbm's best error=0.0386\n",
            "[flaml.automl: 04-05 05:45:34] {2567} INFO - iteration 16, current learner lgbm\n",
            "[flaml.automl: 04-05 05:46:15] {2750} INFO -  at 695.3s,\testimator lgbm's best error=0.0386,\tbest estimator lgbm's best error=0.0386\n",
            "[flaml.automl: 04-05 05:46:15] {2567} INFO - iteration 17, current learner lgbm\n",
            "[flaml.automl: 04-05 05:48:58] {2750} INFO -  at 858.8s,\testimator lgbm's best error=0.0386,\tbest estimator lgbm's best error=0.0386\n",
            "[flaml.automl: 04-05 05:48:58] {2567} INFO - iteration 18, current learner lgbm\n",
            "[flaml.automl: 04-05 05:56:16] {2750} INFO -  at 1296.6s,\testimator lgbm's best error=0.0334,\tbest estimator lgbm's best error=0.0334\n",
            "[flaml.automl: 04-05 05:56:16] {2567} INFO - iteration 19, current learner lgbm\n",
            "[flaml.automl: 04-05 05:58:41] {2750} INFO -  at 1441.7s,\testimator lgbm's best error=0.0334,\tbest estimator lgbm's best error=0.0334\n",
            "[flaml.automl: 04-05 05:58:41] {2567} INFO - iteration 20, current learner lgbm\n",
            "[flaml.automl: 04-05 06:02:36] {2750} INFO -  at 1676.3s,\testimator lgbm's best error=0.0334,\tbest estimator lgbm's best error=0.0334\n",
            "[flaml.automl: 04-05 06:02:36] {2567} INFO - iteration 21, current learner lgbm\n",
            "[flaml.automl: 04-05 06:08:03] {2750} INFO -  at 2002.9s,\testimator lgbm's best error=0.0334,\tbest estimator lgbm's best error=0.0334\n",
            "[flaml.automl: 04-05 06:08:03] {2567} INFO - iteration 22, current learner lgbm\n",
            "[flaml.automl: 04-05 06:10:50] {2750} INFO -  at 2170.3s,\testimator lgbm's best error=0.0334,\tbest estimator lgbm's best error=0.0334\n",
            "[flaml.automl: 04-05 06:10:50] {2567} INFO - iteration 23, current learner lgbm\n",
            "[flaml.automl: 04-05 06:20:58] {2750} INFO -  at 2778.6s,\testimator lgbm's best error=0.0330,\tbest estimator lgbm's best error=0.0330\n",
            "[flaml.automl: 04-05 06:20:58] {2567} INFO - iteration 24, current learner lgbm\n",
            "[flaml.automl: 04-05 06:31:20] {2750} INFO -  at 3400.5s,\testimator lgbm's best error=0.0330,\tbest estimator lgbm's best error=0.0330\n",
            "[flaml.automl: 04-05 06:31:20] {2567} INFO - iteration 25, current learner lgbm\n",
            "[flaml.automl: 04-05 06:40:37] {2750} INFO -  at 3956.9s,\testimator lgbm's best error=0.0330,\tbest estimator lgbm's best error=0.0330\n",
            "[flaml.automl: 04-05 06:40:37] {2567} INFO - iteration 26, current learner lgbm\n",
            "[flaml.automl: 04-05 06:51:20] {2750} INFO -  at 4600.6s,\testimator lgbm's best error=0.0317,\tbest estimator lgbm's best error=0.0317\n",
            "[flaml.automl: 04-05 06:51:20] {2567} INFO - iteration 27, current learner lgbm\n",
            "[flaml.automl: 04-05 07:01:31] {2750} INFO -  at 5211.8s,\testimator lgbm's best error=0.0317,\tbest estimator lgbm's best error=0.0317\n",
            "[flaml.automl: 04-05 07:01:31] {2567} INFO - iteration 28, current learner lgbm\n",
            "[flaml.automl: 04-05 07:08:03] {2750} INFO -  at 5603.3s,\testimator lgbm's best error=0.0317,\tbest estimator lgbm's best error=0.0317\n",
            "[flaml.automl: 04-05 07:08:03] {2567} INFO - iteration 29, current learner lgbm\n",
            "[flaml.automl: 04-05 07:22:26] {2750} INFO -  at 6466.0s,\testimator lgbm's best error=0.0317,\tbest estimator lgbm's best error=0.0317\n",
            "[flaml.automl: 04-05 07:22:26] {2567} INFO - iteration 30, current learner lgbm\n",
            "[flaml.automl: 04-05 07:27:10] {2750} INFO -  at 6750.4s,\testimator lgbm's best error=0.0317,\tbest estimator lgbm's best error=0.0317\n",
            "[flaml.automl: 04-05 07:27:10] {2567} INFO - iteration 31, current learner lgbm\n",
            "[flaml.automl: 04-05 07:40:25] {2750} INFO -  at 7545.1s,\testimator lgbm's best error=0.0317,\tbest estimator lgbm's best error=0.0317\n",
            "[flaml.automl: 04-05 07:40:25] {2567} INFO - iteration 32, current learner lgbm\n",
            "[flaml.automl: 04-05 07:55:58] {2750} INFO -  at 8478.4s,\testimator lgbm's best error=0.0317,\tbest estimator lgbm's best error=0.0317\n",
            "[flaml.automl: 04-05 07:55:58] {2567} INFO - iteration 33, current learner lgbm\n",
            "[flaml.automl: 04-05 07:58:46] {2750} INFO -  at 8646.2s,\testimator lgbm's best error=0.0317,\tbest estimator lgbm's best error=0.0317\n",
            "[flaml.automl: 04-05 07:58:46] {2567} INFO - iteration 34, current learner lgbm\n",
            "[flaml.automl: 04-05 08:07:29] {2750} INFO -  at 9169.8s,\testimator lgbm's best error=0.0317,\tbest estimator lgbm's best error=0.0317\n",
            "[flaml.automl: 04-05 08:07:29] {2567} INFO - iteration 35, current learner lgbm\n",
            "[flaml.automl: 04-05 08:16:48] {2750} INFO -  at 9728.5s,\testimator lgbm's best error=0.0317,\tbest estimator lgbm's best error=0.0317\n",
            "[flaml.automl: 04-05 08:17:59] {2976} INFO - retrain lgbm for 70.9s\n",
            "[flaml.automl: 04-05 08:17:59] {2981} INFO - retrained model: LGBMClassifier(colsample_bytree=0.9291297745975406,\n",
            "               learning_rate=0.0947195300251763, max_bin=15,\n",
            "               min_child_samples=8, n_estimators=1086, num_leaves=59,\n",
            "               reg_alpha=0.04933576167576764, reg_lambda=4.206414800909049,\n",
            "               verbose=-1)\n",
            "[flaml.automl: 04-05 08:17:59] {2310} INFO - fit succeeded\n",
            "[flaml.automl: 04-05 08:17:59] {2312} INFO - Time taken to find the best model: 4600.631131887436\n"
          ]
        }
      ],
      "source": [
        "automl.fit(X_train=X_train.to_numpy(), y_train=labels_train, **settings)"
      ]
    },
    {
      "cell_type": "code",
      "source": [
        "# starting_points = automl.best_config_per_estimator\n",
        "# automl.fit(X_train=X_train.to_numpy(), y_train=labels_train, starting_points=starting_points, **settings)"
      ],
      "metadata": {
        "id": "17boMtWqjjfD"
      },
      "execution_count": 49,
      "outputs": []
    },
    {
      "cell_type": "code",
      "execution_count": 50,
      "metadata": {
        "colab": {
          "base_uri": "https://localhost:8080/"
        },
        "id": "yeaZ7eHe2pEl",
        "outputId": "924692e7-961d-43dd-b946-8fabec740513"
      },
      "outputs": [
        {
          "output_type": "stream",
          "name": "stdout",
          "text": [
            "Best ML leaner: lgbm\n",
            "Best hyperparmeter config: {'n_estimators': 1086, 'num_leaves': 59, 'min_child_samples': 8, 'learning_rate': 0.0947195300251763, 'log_max_bin': 4, 'colsample_bytree': 0.9291297745975406, 'reg_alpha': 0.04933576167576764, 'reg_lambda': 4.206414800909049}\n",
            "Best accuracy on validation data: 0.9683\n",
            "Training duration of best run: 70.94 s\n"
          ]
        }
      ],
      "source": [
        "'''retrieve best config and best learner'''\n",
        "print('Best ML leaner:', automl.best_estimator)\n",
        "print('Best hyperparmeter config:', automl.best_config)\n",
        "print('Best accuracy on validation data: {0:.4g}'.format(1-automl.best_loss))\n",
        "print('Training duration of best run: {0:.4g} s'.format(automl.best_config_train_time))"
      ]
    },
    {
      "cell_type": "code",
      "execution_count": 51,
      "metadata": {
        "id": "aVXANl7j4ssf"
      },
      "outputs": [],
      "source": [
        "'''compute predictions of testing dataset''' \n",
        "y_pred = automl.predict(X_test.to_numpy())\n",
        "y_pred_proba = automl.predict_proba(X_test.to_numpy())[:,1]"
      ]
    },
    {
      "cell_type": "code",
      "execution_count": 52,
      "metadata": {
        "colab": {
          "base_uri": "https://localhost:8080/"
        },
        "id": "UfhHhtC_5yQ8",
        "outputId": "55cdb25b-a892-4a6f-8982-e5bd0c53adb4"
      },
      "outputs": [
        {
          "output_type": "stream",
          "name": "stdout",
          "text": [
            "[['Application & System software' 61]\n",
            " ['Documentation' 43]\n",
            " ['Non-web libraries and frameworks' 143]\n",
            " ['Software tools' 96]\n",
            " ['Web libraries and frameworks' 152]]\n"
          ]
        }
      ],
      "source": [
        "target_names, counts = np.unique(y_test, return_counts=True)\n",
        "print(np.asarray((target_names, counts)).T)"
      ]
    },
    {
      "cell_type": "code",
      "execution_count": 53,
      "metadata": {
        "colab": {
          "base_uri": "https://localhost:8080/"
        },
        "id": "zLzxylST5m0h",
        "outputId": "845b1910-628f-4ef5-bb70-108cd086cbfe"
      },
      "outputs": [
        {
          "output_type": "stream",
          "name": "stdout",
          "text": [
            "                                  precision    recall  f1-score   support\n",
            "\n",
            "   Application & System software       0.70      0.52      0.60        61\n",
            "                   Documentation       0.83      0.67      0.74        43\n",
            "Non-web libraries and frameworks       0.73      0.78      0.75       143\n",
            "                  Software tools       0.68      0.54      0.60        96\n",
            "    Web libraries and frameworks       0.72      0.88      0.80       152\n",
            "\n",
            "                        accuracy                           0.72       495\n",
            "                       macro avg       0.73      0.68      0.70       495\n",
            "                    weighted avg       0.72      0.72      0.72       495\n",
            "\n"
          ]
        }
      ],
      "source": [
        "print(classification_report(labels_test, y_pred, target_names=target_names))"
      ]
    },
    {
      "cell_type": "code",
      "execution_count": 54,
      "metadata": {
        "colab": {
          "base_uri": "https://localhost:8080/",
          "height": 441
        },
        "id": "xHrX-dfOIT5z",
        "outputId": "73000b65-5801-4f71-e65d-9cd9a719124d"
      },
      "outputs": [
        {
          "output_type": "display_data",
          "data": {
            "text/plain": [
              "<Figure size 432x288 with 2 Axes>"
            ],
            "image/png": "[encoded data removed]"
          },
          "metadata": {
            "needs_background": "light"
          }
        }
      ],
      "source": [
        "cnf_matrix = confusion_matrix(labels_test, y_pred)\n",
        "disp = ConfusionMatrixDisplay(confusion_matrix=cnf_matrix, display_labels=target_names).plot(cmap=plt.cm.Blues, xticks_rotation='vertical')"
      ]
    },
    {
      "cell_type": "code",
      "source": [
        "automl.best_config_per_estimator"
      ],
      "metadata": {
        "colab": {
          "base_uri": "https://localhost:8080/"
        },
        "id": "4WUNeXmNblLb",
        "outputId": "d860dca6-4f39-47c5-a100-08419a1ce1f9"
      },
      "execution_count": 55,
      "outputs": [
        {
          "output_type": "execute_result",
          "data": {
            "text/plain": [
              "{'lgbm': {'colsample_bytree': 0.9291297745975406,\n",
              "  'learning_rate': 0.0947195300251763,\n",
              "  'log_max_bin': 4,\n",
              "  'min_child_samples': 8,\n",
              "  'n_estimators': 1086,\n",
              "  'num_leaves': 59,\n",
              "  'reg_alpha': 0.04933576167576764,\n",
              "  'reg_lambda': 4.206414800909049}}"
            ]
          },
          "metadata": {},
          "execution_count": 55
        }
      ]
    }
  ],
  "metadata": {
    "accelerator": "GPU",
    "colab": {
      "collapsed_sections": [],
      "name": "Sentence_transformers.ipynb",
      "provenance": [],
      "mount_file_id": "https://github.com/fzanart/GHDomains/blob/main/Sentence_transformers.ipynb",
      "authorship_tag": "ABX9TyM8wLErpobzoFPi/4nsNG6k",
      "include_colab_link": true
    },
    "kernelspec": {
      "display_name": "Python 3",
      "name": "python3"
    },
    "language_info": {
      "name": "python"
    }
  },
  "nbformat": 4,
  "nbformat_minor": 0
}