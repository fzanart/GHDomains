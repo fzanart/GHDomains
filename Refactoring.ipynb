{
  "nbformat": 4,
  "nbformat_minor": 0,
  "metadata": {
    "colab": {
      "name": "Refactoring.ipynb",
      "provenance": [],
      "authorship_tag": "ABX9TyMkBH43OyhQEdGiKDncuuPc",
      "include_colab_link": true
    },
    "kernelspec": {
      "name": "python3",
      "display_name": "Python 3"
    },
    "language_info": {
      "name": "python"
    }
  },
  "cells": [
    {
      "cell_type": "markdown",
      "metadata": {
        "id": "view-in-github",
        "colab_type": "text"
      },
      "source": [
        "<a href=\"https://colab.research.google.com/github/fzanart/GHDomains/blob/main/Refactoring.ipynb\" target=\"_parent\"><img src=\"https://colab.research.google.com/assets/colab-badge.svg\" alt=\"Open In Colab\"/></a>"
      ]
    },
    {
      "cell_type": "code",
      "execution_count": 1,
      "metadata": {
        "colab": {
          "base_uri": "https://localhost:8080/"
        },
        "id": "DuX3FgmTeYjC",
        "outputId": "9cdb42cf-f476-44c4-e211-b40f63bf37d4"
      },
      "outputs": [
        {
          "output_type": "stream",
          "name": "stderr",
          "text": [
            "[nltk_data] Downloading package punkt to /Users/francisco/nltk_data...\n",
            "[nltk_data]   Package punkt is already up-to-date!\n"
          ]
        },
        {
          "output_type": "execute_result",
          "data": {
            "text/plain": [
              "True"
            ]
          },
          "metadata": {},
          "execution_count": 1
        }
      ],
      "source": [
        "import os\n",
        "import pandas as pd\n",
        "from nltk import word_tokenize\n",
        "from nltk.stem.snowball import SnowballStemmer\n",
        "from nltk import download\n",
        "ss = SnowballStemmer('english')\n",
        "from spacy import load\n",
        "from spacy.matcher import Matcher\n",
        "from tqdm import tqdm\n",
        "nlp = load(\"en_core_web_sm\", exclude=[\"tok2vec\", \"tagger\", \"parser\",'senter', \"attribute_ruler\", \"lemmatizer\", 'ner'])\n",
        "# from google.colab import drive\n",
        "# drive.mount('/content/drive/')\n",
        "# chi-squared test with similar proportions\n",
        "from scipy.stats import chi2_contingency\n",
        "from scipy.stats import chi2\n",
        "import numpy as np\n",
        "download('punkt')"
      ]
    },
    {
      "cell_type": "code",
      "source": [
        "import multiprocessing as mp\n",
        "pool = mp.Pool(mp.cpu_count())\n",
        "mp.cpu_count()"
      ],
      "metadata": {
        "colab": {
          "base_uri": "https://localhost:8080/"
        },
        "id": "mediErvxthcA",
        "outputId": "245f3378-901b-4b6a-bd65-6b1b8456f06e"
      },
      "execution_count": 2,
      "outputs": [
        {
          "output_type": "execute_result",
          "data": {
            "text/plain": [
              "8"
            ]
          },
          "metadata": {},
          "execution_count": 2
        }
      ]
    },
    {
      "cell_type": "code",
      "source": [
        "directory = '/content/drive/MyDrive/GHDomains/Downloaded_repos/'\n",
        "local_directory = '/Volumes/GoogleDrive/My Drive/GHDomains/Downloaded_repos/'\n",
        "directory = local_directory"
      ],
      "metadata": {
        "id": "XusvohqRg-sI"
      },
      "execution_count": 3,
      "outputs": []
    },
    {
      "cell_type": "code",
      "source": [
        "word_list = ['refactor', 'restruct', 'clean', 'not used', 'unused', 'reformat', 'import', 'remove', 'replace', 'split', 'reorg', 'rename', 'move']\n",
        "\n",
        "matcher = Matcher(nlp.vocab)\n",
        "\n",
        "# Add patterns\n",
        "patterns= [[{\"LOWER\": \"refactor\"}],\n",
        "            [{\"LOWER\": \"restruct\"}],\n",
        "            [{\"LOWER\": \"clean\"}],\n",
        "            [{\"LOWER\": \"not\"},{\"LOWER\": \"use\"}],    # used      steam = use\n",
        "            [{\"LOWER\": \"unus\"}],                    # unused    steam = unus\n",
        "            [{\"LOWER\": \"reformat\"}],                ## steam = reform\n",
        "            [{\"LOWER\": \"import\"}],\n",
        "            [{\"LOWER\": \"remov\"}],                   # remove    steam = remov\n",
        "            [{\"LOWER\": \"replac\"}],                  # replace   steam = replac\n",
        "            [{\"LOWER\": \"split\"}],                   ## split     steam = splite / split\n",
        "            [{\"LOWER\": \"reorg\"}],                   # reorg     steam = reorg\n",
        "            [{\"LOWER\": \"renam\"}],                   # rename    steam = renam\n",
        "            [{\"LOWER\": \"move\"}]]\n",
        "\n",
        "matcher.add(\"refactoring_pattern\", patterns)"
      ],
      "metadata": {
        "id": "X262os4ZfRIB"
      },
      "execution_count": 4,
      "outputs": []
    },
    {
      "cell_type": "code",
      "source": [
        "def word_matcher(text):\n",
        "    \n",
        "    try:\n",
        "        with nlp.disable_pipes():\n",
        "        # Tokenize the commit sentence:\n",
        "            text = word_tokenize(text)\n",
        "        # apply steam technique\n",
        "            text = ' '.join([ss.stem(word) for word in text])\n",
        "        # select matching words\n",
        "            text = nlp(text)\n",
        "            words = matcher(text)\n",
        "    except TypeError:\n",
        "        return 0\n",
        "\n",
        "    if len(words)>0:\n",
        "\n",
        "        return 1\n",
        "\n",
        "    else:\n",
        "\n",
        "        return 0"
      ],
      "metadata": {
        "id": "MAeO7G1Mfz9c"
      },
      "execution_count": 5,
      "outputs": []
    },
    {
      "cell_type": "code",
      "source": [
        "repos_ids = [file_name for file_name in os.listdir(directory) if file_name.endswith('.json') and not file_name.startswith('all_repos')]\n",
        "repos_ids = list(set(repos_ids))\n",
        "len(repos_ids)"
      ],
      "metadata": {
        "id": "y2GshhJ1_qnW",
        "outputId": "6a49e355-44df-4360-84b4-815ca3fa41a4",
        "colab": {
          "base_uri": "https://localhost:8080/"
        }
      },
      "execution_count": 6,
      "outputs": [
        {
          "output_type": "execute_result",
          "data": {
            "text/plain": [
              "889"
            ]
          },
          "metadata": {},
          "execution_count": 6
        }
      ]
    },
    {
      "cell_type": "code",
      "source": [
        "matches = []\n",
        "to_rescan = []\n",
        "\n",
        "for filename in tqdm(repos_ids):\n",
        "      try:\n",
        "          aux_reader = pd.read_json(directory+filename)\n",
        "          commits    = aux_reader['Messages:'].size\n",
        "          match      = aux_reader['Messages:'].apply(word_matcher).sum()\n",
        "          filename   = filename.replace(':', '/').replace('.json', '')\n",
        "          matches.extend([(filename, commits, match)])\n",
        "      except:\n",
        "          print('None commits found in: ', filename)\n",
        "          filename   = filename.replace(':', '/')\n",
        "          filename   = filename.replace('.json', '')\n",
        "          to_rescan.extend([filename])\n",
        "\n",
        "\n",
        "df = pd.DataFrame(matches, columns =['Name', 'Commits', 'Matches'])\n",
        "df"
      ],
      "metadata": {
        "colab": {
          "base_uri": "https://localhost:8080/",
          "height": 441
        },
        "id": "pML5Y9Dgf1d5",
        "outputId": "1575bd58-7ff7-4b2c-8d40-0d1cb78d520e"
      },
      "execution_count": 7,
      "outputs": [
        {
          "output_type": "stream",
          "name": "stderr",
          "text": [
            "100%|██████████████████████████████████████████████████████████████████████████████████████████████████████████████████████████████████████████████████████████████████| 889/889 [18:29<00:00,  1.25s/it]\n"
          ]
        },
        {
          "output_type": "execute_result",
          "data": {
            "text/plain": [
              "                                              Name  Commits  Matches\n",
              "0    dragen1860/Deep-Learning-with-TensorFlow-book      151        2\n",
              "1                                     Tencent/MMKV     1039       82\n",
              "2                            webtorrent/webtorrent     3090      207\n",
              "3                                apache/skywalking     6952      690\n",
              "4                                      qyuhen/book       66        0\n",
              "..                                             ...      ...      ...\n",
              "884                           fengdu78/lihang-code       45        0\n",
              "885                               aui/art-template      598       26\n",
              "886                                 go-redis/redis     2019      192\n",
              "887                                  strapi/strapi    20568     2178\n",
              "888                      TheAlgorithms/C-Plus-Plus     1555      215\n",
              "\n",
              "[889 rows x 3 columns]"
            ],
            "text/html": [
              "<div>\n",
              "<style scoped>\n",
              "    .dataframe tbody tr th:only-of-type {\n",
              "        vertical-align: middle;\n",
              "    }\n",
              "\n",
              "    .dataframe tbody tr th {\n",
              "        vertical-align: top;\n",
              "    }\n",
              "\n",
              "    .dataframe thead th {\n",
              "        text-align: right;\n",
              "    }\n",
              "</style>\n",
              "<table border=\"1\" class=\"dataframe\">\n",
              "  <thead>\n",
              "    <tr style=\"text-align: right;\">\n",
              "      <th></th>\n",
              "      <th>Name</th>\n",
              "      <th>Commits</th>\n",
              "      <th>Matches</th>\n",
              "    </tr>\n",
              "  </thead>\n",
              "  <tbody>\n",
              "    <tr>\n",
              "      <th>0</th>\n",
              "      <td>dragen1860/Deep-Learning-with-TensorFlow-book</td>\n",
              "      <td>151</td>\n",
              "      <td>2</td>\n",
              "    </tr>\n",
              "    <tr>\n",
              "      <th>1</th>\n",
              "      <td>Tencent/MMKV</td>\n",
              "      <td>1039</td>\n",
              "      <td>82</td>\n",
              "    </tr>\n",
              "    <tr>\n",
              "      <th>2</th>\n",
              "      <td>webtorrent/webtorrent</td>\n",
              "      <td>3090</td>\n",
              "      <td>207</td>\n",
              "    </tr>\n",
              "    <tr>\n",
              "      <th>3</th>\n",
              "      <td>apache/skywalking</td>\n",
              "      <td>6952</td>\n",
              "      <td>690</td>\n",
              "    </tr>\n",
              "    <tr>\n",
              "      <th>4</th>\n",
              "      <td>qyuhen/book</td>\n",
              "      <td>66</td>\n",
              "      <td>0</td>\n",
              "    </tr>\n",
              "    <tr>\n",
              "      <th>...</th>\n",
              "      <td>...</td>\n",
              "      <td>...</td>\n",
              "      <td>...</td>\n",
              "    </tr>\n",
              "    <tr>\n",
              "      <th>884</th>\n",
              "      <td>fengdu78/lihang-code</td>\n",
              "      <td>45</td>\n",
              "      <td>0</td>\n",
              "    </tr>\n",
              "    <tr>\n",
              "      <th>885</th>\n",
              "      <td>aui/art-template</td>\n",
              "      <td>598</td>\n",
              "      <td>26</td>\n",
              "    </tr>\n",
              "    <tr>\n",
              "      <th>886</th>\n",
              "      <td>go-redis/redis</td>\n",
              "      <td>2019</td>\n",
              "      <td>192</td>\n",
              "    </tr>\n",
              "    <tr>\n",
              "      <th>887</th>\n",
              "      <td>strapi/strapi</td>\n",
              "      <td>20568</td>\n",
              "      <td>2178</td>\n",
              "    </tr>\n",
              "    <tr>\n",
              "      <th>888</th>\n",
              "      <td>TheAlgorithms/C-Plus-Plus</td>\n",
              "      <td>1555</td>\n",
              "      <td>215</td>\n",
              "    </tr>\n",
              "  </tbody>\n",
              "</table>\n",
              "<p>889 rows × 3 columns</p>\n",
              "</div>"
            ]
          },
          "metadata": {},
          "execution_count": 7
        }
      ]
    },
    {
      "cell_type": "code",
      "source": [
        "df_path = '/content/drive/MyDrive/GHDomains/Resources/new_popular_df_predicted.csv'\n",
        "df_path = '/Volumes/GoogleDrive/My Drive/GHDomains/Resources/new_popular_df_predicted.csv'\n",
        "\n",
        "new_popular_df = pd.read_csv(df_path, usecols=['Name','Predicted_labels'])\n",
        "new_popular_df"
      ],
      "metadata": {
        "colab": {
          "base_uri": "https://localhost:8080/",
          "height": 424
        },
        "id": "WiUpPUv0kBMm",
        "outputId": "1050c54b-f76f-46aa-c007-d5c05959c474"
      },
      "execution_count": 8,
      "outputs": [
        {
          "output_type": "execute_result",
          "data": {
            "text/plain": [
              "                                         Name              Predicted_labels\n",
              "0                              vuejs/devtools  Web libraries and frameworks\n",
              "1             futurice/android-best-practices                 Documentation\n",
              "2             microsoft/Web-Dev-For-Beginners                 Documentation\n",
              "3                      airbnb/react-sketchapp  Web libraries and frameworks\n",
              "4                        eugeneyan/applied-ml                 Documentation\n",
              "..                                        ...                           ...\n",
              "436                          railsware/upterm                Software tools\n",
              "437                              matryer/xbar                Software tools\n",
              "438          thedaviddias/Front-End-Checklist                 Documentation\n",
              "439  electronicarts/CnC_Remastered_Collection                 Documentation\n",
              "440                        ageron/handson-ml2                 Documentation\n",
              "\n",
              "[441 rows x 2 columns]"
            ],
            "text/html": [
              "<div>\n",
              "<style scoped>\n",
              "    .dataframe tbody tr th:only-of-type {\n",
              "        vertical-align: middle;\n",
              "    }\n",
              "\n",
              "    .dataframe tbody tr th {\n",
              "        vertical-align: top;\n",
              "    }\n",
              "\n",
              "    .dataframe thead th {\n",
              "        text-align: right;\n",
              "    }\n",
              "</style>\n",
              "<table border=\"1\" class=\"dataframe\">\n",
              "  <thead>\n",
              "    <tr style=\"text-align: right;\">\n",
              "      <th></th>\n",
              "      <th>Name</th>\n",
              "      <th>Predicted_labels</th>\n",
              "    </tr>\n",
              "  </thead>\n",
              "  <tbody>\n",
              "    <tr>\n",
              "      <th>0</th>\n",
              "      <td>vuejs/devtools</td>\n",
              "      <td>Web libraries and frameworks</td>\n",
              "    </tr>\n",
              "    <tr>\n",
              "      <th>1</th>\n",
              "      <td>futurice/android-best-practices</td>\n",
              "      <td>Documentation</td>\n",
              "    </tr>\n",
              "    <tr>\n",
              "      <th>2</th>\n",
              "      <td>microsoft/Web-Dev-For-Beginners</td>\n",
              "      <td>Documentation</td>\n",
              "    </tr>\n",
              "    <tr>\n",
              "      <th>3</th>\n",
              "      <td>airbnb/react-sketchapp</td>\n",
              "      <td>Web libraries and frameworks</td>\n",
              "    </tr>\n",
              "    <tr>\n",
              "      <th>4</th>\n",
              "      <td>eugeneyan/applied-ml</td>\n",
              "      <td>Documentation</td>\n",
              "    </tr>\n",
              "    <tr>\n",
              "      <th>...</th>\n",
              "      <td>...</td>\n",
              "      <td>...</td>\n",
              "    </tr>\n",
              "    <tr>\n",
              "      <th>436</th>\n",
              "      <td>railsware/upterm</td>\n",
              "      <td>Software tools</td>\n",
              "    </tr>\n",
              "    <tr>\n",
              "      <th>437</th>\n",
              "      <td>matryer/xbar</td>\n",
              "      <td>Software tools</td>\n",
              "    </tr>\n",
              "    <tr>\n",
              "      <th>438</th>\n",
              "      <td>thedaviddias/Front-End-Checklist</td>\n",
              "      <td>Documentation</td>\n",
              "    </tr>\n",
              "    <tr>\n",
              "      <th>439</th>\n",
              "      <td>electronicarts/CnC_Remastered_Collection</td>\n",
              "      <td>Documentation</td>\n",
              "    </tr>\n",
              "    <tr>\n",
              "      <th>440</th>\n",
              "      <td>ageron/handson-ml2</td>\n",
              "      <td>Documentation</td>\n",
              "    </tr>\n",
              "  </tbody>\n",
              "</table>\n",
              "<p>441 rows × 2 columns</p>\n",
              "</div>"
            ]
          },
          "metadata": {},
          "execution_count": 8
        }
      ]
    },
    {
      "cell_type": "code",
      "source": [
        "join_data = pd.merge(new_popular_df, df, on ='Name', how ='inner')\n",
        "join_data['Non refactoring commits'] = join_data['Commits'] - join_data['Matches']\n",
        "\n",
        "columns = ['Name','Domain','Total commits', 'Refactoring commits', 'Non refactoring commits']\n",
        "join_data.columns = columns\n",
        "join_data = join_data[['Name','Domain', 'Refactoring commits', 'Non refactoring commits','Total commits']]\n",
        "join_data"
      ],
      "metadata": {
        "colab": {
          "base_uri": "https://localhost:8080/",
          "height": 424
        },
        "id": "Sx2rtk-nk3s5",
        "outputId": "6f456f7a-3d16-4406-a1e3-e85d23df980d"
      },
      "execution_count": 9,
      "outputs": [
        {
          "output_type": "execute_result",
          "data": {
            "text/plain": [
              "                                         Name                        Domain  \\\n",
              "0                              vuejs/devtools  Web libraries and frameworks   \n",
              "1             futurice/android-best-practices                 Documentation   \n",
              "2             microsoft/Web-Dev-For-Beginners                 Documentation   \n",
              "3                      airbnb/react-sketchapp  Web libraries and frameworks   \n",
              "4                        eugeneyan/applied-ml                 Documentation   \n",
              "..                                        ...                           ...   \n",
              "436                          railsware/upterm                Software tools   \n",
              "437                              matryer/xbar                Software tools   \n",
              "438          thedaviddias/Front-End-Checklist                 Documentation   \n",
              "439  electronicarts/CnC_Remastered_Collection                 Documentation   \n",
              "440                        ageron/handson-ml2                 Documentation   \n",
              "\n",
              "     Refactoring commits  Non refactoring commits  Total commits  \n",
              "0                    246                     1723           1969  \n",
              "1                     31                      216            247  \n",
              "2                     60                     1205           1265  \n",
              "3                    123                      657            780  \n",
              "4                     22                      377            399  \n",
              "..                   ...                      ...            ...  \n",
              "436                  446                     2552           2998  \n",
              "437                   96                      935           1031  \n",
              "438                   82                      612            694  \n",
              "439                    1                       11             12  \n",
              "440                  153                      752            905  \n",
              "\n",
              "[441 rows x 5 columns]"
            ],
            "text/html": [
              "<div>\n",
              "<style scoped>\n",
              "    .dataframe tbody tr th:only-of-type {\n",
              "        vertical-align: middle;\n",
              "    }\n",
              "\n",
              "    .dataframe tbody tr th {\n",
              "        vertical-align: top;\n",
              "    }\n",
              "\n",
              "    .dataframe thead th {\n",
              "        text-align: right;\n",
              "    }\n",
              "</style>\n",
              "<table border=\"1\" class=\"dataframe\">\n",
              "  <thead>\n",
              "    <tr style=\"text-align: right;\">\n",
              "      <th></th>\n",
              "      <th>Name</th>\n",
              "      <th>Domain</th>\n",
              "      <th>Refactoring commits</th>\n",
              "      <th>Non refactoring commits</th>\n",
              "      <th>Total commits</th>\n",
              "    </tr>\n",
              "  </thead>\n",
              "  <tbody>\n",
              "    <tr>\n",
              "      <th>0</th>\n",
              "      <td>vuejs/devtools</td>\n",
              "      <td>Web libraries and frameworks</td>\n",
              "      <td>246</td>\n",
              "      <td>1723</td>\n",
              "      <td>1969</td>\n",
              "    </tr>\n",
              "    <tr>\n",
              "      <th>1</th>\n",
              "      <td>futurice/android-best-practices</td>\n",
              "      <td>Documentation</td>\n",
              "      <td>31</td>\n",
              "      <td>216</td>\n",
              "      <td>247</td>\n",
              "    </tr>\n",
              "    <tr>\n",
              "      <th>2</th>\n",
              "      <td>microsoft/Web-Dev-For-Beginners</td>\n",
              "      <td>Documentation</td>\n",
              "      <td>60</td>\n",
              "      <td>1205</td>\n",
              "      <td>1265</td>\n",
              "    </tr>\n",
              "    <tr>\n",
              "      <th>3</th>\n",
              "      <td>airbnb/react-sketchapp</td>\n",
              "      <td>Web libraries and frameworks</td>\n",
              "      <td>123</td>\n",
              "      <td>657</td>\n",
              "      <td>780</td>\n",
              "    </tr>\n",
              "    <tr>\n",
              "      <th>4</th>\n",
              "      <td>eugeneyan/applied-ml</td>\n",
              "      <td>Documentation</td>\n",
              "      <td>22</td>\n",
              "      <td>377</td>\n",
              "      <td>399</td>\n",
              "    </tr>\n",
              "    <tr>\n",
              "      <th>...</th>\n",
              "      <td>...</td>\n",
              "      <td>...</td>\n",
              "      <td>...</td>\n",
              "      <td>...</td>\n",
              "      <td>...</td>\n",
              "    </tr>\n",
              "    <tr>\n",
              "      <th>436</th>\n",
              "      <td>railsware/upterm</td>\n",
              "      <td>Software tools</td>\n",
              "      <td>446</td>\n",
              "      <td>2552</td>\n",
              "      <td>2998</td>\n",
              "    </tr>\n",
              "    <tr>\n",
              "      <th>437</th>\n",
              "      <td>matryer/xbar</td>\n",
              "      <td>Software tools</td>\n",
              "      <td>96</td>\n",
              "      <td>935</td>\n",
              "      <td>1031</td>\n",
              "    </tr>\n",
              "    <tr>\n",
              "      <th>438</th>\n",
              "      <td>thedaviddias/Front-End-Checklist</td>\n",
              "      <td>Documentation</td>\n",
              "      <td>82</td>\n",
              "      <td>612</td>\n",
              "      <td>694</td>\n",
              "    </tr>\n",
              "    <tr>\n",
              "      <th>439</th>\n",
              "      <td>electronicarts/CnC_Remastered_Collection</td>\n",
              "      <td>Documentation</td>\n",
              "      <td>1</td>\n",
              "      <td>11</td>\n",
              "      <td>12</td>\n",
              "    </tr>\n",
              "    <tr>\n",
              "      <th>440</th>\n",
              "      <td>ageron/handson-ml2</td>\n",
              "      <td>Documentation</td>\n",
              "      <td>153</td>\n",
              "      <td>752</td>\n",
              "      <td>905</td>\n",
              "    </tr>\n",
              "  </tbody>\n",
              "</table>\n",
              "<p>441 rows × 5 columns</p>\n",
              "</div>"
            ]
          },
          "metadata": {},
          "execution_count": 9
        }
      ]
    },
    {
      "cell_type": "code",
      "source": [
        "df = join_data.groupby(['Domain']).sum()\n",
        "df"
      ],
      "metadata": {
        "colab": {
          "base_uri": "https://localhost:8080/",
          "height": 238
        },
        "id": "T-9W0stDlprG",
        "outputId": "f75b27ed-123f-4f48-b906-eed770bc3880"
      },
      "execution_count": 10,
      "outputs": [
        {
          "output_type": "execute_result",
          "data": {
            "text/plain": [
              "                                  Refactoring commits  \\\n",
              "Domain                                                  \n",
              "Application & System software                   26944   \n",
              "Documentation                                   14659   \n",
              "Non-web libraries and frameworks                39691   \n",
              "Software tools                                  95763   \n",
              "Web libraries and frameworks                    40523   \n",
              "\n",
              "                                  Non refactoring commits  Total commits  \n",
              "Domain                                                                    \n",
              "Application & System software                      221592         248536  \n",
              "Documentation                                      171339         185998  \n",
              "Non-web libraries and frameworks                   218165         257856  \n",
              "Software tools                                     684374         780137  \n",
              "Web libraries and frameworks                       280503         321026  "
            ],
            "text/html": [
              "<div>\n",
              "<style scoped>\n",
              "    .dataframe tbody tr th:only-of-type {\n",
              "        vertical-align: middle;\n",
              "    }\n",
              "\n",
              "    .dataframe tbody tr th {\n",
              "        vertical-align: top;\n",
              "    }\n",
              "\n",
              "    .dataframe thead th {\n",
              "        text-align: right;\n",
              "    }\n",
              "</style>\n",
              "<table border=\"1\" class=\"dataframe\">\n",
              "  <thead>\n",
              "    <tr style=\"text-align: right;\">\n",
              "      <th></th>\n",
              "      <th>Refactoring commits</th>\n",
              "      <th>Non refactoring commits</th>\n",
              "      <th>Total commits</th>\n",
              "    </tr>\n",
              "    <tr>\n",
              "      <th>Domain</th>\n",
              "      <th></th>\n",
              "      <th></th>\n",
              "      <th></th>\n",
              "    </tr>\n",
              "  </thead>\n",
              "  <tbody>\n",
              "    <tr>\n",
              "      <th>Application &amp; System software</th>\n",
              "      <td>26944</td>\n",
              "      <td>221592</td>\n",
              "      <td>248536</td>\n",
              "    </tr>\n",
              "    <tr>\n",
              "      <th>Documentation</th>\n",
              "      <td>14659</td>\n",
              "      <td>171339</td>\n",
              "      <td>185998</td>\n",
              "    </tr>\n",
              "    <tr>\n",
              "      <th>Non-web libraries and frameworks</th>\n",
              "      <td>39691</td>\n",
              "      <td>218165</td>\n",
              "      <td>257856</td>\n",
              "    </tr>\n",
              "    <tr>\n",
              "      <th>Software tools</th>\n",
              "      <td>95763</td>\n",
              "      <td>684374</td>\n",
              "      <td>780137</td>\n",
              "    </tr>\n",
              "    <tr>\n",
              "      <th>Web libraries and frameworks</th>\n",
              "      <td>40523</td>\n",
              "      <td>280503</td>\n",
              "      <td>321026</td>\n",
              "    </tr>\n",
              "  </tbody>\n",
              "</table>\n",
              "</div>"
            ]
          },
          "metadata": {},
          "execution_count": 10
        }
      ]
    },
    {
      "cell_type": "code",
      "source": [
        "domains = join_data['Domain'].unique()\n",
        "\n",
        "for domain in domains:\n",
        "    print(domain, ':')\n",
        "    data1 = df.loc[domain]\n",
        "    data2 = df.loc[domains[domains != domain]].sum()\n",
        "    aux = np.column_stack((data1, data2))[:2].T\n",
        "    print(aux)\n",
        "    stat, p, dof, expected = chi2_contingency(aux)\n",
        "    print('dof=%d' % dof)\n",
        "    print(expected)\n",
        "    # interpret test-statistic\n",
        "    prob = 0.95\n",
        "    critical = chi2.ppf(prob, dof)\n",
        "    print('probability=%.3f, critical=%.3f, stat=%.3f' % (prob, critical, stat))\n",
        "    if abs(stat) >= critical:\n",
        "        print('Dependent (reject H0)')\n",
        "    else:\n",
        "        print('Independent (fail to reject H0)')\n",
        "    # interpret p-value\n",
        "    alpha = 1.0 - prob\n",
        "    print('significance=%.3f, p=%.3f' % (alpha, p))\n",
        "    if p <= alpha:\n",
        "        print('Dependent (reject H0)')\n",
        "    else:\n",
        "        print('Independent (fail to reject H0)')\n",
        "    print('=========================================')"
      ],
      "metadata": {
        "colab": {
          "base_uri": "https://localhost:8080/"
        },
        "id": "gIlyHYsskzVf",
        "outputId": "3af14316-1e85-42b9-9362-b2494ab5d5a0"
      },
      "execution_count": 11,
      "outputs": [
        {
          "output_type": "stream",
          "name": "stdout",
          "text": [
            "Web libraries and frameworks :\n",
            "[[  40523  280503]\n",
            " [ 177057 1295470]]\n",
            "dof=1\n",
            "[[  38944.3953315  282081.6046685]\n",
            " [ 178635.6046685 1293891.3953315]]\n",
            "probability=0.950, critical=3.841, stat=88.643\n",
            "Dependent (reject H0)\n",
            "significance=0.050, p=0.000\n",
            "Dependent (reject H0)\n",
            "=========================================\n",
            "Documentation :\n",
            "[[  14659  171339]\n",
            " [ 202921 1404634]]\n",
            "dof=1\n",
            "[[  22563.84106854  163434.15893146]\n",
            " [ 195016.15893146 1412538.84106854]]\n",
            "probability=0.950, critical=3.841, stat=3515.864\n",
            "Dependent (reject H0)\n",
            "significance=0.050, p=0.000\n",
            "Dependent (reject H0)\n",
            "=========================================\n",
            "Software tools :\n",
            "[[ 95763 684374]\n",
            " [121817 891599]]\n",
            "dof=1\n",
            "[[ 94640.19655957 685496.80344043]\n",
            " [122939.80344043 890476.19655957]]\n",
            "probability=0.950, critical=3.841, stat=26.806\n",
            "Dependent (reject H0)\n",
            "significance=0.050, p=0.000\n",
            "Dependent (reject H0)\n",
            "=========================================\n",
            "Application & System software :\n",
            "[[  26944  221592]\n",
            " [ 190636 1354381]]\n",
            "dof=1\n",
            "[[  30150.46830509  218385.53169491]\n",
            " [ 187429.53169491 1357587.46830509]]\n",
            "probability=0.950, critical=3.841, stat=450.371\n",
            "Dependent (reject H0)\n",
            "significance=0.050, p=0.000\n",
            "Dependent (reject H0)\n",
            "=========================================\n",
            "Non-web libraries and frameworks :\n",
            "[[  39691  218165]\n",
            " [ 177889 1357808]]\n",
            "dof=1\n",
            "[[  31281.0987353  226574.9012647]\n",
            " [ 186298.9012647 1349398.0987353]]\n",
            "probability=0.950, critical=3.841, stat=3004.846\n",
            "Dependent (reject H0)\n",
            "significance=0.050, p=0.000\n",
            "Dependent (reject H0)\n",
            "=========================================\n"
          ]
        }
      ]
    }
  ]
}