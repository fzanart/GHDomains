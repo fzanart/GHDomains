{
  "nbformat": 4,
  "nbformat_minor": 0,
  "metadata": {
    "colab": {
      "name": "Refactoring.ipynb",
      "provenance": [],
      "authorship_tag": "ABX9TyPDMgMkrTu42TkvN+RV6jM9",
      "include_colab_link": true
    },
    "kernelspec": {
      "name": "python3",
      "display_name": "Python 3"
    },
    "language_info": {
      "name": "python"
    }
  },
  "cells": [
    {
      "cell_type": "markdown",
      "metadata": {
        "id": "view-in-github",
        "colab_type": "text"
      },
      "source": [
        "<a href=\"https://colab.research.google.com/github/fzanart/GHDomains/blob/main/Refactoring.ipynb\" target=\"_parent\"><img src=\"https://colab.research.google.com/assets/colab-badge.svg\" alt=\"Open In Colab\"/></a>"
      ]
    },
    {
      "cell_type": "code",
      "execution_count": 13,
      "metadata": {
        "colab": {
          "base_uri": "https://localhost:8080/"
        },
        "id": "DuX3FgmTeYjC",
        "outputId": "4f170175-9087-4113-c9df-433d229bcf1d"
      },
      "outputs": [
        {
          "output_type": "stream",
          "name": "stderr",
          "text": [
            "[nltk_data] Downloading package punkt to /Users/francisco/nltk_data...\n",
            "[nltk_data]   Package punkt is already up-to-date!\n"
          ]
        },
        {
          "output_type": "execute_result",
          "data": {
            "text/plain": [
              "True"
            ]
          },
          "metadata": {},
          "execution_count": 13
        }
      ],
      "source": [
        "import os\n",
        "import pandas as pd\n",
        "from nltk import word_tokenize\n",
        "from nltk.stem.snowball import SnowballStemmer\n",
        "from nltk import download\n",
        "ss = SnowballStemmer('english')\n",
        "from spacy import load\n",
        "from spacy.matcher import Matcher\n",
        "from tqdm import tqdm\n",
        "nlp = load(\"en_core_web_sm\", exclude=[\"tok2vec\", \"tagger\", \"parser\",'senter', \"attribute_ruler\", \"lemmatizer\", 'ner'])\n",
        "# from google.colab import drive\n",
        "# drive.mount('/content/drive/')\n",
        "# chi-squared test with similar proportions\n",
        "from scipy.stats import chi2_contingency\n",
        "from scipy.stats import chi2\n",
        "import numpy as np\n",
        "download('punkt')"
      ]
    },
    {
      "cell_type": "code",
      "source": [
        "import multiprocessing as mp\n",
        "pool = mp.Pool(mp.cpu_count())\n",
        "mp.cpu_count()"
      ],
      "metadata": {
        "colab": {
          "base_uri": "https://localhost:8080/"
        },
        "id": "mediErvxthcA",
        "outputId": "d8bf6c9c-6d17-49ce-84f5-e9b7c9b74a1e"
      },
      "execution_count": 14,
      "outputs": [
        {
          "output_type": "execute_result",
          "data": {
            "text/plain": [
              "8"
            ]
          },
          "metadata": {},
          "execution_count": 14
        }
      ]
    },
    {
      "cell_type": "code",
      "source": [
        "directory = '/content/drive/MyDrive/GHDomains/Downloaded_repos/'\n",
        "local_directory = '/Volumes/GoogleDrive/My Drive/GHDomains/Downloaded_repos/'\n",
        "directory = local_directory"
      ],
      "metadata": {
        "id": "XusvohqRg-sI"
      },
      "execution_count": 15,
      "outputs": []
    },
    {
      "cell_type": "code",
      "source": [
        "word_list = ['refactor', 'restruct', 'clean', 'not used', 'unused', 'reformat', 'import', 'remove', 'replace', 'split', 'reorg', 'rename', 'move']\n",
        "\n",
        "matcher = Matcher(nlp.vocab)\n",
        "\n",
        "# Add patterns\n",
        "patterns= [[{\"LOWER\": \"refactor\"}],\n",
        "            [{\"LOWER\": \"restruct\"}],\n",
        "            [{\"LOWER\": \"clean\"}],\n",
        "            [{\"LOWER\": \"not\"},{\"LOWER\": \"use\"}],    # used      steam = use\n",
        "            [{\"LOWER\": \"unus\"}],                    # unused    steam = unus\n",
        "            [{\"LOWER\": \"reformat\"}],                ## steam = reform\n",
        "            [{\"LOWER\": \"import\"}],\n",
        "            [{\"LOWER\": \"remov\"}],                   # remove    steam = remov\n",
        "            [{\"LOWER\": \"replac\"}],                  # replace   steam = replac\n",
        "            [{\"LOWER\": \"split\"}],                   ## split     steam = splite / split\n",
        "            [{\"LOWER\": \"reorg\"}],                   # reorg     steam = reorg\n",
        "            [{\"LOWER\": \"renam\"}],                   # rename    steam = renam\n",
        "            [{\"LOWER\": \"move\"}]]\n",
        "\n",
        "matcher.add(\"refactoring_pattern\", patterns)"
      ],
      "metadata": {
        "id": "X262os4ZfRIB"
      },
      "execution_count": 16,
      "outputs": []
    },
    {
      "cell_type": "code",
      "source": [
        "def word_matcher(text):\n",
        "    \n",
        "    try:\n",
        "        with nlp.disable_pipes():\n",
        "        # Tokenize the commit sentence:\n",
        "            text = word_tokenize(text)\n",
        "        # apply steam technique\n",
        "            text = ' '.join([ss.stem(word) for word in text])\n",
        "        # select matching words\n",
        "            text = nlp(text)\n",
        "            words = matcher(text)\n",
        "    except TypeError:\n",
        "        return 0\n",
        "\n",
        "    if len(words)>0:\n",
        "\n",
        "        return 1\n",
        "\n",
        "    else:\n",
        "\n",
        "        return 0"
      ],
      "metadata": {
        "id": "MAeO7G1Mfz9c"
      },
      "execution_count": 17,
      "outputs": []
    },
    {
      "cell_type": "code",
      "source": [
        "repos_ids = [file_name for file_name in os.listdir(directory) if file_name.endswith('.json') and not file_name.startswith('all_repos')]\n",
        "repos_ids = list(set(repos_ids))\n",
        "len(repos_ids)"
      ],
      "metadata": {
        "colab": {
          "base_uri": "https://localhost:8080/"
        },
        "id": "y2GshhJ1_qnW",
        "outputId": "27ca9e08-b0e2-4f8f-d860-f43c4c0b0760"
      },
      "execution_count": 18,
      "outputs": [
        {
          "output_type": "execute_result",
          "data": {
            "text/plain": [
              "889"
            ]
          },
          "metadata": {},
          "execution_count": 18
        }
      ]
    },
    {
      "cell_type": "code",
      "source": [
        "matches = []\n",
        "to_rescan = []\n",
        "\n",
        "for filename in tqdm(repos_ids):\n",
        "      try:\n",
        "          aux_reader = pd.read_json(directory+filename)\n",
        "          commits    = aux_reader['Messages:'].size\n",
        "          match      = aux_reader['Messages:'].apply(word_matcher).sum()\n",
        "          filename   = filename.replace(':', '/').replace('.json', '')\n",
        "          matches.extend([(filename, commits, match)])\n",
        "      except:\n",
        "          print('None commits found in: ', filename)\n",
        "          filename   = filename.replace(':', '/')\n",
        "          filename   = filename.replace('.json', '')\n",
        "          to_rescan.extend([filename])\n",
        "\n",
        "\n",
        "df = pd.DataFrame(matches, columns =['Name', 'Commits', 'Matches'])\n",
        "df"
      ],
      "metadata": {
        "colab": {
          "base_uri": "https://localhost:8080/",
          "height": 441
        },
        "id": "pML5Y9Dgf1d5",
        "outputId": "26c72b2d-7312-4182-e892-2a24063e624e"
      },
      "execution_count": 19,
      "outputs": [
        {
          "output_type": "stream",
          "name": "stderr",
          "text": [
            "100%|██████████████████████████████████████████████████████████████████████████████████████████████████████████████████████████████████████████████████████████████████| 889/889 [19:00<00:00,  1.28s/it]\n"
          ]
        },
        {
          "output_type": "execute_result",
          "data": {
            "text/plain": [
              "                           Name  Commits  Matches\n",
              "0               Netflix/pollyjs      364       54\n",
              "1                dotnet/runtime   116316    21904\n",
              "2                    plouc/nivo     1745      173\n",
              "3           github/copilot-docs       22        3\n",
              "4    jamiebuilds/babel-handbook      281       11\n",
              "..                          ...      ...      ...\n",
              "884         QSCTech/zju-icicles      419        8\n",
              "885             phanan/htaccess      156       19\n",
              "886       ClickHouse/ClickHouse    84357     6875\n",
              "887      facebookarchive/caffe2     3680      644\n",
              "888          angular/components     9437     2401\n",
              "\n",
              "[889 rows x 3 columns]"
            ],
            "text/html": [
              "<div>\n",
              "<style scoped>\n",
              "    .dataframe tbody tr th:only-of-type {\n",
              "        vertical-align: middle;\n",
              "    }\n",
              "\n",
              "    .dataframe tbody tr th {\n",
              "        vertical-align: top;\n",
              "    }\n",
              "\n",
              "    .dataframe thead th {\n",
              "        text-align: right;\n",
              "    }\n",
              "</style>\n",
              "<table border=\"1\" class=\"dataframe\">\n",
              "  <thead>\n",
              "    <tr style=\"text-align: right;\">\n",
              "      <th></th>\n",
              "      <th>Name</th>\n",
              "      <th>Commits</th>\n",
              "      <th>Matches</th>\n",
              "    </tr>\n",
              "  </thead>\n",
              "  <tbody>\n",
              "    <tr>\n",
              "      <th>0</th>\n",
              "      <td>Netflix/pollyjs</td>\n",
              "      <td>364</td>\n",
              "      <td>54</td>\n",
              "    </tr>\n",
              "    <tr>\n",
              "      <th>1</th>\n",
              "      <td>dotnet/runtime</td>\n",
              "      <td>116316</td>\n",
              "      <td>21904</td>\n",
              "    </tr>\n",
              "    <tr>\n",
              "      <th>2</th>\n",
              "      <td>plouc/nivo</td>\n",
              "      <td>1745</td>\n",
              "      <td>173</td>\n",
              "    </tr>\n",
              "    <tr>\n",
              "      <th>3</th>\n",
              "      <td>github/copilot-docs</td>\n",
              "      <td>22</td>\n",
              "      <td>3</td>\n",
              "    </tr>\n",
              "    <tr>\n",
              "      <th>4</th>\n",
              "      <td>jamiebuilds/babel-handbook</td>\n",
              "      <td>281</td>\n",
              "      <td>11</td>\n",
              "    </tr>\n",
              "    <tr>\n",
              "      <th>...</th>\n",
              "      <td>...</td>\n",
              "      <td>...</td>\n",
              "      <td>...</td>\n",
              "    </tr>\n",
              "    <tr>\n",
              "      <th>884</th>\n",
              "      <td>QSCTech/zju-icicles</td>\n",
              "      <td>419</td>\n",
              "      <td>8</td>\n",
              "    </tr>\n",
              "    <tr>\n",
              "      <th>885</th>\n",
              "      <td>phanan/htaccess</td>\n",
              "      <td>156</td>\n",
              "      <td>19</td>\n",
              "    </tr>\n",
              "    <tr>\n",
              "      <th>886</th>\n",
              "      <td>ClickHouse/ClickHouse</td>\n",
              "      <td>84357</td>\n",
              "      <td>6875</td>\n",
              "    </tr>\n",
              "    <tr>\n",
              "      <th>887</th>\n",
              "      <td>facebookarchive/caffe2</td>\n",
              "      <td>3680</td>\n",
              "      <td>644</td>\n",
              "    </tr>\n",
              "    <tr>\n",
              "      <th>888</th>\n",
              "      <td>angular/components</td>\n",
              "      <td>9437</td>\n",
              "      <td>2401</td>\n",
              "    </tr>\n",
              "  </tbody>\n",
              "</table>\n",
              "<p>889 rows × 3 columns</p>\n",
              "</div>"
            ]
          },
          "metadata": {},
          "execution_count": 19
        }
      ]
    },
    {
      "cell_type": "code",
      "source": [
        "df_path = '/content/drive/MyDrive/GHDomains/Resources/new_popular_df_predicted.csv'\n",
        "df_path = '/Volumes/GoogleDrive/My Drive/GHDomains/Resources/new_popular_df_predicted.csv'\n",
        "\n",
        "new_popular_df = pd.read_csv(df_path, usecols=['Name','Predicted_labels'])\n",
        "new_popular_df"
      ],
      "metadata": {
        "colab": {
          "base_uri": "https://localhost:8080/",
          "height": 424
        },
        "id": "WiUpPUv0kBMm",
        "outputId": "a320adff-1100-455e-8f8b-6d35c0bfde8c"
      },
      "execution_count": 20,
      "outputs": [
        {
          "output_type": "execute_result",
          "data": {
            "text/plain": [
              "                                Name                  Predicted_labels\n",
              "0                     vuejs/devtools      Web libraries and frameworks\n",
              "1    futurice/android-best-practices                     Documentation\n",
              "2    microsoft/Web-Dev-For-Beginners                     Documentation\n",
              "3             airbnb/react-sketchapp      Web libraries and frameworks\n",
              "4               eugeneyan/applied-ml                     Documentation\n",
              "..                               ...                               ...\n",
              "888               graphql/dataloader  Non-web libraries and frameworks\n",
              "889                 junyanz/CycleGAN  Non-web libraries and frameworks\n",
              "890                     Tencent/wcdb     Application & System software\n",
              "891          halfrost/Halfrost-Field  Non-web libraries and frameworks\n",
              "892                 hackjutsu/Lepton     Application & System software\n",
              "\n",
              "[893 rows x 2 columns]"
            ],
            "text/html": [
              "<div>\n",
              "<style scoped>\n",
              "    .dataframe tbody tr th:only-of-type {\n",
              "        vertical-align: middle;\n",
              "    }\n",
              "\n",
              "    .dataframe tbody tr th {\n",
              "        vertical-align: top;\n",
              "    }\n",
              "\n",
              "    .dataframe thead th {\n",
              "        text-align: right;\n",
              "    }\n",
              "</style>\n",
              "<table border=\"1\" class=\"dataframe\">\n",
              "  <thead>\n",
              "    <tr style=\"text-align: right;\">\n",
              "      <th></th>\n",
              "      <th>Name</th>\n",
              "      <th>Predicted_labels</th>\n",
              "    </tr>\n",
              "  </thead>\n",
              "  <tbody>\n",
              "    <tr>\n",
              "      <th>0</th>\n",
              "      <td>vuejs/devtools</td>\n",
              "      <td>Web libraries and frameworks</td>\n",
              "    </tr>\n",
              "    <tr>\n",
              "      <th>1</th>\n",
              "      <td>futurice/android-best-practices</td>\n",
              "      <td>Documentation</td>\n",
              "    </tr>\n",
              "    <tr>\n",
              "      <th>2</th>\n",
              "      <td>microsoft/Web-Dev-For-Beginners</td>\n",
              "      <td>Documentation</td>\n",
              "    </tr>\n",
              "    <tr>\n",
              "      <th>3</th>\n",
              "      <td>airbnb/react-sketchapp</td>\n",
              "      <td>Web libraries and frameworks</td>\n",
              "    </tr>\n",
              "    <tr>\n",
              "      <th>4</th>\n",
              "      <td>eugeneyan/applied-ml</td>\n",
              "      <td>Documentation</td>\n",
              "    </tr>\n",
              "    <tr>\n",
              "      <th>...</th>\n",
              "      <td>...</td>\n",
              "      <td>...</td>\n",
              "    </tr>\n",
              "    <tr>\n",
              "      <th>888</th>\n",
              "      <td>graphql/dataloader</td>\n",
              "      <td>Non-web libraries and frameworks</td>\n",
              "    </tr>\n",
              "    <tr>\n",
              "      <th>889</th>\n",
              "      <td>junyanz/CycleGAN</td>\n",
              "      <td>Non-web libraries and frameworks</td>\n",
              "    </tr>\n",
              "    <tr>\n",
              "      <th>890</th>\n",
              "      <td>Tencent/wcdb</td>\n",
              "      <td>Application &amp; System software</td>\n",
              "    </tr>\n",
              "    <tr>\n",
              "      <th>891</th>\n",
              "      <td>halfrost/Halfrost-Field</td>\n",
              "      <td>Non-web libraries and frameworks</td>\n",
              "    </tr>\n",
              "    <tr>\n",
              "      <th>892</th>\n",
              "      <td>hackjutsu/Lepton</td>\n",
              "      <td>Application &amp; System software</td>\n",
              "    </tr>\n",
              "  </tbody>\n",
              "</table>\n",
              "<p>893 rows × 2 columns</p>\n",
              "</div>"
            ]
          },
          "metadata": {},
          "execution_count": 20
        }
      ]
    },
    {
      "cell_type": "code",
      "source": [
        "join_data = pd.merge(new_popular_df, df, on ='Name', how ='inner')\n",
        "join_data['Non refactoring commits'] = join_data['Commits'] - join_data['Matches']\n",
        "\n",
        "columns = ['Name','Domain','Total commits', 'Refactoring commits', 'Non refactoring commits']\n",
        "join_data.columns = columns\n",
        "join_data = join_data[['Name','Domain', 'Refactoring commits', 'Non refactoring commits','Total commits']]\n",
        "join_data"
      ],
      "metadata": {
        "colab": {
          "base_uri": "https://localhost:8080/",
          "height": 424
        },
        "id": "Sx2rtk-nk3s5",
        "outputId": "d7ef6071-a3fd-4d4a-8975-a13ef3aa85cf"
      },
      "execution_count": 21,
      "outputs": [
        {
          "output_type": "execute_result",
          "data": {
            "text/plain": [
              "                                Name                            Domain  \\\n",
              "0                     vuejs/devtools      Web libraries and frameworks   \n",
              "1    futurice/android-best-practices                     Documentation   \n",
              "2    microsoft/Web-Dev-For-Beginners                     Documentation   \n",
              "3             airbnb/react-sketchapp      Web libraries and frameworks   \n",
              "4               eugeneyan/applied-ml                     Documentation   \n",
              "..                               ...                               ...   \n",
              "884               graphql/dataloader  Non-web libraries and frameworks   \n",
              "885                 junyanz/CycleGAN  Non-web libraries and frameworks   \n",
              "886                     Tencent/wcdb     Application & System software   \n",
              "887          halfrost/Halfrost-Field  Non-web libraries and frameworks   \n",
              "888                 hackjutsu/Lepton     Application & System software   \n",
              "\n",
              "     Refactoring commits  Non refactoring commits  Total commits  \n",
              "0                    246                     1723           1969  \n",
              "1                     31                      216            247  \n",
              "2                     60                     1205           1265  \n",
              "3                    123                      657            780  \n",
              "4                     22                      377            399  \n",
              "..                   ...                      ...            ...  \n",
              "884                   13                      156            169  \n",
              "885                    6                       92             98  \n",
              "886                  212                      858           1070  \n",
              "887                    1                     1025           1026  \n",
              "888                   52                      618            670  \n",
              "\n",
              "[889 rows x 5 columns]"
            ],
            "text/html": [
              "<div>\n",
              "<style scoped>\n",
              "    .dataframe tbody tr th:only-of-type {\n",
              "        vertical-align: middle;\n",
              "    }\n",
              "\n",
              "    .dataframe tbody tr th {\n",
              "        vertical-align: top;\n",
              "    }\n",
              "\n",
              "    .dataframe thead th {\n",
              "        text-align: right;\n",
              "    }\n",
              "</style>\n",
              "<table border=\"1\" class=\"dataframe\">\n",
              "  <thead>\n",
              "    <tr style=\"text-align: right;\">\n",
              "      <th></th>\n",
              "      <th>Name</th>\n",
              "      <th>Domain</th>\n",
              "      <th>Refactoring commits</th>\n",
              "      <th>Non refactoring commits</th>\n",
              "      <th>Total commits</th>\n",
              "    </tr>\n",
              "  </thead>\n",
              "  <tbody>\n",
              "    <tr>\n",
              "      <th>0</th>\n",
              "      <td>vuejs/devtools</td>\n",
              "      <td>Web libraries and frameworks</td>\n",
              "      <td>246</td>\n",
              "      <td>1723</td>\n",
              "      <td>1969</td>\n",
              "    </tr>\n",
              "    <tr>\n",
              "      <th>1</th>\n",
              "      <td>futurice/android-best-practices</td>\n",
              "      <td>Documentation</td>\n",
              "      <td>31</td>\n",
              "      <td>216</td>\n",
              "      <td>247</td>\n",
              "    </tr>\n",
              "    <tr>\n",
              "      <th>2</th>\n",
              "      <td>microsoft/Web-Dev-For-Beginners</td>\n",
              "      <td>Documentation</td>\n",
              "      <td>60</td>\n",
              "      <td>1205</td>\n",
              "      <td>1265</td>\n",
              "    </tr>\n",
              "    <tr>\n",
              "      <th>3</th>\n",
              "      <td>airbnb/react-sketchapp</td>\n",
              "      <td>Web libraries and frameworks</td>\n",
              "      <td>123</td>\n",
              "      <td>657</td>\n",
              "      <td>780</td>\n",
              "    </tr>\n",
              "    <tr>\n",
              "      <th>4</th>\n",
              "      <td>eugeneyan/applied-ml</td>\n",
              "      <td>Documentation</td>\n",
              "      <td>22</td>\n",
              "      <td>377</td>\n",
              "      <td>399</td>\n",
              "    </tr>\n",
              "    <tr>\n",
              "      <th>...</th>\n",
              "      <td>...</td>\n",
              "      <td>...</td>\n",
              "      <td>...</td>\n",
              "      <td>...</td>\n",
              "      <td>...</td>\n",
              "    </tr>\n",
              "    <tr>\n",
              "      <th>884</th>\n",
              "      <td>graphql/dataloader</td>\n",
              "      <td>Non-web libraries and frameworks</td>\n",
              "      <td>13</td>\n",
              "      <td>156</td>\n",
              "      <td>169</td>\n",
              "    </tr>\n",
              "    <tr>\n",
              "      <th>885</th>\n",
              "      <td>junyanz/CycleGAN</td>\n",
              "      <td>Non-web libraries and frameworks</td>\n",
              "      <td>6</td>\n",
              "      <td>92</td>\n",
              "      <td>98</td>\n",
              "    </tr>\n",
              "    <tr>\n",
              "      <th>886</th>\n",
              "      <td>Tencent/wcdb</td>\n",
              "      <td>Application &amp; System software</td>\n",
              "      <td>212</td>\n",
              "      <td>858</td>\n",
              "      <td>1070</td>\n",
              "    </tr>\n",
              "    <tr>\n",
              "      <th>887</th>\n",
              "      <td>halfrost/Halfrost-Field</td>\n",
              "      <td>Non-web libraries and frameworks</td>\n",
              "      <td>1</td>\n",
              "      <td>1025</td>\n",
              "      <td>1026</td>\n",
              "    </tr>\n",
              "    <tr>\n",
              "      <th>888</th>\n",
              "      <td>hackjutsu/Lepton</td>\n",
              "      <td>Application &amp; System software</td>\n",
              "      <td>52</td>\n",
              "      <td>618</td>\n",
              "      <td>670</td>\n",
              "    </tr>\n",
              "  </tbody>\n",
              "</table>\n",
              "<p>889 rows × 5 columns</p>\n",
              "</div>"
            ]
          },
          "metadata": {},
          "execution_count": 21
        }
      ]
    },
    {
      "cell_type": "code",
      "source": [
        "df = join_data.groupby(['Domain']).sum()\n",
        "df"
      ],
      "metadata": {
        "colab": {
          "base_uri": "https://localhost:8080/",
          "height": 238
        },
        "id": "T-9W0stDlprG",
        "outputId": "f3d27147-e2a5-42a6-855f-a6a181a4b36f"
      },
      "execution_count": 22,
      "outputs": [
        {
          "output_type": "execute_result",
          "data": {
            "text/plain": [
              "                                  Refactoring commits  \\\n",
              "Domain                                                  \n",
              "Application & System software                   99034   \n",
              "Documentation                                   24753   \n",
              "Non-web libraries and frameworks                76829   \n",
              "Software tools                                 138194   \n",
              "Web libraries and frameworks                    59108   \n",
              "\n",
              "                                  Non refactoring commits  Total commits  \n",
              "Domain                                                                    \n",
              "Application & System software                      617733         716767  \n",
              "Documentation                                      386479         411232  \n",
              "Non-web libraries and frameworks                   430573         507402  \n",
              "Software tools                                     913870        1052064  \n",
              "Web libraries and frameworks                       418586         477694  "
            ],
            "text/html": [
              "<div>\n",
              "<style scoped>\n",
              "    .dataframe tbody tr th:only-of-type {\n",
              "        vertical-align: middle;\n",
              "    }\n",
              "\n",
              "    .dataframe tbody tr th {\n",
              "        vertical-align: top;\n",
              "    }\n",
              "\n",
              "    .dataframe thead th {\n",
              "        text-align: right;\n",
              "    }\n",
              "</style>\n",
              "<table border=\"1\" class=\"dataframe\">\n",
              "  <thead>\n",
              "    <tr style=\"text-align: right;\">\n",
              "      <th></th>\n",
              "      <th>Refactoring commits</th>\n",
              "      <th>Non refactoring commits</th>\n",
              "      <th>Total commits</th>\n",
              "    </tr>\n",
              "    <tr>\n",
              "      <th>Domain</th>\n",
              "      <th></th>\n",
              "      <th></th>\n",
              "      <th></th>\n",
              "    </tr>\n",
              "  </thead>\n",
              "  <tbody>\n",
              "    <tr>\n",
              "      <th>Application &amp; System software</th>\n",
              "      <td>99034</td>\n",
              "      <td>617733</td>\n",
              "      <td>716767</td>\n",
              "    </tr>\n",
              "    <tr>\n",
              "      <th>Documentation</th>\n",
              "      <td>24753</td>\n",
              "      <td>386479</td>\n",
              "      <td>411232</td>\n",
              "    </tr>\n",
              "    <tr>\n",
              "      <th>Non-web libraries and frameworks</th>\n",
              "      <td>76829</td>\n",
              "      <td>430573</td>\n",
              "      <td>507402</td>\n",
              "    </tr>\n",
              "    <tr>\n",
              "      <th>Software tools</th>\n",
              "      <td>138194</td>\n",
              "      <td>913870</td>\n",
              "      <td>1052064</td>\n",
              "    </tr>\n",
              "    <tr>\n",
              "      <th>Web libraries and frameworks</th>\n",
              "      <td>59108</td>\n",
              "      <td>418586</td>\n",
              "      <td>477694</td>\n",
              "    </tr>\n",
              "  </tbody>\n",
              "</table>\n",
              "</div>"
            ]
          },
          "metadata": {},
          "execution_count": 22
        }
      ]
    },
    {
      "cell_type": "code",
      "source": [
        "from math import sqrt \n",
        "\n",
        "def phi_effect_size(contingency_table):\n",
        "  # interpretation for degree of freedom = 1\n",
        "  # https://www.ncbi.nlm.nih.gov/pmc/articles/PMC5426219/#B2\n",
        "  effect_size = sqrt(stat/sum(sum(contingency_table)))\n",
        "\n",
        "  if effect_size <= 0.10:\n",
        "    interpretation = 'small'\n",
        "  elif 0.10 < effect_size <= 0.30:\n",
        "    interpretation = 'small to medium'\n",
        "  elif 0.30 < effect_size <= 0.50:\n",
        "    interpretation = 'medium to large'\n",
        "  elif effect_size > 0.50:\n",
        "    interpretation = 'large'\n",
        "\n",
        "  return round(effect_size,3), interpretation"
      ],
      "metadata": {
        "id": "b-RHjfaCz3Wk"
      },
      "execution_count": 23,
      "outputs": []
    },
    {
      "cell_type": "code",
      "source": [
        "domains = join_data['Domain'].unique()\n",
        "\n",
        "for domain in domains:\n",
        "    print(domain, ':')\n",
        "    data1 = df.loc[domain]\n",
        "    data2 = df.loc[domains[domains != domain]].sum()\n",
        "    aux = np.column_stack((data1, data2))[:2].T\n",
        "    print(aux)\n",
        "    stat, p, dof, expected = chi2_contingency(aux)\n",
        "    print('degrees of freedom = %d' % dof)\n",
        "    print(expected)\n",
        "    # interpret test-statistic\n",
        "    prob = 0.95\n",
        "    critical = chi2.ppf(prob, dof)\n",
        "    print('probability=%.3f, critical=%.3f, stat=%.3f' % (prob, critical, stat))\n",
        "    if abs(stat) >= critical:\n",
        "        print('Dependent (reject H0)')\n",
        "    else:\n",
        "        print('Independent (fail to reject H0)')\n",
        "    # interpret p-value\n",
        "    alpha = 1.0 - prob\n",
        "    print('significance=%.3f, p=%.3f' % (alpha, p))\n",
        "    if p <= alpha:\n",
        "        print('Dependent (reject H0)')\n",
        "    else:\n",
        "        print('Independent (fail to reject H0)')\n",
        "    print('Effect size: ', phi_effect_size(aux))\n",
        "    print('=========================================')"
      ],
      "metadata": {
        "colab": {
          "base_uri": "https://localhost:8080/"
        },
        "id": "gIlyHYsskzVf",
        "outputId": "62d94d4b-53d3-4e1f-ffcf-b77336ab5090"
      },
      "execution_count": 24,
      "outputs": [
        {
          "output_type": "stream",
          "name": "stdout",
          "text": [
            "Web libraries and frameworks :\n",
            "[[  59108  418586]\n",
            " [ 338810 2348655]]\n",
            "degrees of freedom = 1\n",
            "[[  60054.81591667  417639.18408333]\n",
            " [ 337863.18408333 2349601.81591667]]\n",
            "probability=0.950, critical=3.841, stat=20.087\n",
            "Dependent (reject H0)\n",
            "significance=0.050, p=0.000\n",
            "Dependent (reject H0)\n",
            "Effect size:  (0.003, 'small')\n",
            "=========================================\n",
            "Documentation :\n",
            "[[  24753  386479]\n",
            " [ 373165 2380762]]\n",
            "degrees of freedom = 1\n",
            "[[  51699.33484416  359532.66515584]\n",
            " [ 346218.66515584 2407708.33484416]]\n",
            "probability=0.950, critical=3.841, stat=18462.478\n",
            "Dependent (reject H0)\n",
            "significance=0.050, p=0.000\n",
            "Dependent (reject H0)\n",
            "Effect size:  (0.076, 'small')\n",
            "=========================================\n",
            "Software tools :\n",
            "[[ 138194  913870]\n",
            " [ 259724 1853371]]\n",
            "degrees of freedom = 1\n",
            "[[ 132263.5617206  919800.4382794]\n",
            " [ 265654.4382794 1847440.5617206]]\n",
            "probability=0.950, critical=3.841, stat=455.497\n",
            "Dependent (reject H0)\n",
            "significance=0.050, p=0.000\n",
            "Dependent (reject H0)\n",
            "Effect size:  (0.012, 'small')\n",
            "=========================================\n",
            "Application & System software :\n",
            "[[  99034  617733]\n",
            " [ 298884 2149508]]\n",
            "degrees of freedom = 1\n",
            "[[  90110.63618163  626656.36381837]\n",
            " [ 307807.36381837 2140584.63618163]]\n",
            "probability=0.950, critical=3.841, stat=1306.458\n",
            "Dependent (reject H0)\n",
            "significance=0.050, p=0.000\n",
            "Dependent (reject H0)\n",
            "Effect size:  (0.02, 'small')\n",
            "=========================================\n",
            "Non-web libraries and frameworks :\n",
            "[[  76829  430573]\n",
            " [ 321089 2336668]]\n",
            "degrees of freedom = 1\n",
            "[[  63789.65133695  443612.34866305]\n",
            " [ 334128.34866305 2323628.65133695]]\n",
            "probability=0.950, critical=3.841, stat=3630.422\n",
            "Dependent (reject H0)\n",
            "significance=0.050, p=0.000\n",
            "Dependent (reject H0)\n",
            "Effect size:  (0.034, 'small')\n",
            "=========================================\n"
          ]
        }
      ]
    }
  ]
}