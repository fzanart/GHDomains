{
  "nbformat": 4,
  "nbformat_minor": 0,
  "metadata": {
    "colab": {
      "name": "Sentence_transformers.ipynb",
      "provenance": [],
      "collapsed_sections": [],
      "authorship_tag": "ABX9TyO0PS8WBf47vffKSRxi623R",
      "include_colab_link": true
    },
    "kernelspec": {
      "name": "python3",
      "display_name": "Python 3"
    },
    "language_info": {
      "name": "python"
    },
    "accelerator": "GPU"
  },
  "cells": [
    {
      "cell_type": "markdown",
      "metadata": {
        "id": "view-in-github",
        "colab_type": "text"
      },
      "source": [
        "<a href=\"https://colab.research.google.com/github/fzanart/GHDomains/blob/main/Sentence_transformers_RAMefficient.ipynb\" target=\"_parent\"><img src=\"https://colab.research.google.com/assets/colab-badge.svg\" alt=\"Open In Colab\"/></a>"
      ]
    },
    {
      "cell_type": "code",
      "execution_count": 10,
      "metadata": {
        "colab": {
          "base_uri": "https://localhost:8080/"
        },
        "id": "M12Ijr7UzzJv",
        "outputId": "2a40955e-15cd-46b3-db26-9ab17328fd9a"
      },
      "outputs": [
        {
          "output_type": "stream",
          "name": "stdout",
          "text": [
            "Requirement already satisfied: sentence-transformers in /usr/local/lib/python3.7/dist-packages (2.2.0)\n",
            "Requirement already satisfied: sentencepiece in /usr/local/lib/python3.7/dist-packages (from sentence-transformers) (0.1.96)\n",
            "Requirement already satisfied: numpy in /usr/local/lib/python3.7/dist-packages (from sentence-transformers) (1.21.5)\n",
            "Requirement already satisfied: torchvision in /usr/local/lib/python3.7/dist-packages (from sentence-transformers) (0.11.1+cu111)\n",
            "Requirement already satisfied: torch>=1.6.0 in /usr/local/lib/python3.7/dist-packages (from sentence-transformers) (1.10.0+cu111)\n",
            "Requirement already satisfied: transformers<5.0.0,>=4.6.0 in /usr/local/lib/python3.7/dist-packages (from sentence-transformers) (4.17.0)\n",
            "Requirement already satisfied: tqdm in /usr/local/lib/python3.7/dist-packages (from sentence-transformers) (4.63.0)\n",
            "Requirement already satisfied: nltk in /usr/local/lib/python3.7/dist-packages (from sentence-transformers) (3.2.5)\n",
            "Requirement already satisfied: scipy in /usr/local/lib/python3.7/dist-packages (from sentence-transformers) (1.4.1)\n",
            "Requirement already satisfied: huggingface-hub in /usr/local/lib/python3.7/dist-packages (from sentence-transformers) (0.4.0)\n",
            "Requirement already satisfied: scikit-learn in /usr/local/lib/python3.7/dist-packages (from sentence-transformers) (1.0.2)\n",
            "Requirement already satisfied: typing-extensions in /usr/local/lib/python3.7/dist-packages (from torch>=1.6.0->sentence-transformers) (3.10.0.2)\n",
            "Requirement already satisfied: packaging>=20.0 in /usr/local/lib/python3.7/dist-packages (from transformers<5.0.0,>=4.6.0->sentence-transformers) (21.3)\n",
            "Requirement already satisfied: importlib-metadata in /usr/local/lib/python3.7/dist-packages (from transformers<5.0.0,>=4.6.0->sentence-transformers) (4.11.2)\n",
            "Requirement already satisfied: requests in /usr/local/lib/python3.7/dist-packages (from transformers<5.0.0,>=4.6.0->sentence-transformers) (2.23.0)\n",
            "Requirement already satisfied: tokenizers!=0.11.3,>=0.11.1 in /usr/local/lib/python3.7/dist-packages (from transformers<5.0.0,>=4.6.0->sentence-transformers) (0.11.6)\n",
            "Requirement already satisfied: regex!=2019.12.17 in /usr/local/lib/python3.7/dist-packages (from transformers<5.0.0,>=4.6.0->sentence-transformers) (2019.12.20)\n",
            "Requirement already satisfied: filelock in /usr/local/lib/python3.7/dist-packages (from transformers<5.0.0,>=4.6.0->sentence-transformers) (3.6.0)\n",
            "Requirement already satisfied: sacremoses in /usr/local/lib/python3.7/dist-packages (from transformers<5.0.0,>=4.6.0->sentence-transformers) (0.0.47)\n",
            "Requirement already satisfied: pyyaml>=5.1 in /usr/local/lib/python3.7/dist-packages (from transformers<5.0.0,>=4.6.0->sentence-transformers) (6.0)\n",
            "Requirement already satisfied: pyparsing!=3.0.5,>=2.0.2 in /usr/local/lib/python3.7/dist-packages (from packaging>=20.0->transformers<5.0.0,>=4.6.0->sentence-transformers) (3.0.7)\n",
            "Requirement already satisfied: zipp>=0.5 in /usr/local/lib/python3.7/dist-packages (from importlib-metadata->transformers<5.0.0,>=4.6.0->sentence-transformers) (3.7.0)\n",
            "Requirement already satisfied: six in /usr/local/lib/python3.7/dist-packages (from nltk->sentence-transformers) (1.15.0)\n",
            "Requirement already satisfied: certifi>=2017.4.17 in /usr/local/lib/python3.7/dist-packages (from requests->transformers<5.0.0,>=4.6.0->sentence-transformers) (2021.10.8)\n",
            "Requirement already satisfied: idna<3,>=2.5 in /usr/local/lib/python3.7/dist-packages (from requests->transformers<5.0.0,>=4.6.0->sentence-transformers) (2.10)\n",
            "Requirement already satisfied: urllib3!=1.25.0,!=1.25.1,<1.26,>=1.21.1 in /usr/local/lib/python3.7/dist-packages (from requests->transformers<5.0.0,>=4.6.0->sentence-transformers) (1.24.3)\n",
            "Requirement already satisfied: chardet<4,>=3.0.2 in /usr/local/lib/python3.7/dist-packages (from requests->transformers<5.0.0,>=4.6.0->sentence-transformers) (3.0.4)\n",
            "Requirement already satisfied: click in /usr/local/lib/python3.7/dist-packages (from sacremoses->transformers<5.0.0,>=4.6.0->sentence-transformers) (7.1.2)\n",
            "Requirement already satisfied: joblib in /usr/local/lib/python3.7/dist-packages (from sacremoses->transformers<5.0.0,>=4.6.0->sentence-transformers) (1.1.0)\n",
            "Requirement already satisfied: threadpoolctl>=2.0.0 in /usr/local/lib/python3.7/dist-packages (from scikit-learn->sentence-transformers) (3.1.0)\n",
            "Requirement already satisfied: pillow!=8.3.0,>=5.3.0 in /usr/local/lib/python3.7/dist-packages (from torchvision->sentence-transformers) (7.1.2)\n",
            "Requirement already satisfied: flaml in /usr/local/lib/python3.7/dist-packages (0.10.0)\n",
            "Requirement already satisfied: scipy>=1.4.1 in /usr/local/lib/python3.7/dist-packages (from flaml) (1.4.1)\n",
            "Requirement already satisfied: NumPy>=1.16.2 in /usr/local/lib/python3.7/dist-packages (from flaml) (1.21.5)\n",
            "Requirement already satisfied: lightgbm>=2.3.1 in /usr/local/lib/python3.7/dist-packages (from flaml) (3.3.2)\n",
            "Requirement already satisfied: scikit-learn>=0.24 in /usr/local/lib/python3.7/dist-packages (from flaml) (1.0.2)\n",
            "Requirement already satisfied: pandas>=1.1.4 in /usr/local/lib/python3.7/dist-packages (from flaml) (1.3.5)\n",
            "Requirement already satisfied: xgboost<=1.3.3,>=0.90 in /usr/local/lib/python3.7/dist-packages (from flaml) (0.90)\n",
            "Requirement already satisfied: wheel in /usr/local/lib/python3.7/dist-packages (from lightgbm>=2.3.1->flaml) (0.37.1)\n",
            "Requirement already satisfied: pytz>=2017.3 in /usr/local/lib/python3.7/dist-packages (from pandas>=1.1.4->flaml) (2018.9)\n",
            "Requirement already satisfied: python-dateutil>=2.7.3 in /usr/local/lib/python3.7/dist-packages (from pandas>=1.1.4->flaml) (2.8.2)\n",
            "Requirement already satisfied: six>=1.5 in /usr/local/lib/python3.7/dist-packages (from python-dateutil>=2.7.3->pandas>=1.1.4->flaml) (1.15.0)\n",
            "Requirement already satisfied: threadpoolctl>=2.0.0 in /usr/local/lib/python3.7/dist-packages (from scikit-learn>=0.24->flaml) (3.1.0)\n",
            "Requirement already satisfied: joblib>=0.11 in /usr/local/lib/python3.7/dist-packages (from scikit-learn>=0.24->flaml) (1.1.0)\n"
          ]
        }
      ],
      "source": [
        "!pip install -U sentence-transformers\n",
        "!pip install flaml"
      ]
    },
    {
      "cell_type": "code",
      "source": [
        "from sentence_transformers import SentenceTransformer\n",
        "from flaml import AutoML\n",
        "import numpy as np\n",
        "import pandas as pd\n",
        "from google.colab import drive\n",
        "from sklearn.metrics import classification_report, classification_report, confusion_matrix, ConfusionMatrixDisplay\n",
        "from sklearn.feature_selection import chi2, SelectKBest, SelectFromModel\n",
        "from sklearn.model_selection import train_test_split\n",
        "from sklearn.feature_extraction.text import CountVectorizer\n",
        "from sklearn.svm import LinearSVC\n",
        "import matplotlib.pyplot as plt\n",
        "import markdown\n",
        "import lxml\n",
        "from bs4 import BeautifulSoup\n",
        "import re\n",
        "import time\n",
        "drive.mount('/content/drive/')"
      ],
      "metadata": {
        "colab": {
          "base_uri": "https://localhost:8080/"
        },
        "id": "kwxxlHonz6Qp",
        "outputId": "b9bed750-022e-464e-b775-be23cb4f9b07"
      },
      "execution_count": 11,
      "outputs": [
        {
          "output_type": "stream",
          "name": "stdout",
          "text": [
            "Drive already mounted at /content/drive/; to attempt to forcibly remount, call drive.mount(\"/content/drive/\", force_remount=True).\n"
          ]
        }
      ]
    },
    {
      "cell_type": "code",
      "source": [
        "df = pd.read_csv('/content/drive/MyDrive/GHDomains/expanded_frame_final.csv')\n",
        "df"
      ],
      "metadata": {
        "colab": {
          "base_uri": "https://localhost:8080/",
          "height": 1000
        },
        "id": "TY5uOp_W0GKy",
        "outputId": "472078fd-2988-46a1-eef8-75729e503711"
      },
      "execution_count": 12,
      "outputs": [
        {
          "output_type": "execute_result",
          "data": {
            "text/html": [
              "\n",
              "  <div id=\"df-ac7189c6-d400-4f75-b5ac-ead7deba81ea\">\n",
              "    <div class=\"colab-df-container\">\n",
              "      <div>\n",
              "<style scoped>\n",
              "    .dataframe tbody tr th:only-of-type {\n",
              "        vertical-align: middle;\n",
              "    }\n",
              "\n",
              "    .dataframe tbody tr th {\n",
              "        vertical-align: top;\n",
              "    }\n",
              "\n",
              "    .dataframe thead th {\n",
              "        text-align: right;\n",
              "    }\n",
              "</style>\n",
              "<table border=\"1\" class=\"dataframe\">\n",
              "  <thead>\n",
              "    <tr style=\"text-align: right;\">\n",
              "      <th></th>\n",
              "      <th>Stars</th>\n",
              "      <th>Forks</th>\n",
              "      <th>Language dict</th>\n",
              "      <th>Description</th>\n",
              "      <th>Url</th>\n",
              "      <th>Readme</th>\n",
              "      <th>Topics</th>\n",
              "      <th>Languages</th>\n",
              "      <th>Licence</th>\n",
              "      <th>Labels</th>\n",
              "      <th>...</th>\n",
              "      <th>Contents</th>\n",
              "      <th>Description Length</th>\n",
              "      <th>Readme Length</th>\n",
              "      <th>Contributor Count</th>\n",
              "      <th>Topic Count</th>\n",
              "      <th>Content Count</th>\n",
              "      <th>Name</th>\n",
              "      <th>Domain</th>\n",
              "      <th>Main Language</th>\n",
              "      <th>Sum of bytes</th>\n",
              "    </tr>\n",
              "  </thead>\n",
              "  <tbody>\n",
              "    <tr>\n",
              "      <th>0</th>\n",
              "      <td>323943.0</td>\n",
              "      <td>25410.0</td>\n",
              "      <td>[{'JavaScript': 1492576, 'CSS': 103413, 'Shell...</td>\n",
              "      <td>freeCodeCamp.org's open source codebase and cu...</td>\n",
              "      <td>https://api.github.com/repos/freeCodeCamp/free...</td>\n",
              "      <td>![freeCodeCamp.org Social Banner](https://s3.a...</td>\n",
              "      <td>['learn-to-code', 'nonprofits', 'programming',...</td>\n",
              "      <td>['JavaScript', 'CSS', 'Shell', 'HTML', 'EJS', ...</td>\n",
              "      <td>BSD 3-Clause \"New\" or \"Revised\" License</td>\n",
              "      <td>['crowdin-sync', 'first timers only', 'help wa...</td>\n",
              "      <td>...</td>\n",
              "      <td>['.dockerignore', '.editorconfig', '.eslintign...</td>\n",
              "      <td>79.0</td>\n",
              "      <td>18148.0</td>\n",
              "      <td>410.0</td>\n",
              "      <td>15.0</td>\n",
              "      <td>40.0</td>\n",
              "      <td>freeCodeCamp/freeCodeCamp</td>\n",
              "      <td>Documentation</td>\n",
              "      <td>JavaScript</td>\n",
              "      <td>1606036</td>\n",
              "    </tr>\n",
              "    <tr>\n",
              "      <th>1</th>\n",
              "      <td>150012.0</td>\n",
              "      <td>71296.0</td>\n",
              "      <td>[{'JavaScript': 738421, 'HTML': 575762, 'SCSS'...</td>\n",
              "      <td>The most popular HTML, CSS, and JavaScript fra...</td>\n",
              "      <td>https://api.github.com/repos/twbs/bootstrap</td>\n",
              "      <td>&lt;p align=\"center\"&gt;\\n  &lt;a href=\"https://getboot...</td>\n",
              "      <td>['css', 'bootstrap', 'javascript', 'html', 'sc...</td>\n",
              "      <td>['JavaScript', 'HTML', 'SCSS', 'CSS', 'PowerSh...</td>\n",
              "      <td>MIT License</td>\n",
              "      <td>['3rd-party', 'CI', 'accessibility', 'awaiting...</td>\n",
              "      <td>...</td>\n",
              "      <td>['.babelrc.js', '.browserslistrc', '.bundlewat...</td>\n",
              "      <td>113.0</td>\n",
              "      <td>13218.0</td>\n",
              "      <td>375.0</td>\n",
              "      <td>7.0</td>\n",
              "      <td>26.0</td>\n",
              "      <td>twbs/bootstrap</td>\n",
              "      <td>Web libraries and frameworks</td>\n",
              "      <td>JavaScript</td>\n",
              "      <td>1800587</td>\n",
              "    </tr>\n",
              "    <tr>\n",
              "      <th>2</th>\n",
              "      <td>96800.0</td>\n",
              "      <td>22341.0</td>\n",
              "      <td>[{'JavaScript': 2361}]</td>\n",
              "      <td>Bring data to life with SVG, Canvas and HTML. ...</td>\n",
              "      <td>https://api.github.com/repos/d3/d3</td>\n",
              "      <td># D3: Data-Driven Documents\\n\\n&lt;a href=\"https:...</td>\n",
              "      <td>['visualization']</td>\n",
              "      <td>['JavaScript']</td>\n",
              "      <td>BSD 3-Clause \"New\" or \"Revised\" License</td>\n",
              "      <td>['bug', 'code', 'docs', 'droid', 'ios', 'linux...</td>\n",
              "      <td>...</td>\n",
              "      <td>['.gitignore', 'API.md', 'CHANGES.md', 'ISSUE_...</td>\n",
              "      <td>89.0</td>\n",
              "      <td>2305.0</td>\n",
              "      <td>122.0</td>\n",
              "      <td>1.0</td>\n",
              "      <td>13.0</td>\n",
              "      <td>d3/d3</td>\n",
              "      <td>Web libraries and frameworks</td>\n",
              "      <td>JavaScript</td>\n",
              "      <td>2361</td>\n",
              "    </tr>\n",
              "    <tr>\n",
              "      <th>3</th>\n",
              "      <td>168294.0</td>\n",
              "      <td>33061.0</td>\n",
              "      <td>[{'JavaScript': 5539058, 'HTML': 115651, 'CSS'...</td>\n",
              "      <td>A declarative, efficient, and flexible JavaScr...</td>\n",
              "      <td>https://api.github.com/repos/facebook/react</td>\n",
              "      <td># [React](https://reactjs.org/) &amp;middot; [![Gi...</td>\n",
              "      <td>['javascript', 'react', 'frontend', 'declarati...</td>\n",
              "      <td>['JavaScript', 'HTML', 'CSS', 'C++', 'TypeScri...</td>\n",
              "      <td>MIT License</td>\n",
              "      <td>['Browser: IE', 'Browser: Safari', 'CLA Signed...</td>\n",
              "      <td>...</td>\n",
              "      <td>['.circleci', '.codesandbox', '.editorconfig',...</td>\n",
              "      <td>87.0</td>\n",
              "      <td>5166.0</td>\n",
              "      <td>431.0</td>\n",
              "      <td>6.0</td>\n",
              "      <td>29.0</td>\n",
              "      <td>facebook/react</td>\n",
              "      <td>Web libraries and frameworks</td>\n",
              "      <td>JavaScript</td>\n",
              "      <td>5815290</td>\n",
              "    </tr>\n",
              "    <tr>\n",
              "      <th>4</th>\n",
              "      <td>59608.0</td>\n",
              "      <td>28135.0</td>\n",
              "      <td>[{'JavaScript': 6810485, 'HTML': 84393, 'Shell...</td>\n",
              "      <td>AngularJS - HTML enhanced for web apps!</td>\n",
              "      <td>https://api.github.com/repos/angular/angular.js</td>\n",
              "      <td>AngularJS [![CircleCI](https://circleci.com/gh...</td>\n",
              "      <td>NaN</td>\n",
              "      <td>['JavaScript', 'HTML', 'Shell', 'PHP', 'CSS']</td>\n",
              "      <td>MIT License</td>\n",
              "      <td>['In Progress', 'Intent-To-Deprecate', 'Known ...</td>\n",
              "      <td>...</td>\n",
              "      <td>['.circleci', '.editorconfig', '.eslintignore'...</td>\n",
              "      <td>39.0</td>\n",
              "      <td>5965.0</td>\n",
              "      <td>406.0</td>\n",
              "      <td>NaN</td>\n",
              "      <td>51.0</td>\n",
              "      <td>angular/angular.js</td>\n",
              "      <td>Web libraries and frameworks</td>\n",
              "      <td>JavaScript</td>\n",
              "      <td>6937316</td>\n",
              "    </tr>\n",
              "    <tr>\n",
              "      <th>...</th>\n",
              "      <td>...</td>\n",
              "      <td>...</td>\n",
              "      <td>...</td>\n",
              "      <td>...</td>\n",
              "      <td>...</td>\n",
              "      <td>...</td>\n",
              "      <td>...</td>\n",
              "      <td>...</td>\n",
              "      <td>...</td>\n",
              "      <td>...</td>\n",
              "      <td>...</td>\n",
              "      <td>...</td>\n",
              "      <td>...</td>\n",
              "      <td>...</td>\n",
              "      <td>...</td>\n",
              "      <td>...</td>\n",
              "      <td>...</td>\n",
              "      <td>...</td>\n",
              "      <td>...</td>\n",
              "      <td>...</td>\n",
              "      <td>...</td>\n",
              "    </tr>\n",
              "    <tr>\n",
              "      <th>4995</th>\n",
              "      <td>1850.0</td>\n",
              "      <td>349.0</td>\n",
              "      <td>[{'Java': 32480}]</td>\n",
              "      <td>This project aims to provide a working page fl...</td>\n",
              "      <td>https://api.github.com/repos/Yalantis/FlipView...</td>\n",
              "      <td># Changes:\\n\\n  * Made clickable views like a ...</td>\n",
              "      <td>['android', 'java', 'viewpager', 'animation', ...</td>\n",
              "      <td>['Java']</td>\n",
              "      <td>NaN</td>\n",
              "      <td>['bug', 'duplicate', 'enhancement', 'help want...</td>\n",
              "      <td>...</td>\n",
              "      <td>['.gitignore', 'README.md', 'build.gradle', 'f...</td>\n",
              "      <td>86.0</td>\n",
              "      <td>4557.0</td>\n",
              "      <td>4.0</td>\n",
              "      <td>5.0</td>\n",
              "      <td>11.0</td>\n",
              "      <td>Yalantis/FlipViewPager.Draco</td>\n",
              "      <td>Non-web libraries and frameworks</td>\n",
              "      <td>Java</td>\n",
              "      <td>32480</td>\n",
              "    </tr>\n",
              "    <tr>\n",
              "      <th>4996</th>\n",
              "      <td>1780.0</td>\n",
              "      <td>178.0</td>\n",
              "      <td>[{'JavaScript': 123266, 'CSS': 6537, 'HTML': 1...</td>\n",
              "      <td>JavaScript Client-Side Cookie Manipulation Lib...</td>\n",
              "      <td>https://api.github.com/repos/ScottHamper/Cookies</td>\n",
              "      <td># Cookies.js\\n\\nCookies.js is a small client-s...</td>\n",
              "      <td>NaN</td>\n",
              "      <td>['JavaScript', 'CSS', 'HTML']</td>\n",
              "      <td>The Unlicense</td>\n",
              "      <td>['bug', 'duplicate', 'enhancement', 'invalid',...</td>\n",
              "      <td>...</td>\n",
              "      <td>['.gitignore', 'CHANGELOG.md', 'README.md', 'U...</td>\n",
              "      <td>50.0</td>\n",
              "      <td>7338.0</td>\n",
              "      <td>11.0</td>\n",
              "      <td>NaN</td>\n",
              "      <td>7.0</td>\n",
              "      <td>ScottHamper/Cookies</td>\n",
              "      <td>Web libraries and frameworks</td>\n",
              "      <td>JavaScript</td>\n",
              "      <td>131183</td>\n",
              "    </tr>\n",
              "    <tr>\n",
              "      <th>4997</th>\n",
              "      <td>3138.0</td>\n",
              "      <td>300.0</td>\n",
              "      <td>[{'C': 77760, 'Assembly': 15792}]</td>\n",
              "      <td>The earliest versions of the very first c comp...</td>\n",
              "      <td>https://api.github.com/repos/mortdeus/legacy-cc</td>\n",
              "      <td>legacy-cc\\n=========\\n\\nThe earliest versions ...</td>\n",
              "      <td>NaN</td>\n",
              "      <td>['C', 'Assembly']</td>\n",
              "      <td>NaN</td>\n",
              "      <td>['bug', 'duplicate', 'enhancement', 'invalid',...</td>\n",
              "      <td>...</td>\n",
              "      <td>['Caldera-license.pdf', 'README.md', 'last1120...</td>\n",
              "      <td>118.0</td>\n",
              "      <td>866.0</td>\n",
              "      <td>2.0</td>\n",
              "      <td>NaN</td>\n",
              "      <td>4.0</td>\n",
              "      <td>mortdeus/legacy-cc</td>\n",
              "      <td>Software tools</td>\n",
              "      <td>C</td>\n",
              "      <td>93552</td>\n",
              "    </tr>\n",
              "    <tr>\n",
              "      <th>4998</th>\n",
              "      <td>1668.0</td>\n",
              "      <td>441.0</td>\n",
              "      <td>[{'Objective-C': 48239, 'Ruby': 680}]</td>\n",
              "      <td>A clone of the UIImagePickerController using t...</td>\n",
              "      <td>https://api.github.com/repos/B-Sides/ELCImageP...</td>\n",
              "      <td># ELCImagePickerController\\n\\n*A clone of the ...</td>\n",
              "      <td>NaN</td>\n",
              "      <td>['Objective-C', 'Ruby']</td>\n",
              "      <td>NaN</td>\n",
              "      <td>NaN</td>\n",
              "      <td>...</td>\n",
              "      <td>['.gitignore', 'Classes', 'Default-568h@2x.png...</td>\n",
              "      <td>111.0</td>\n",
              "      <td>2960.0</td>\n",
              "      <td>23.0</td>\n",
              "      <td>NaN</td>\n",
              "      <td>14.0</td>\n",
              "      <td>B-Sides/ELCImagePickerController</td>\n",
              "      <td>Non-web libraries and frameworks</td>\n",
              "      <td>Objective-C</td>\n",
              "      <td>48919</td>\n",
              "    </tr>\n",
              "    <tr>\n",
              "      <th>4999</th>\n",
              "      <td>2926.0</td>\n",
              "      <td>722.0</td>\n",
              "      <td>[{'XSLT': 7555212, 'C++': 4783229, 'Python': 2...</td>\n",
              "      <td>Mapnik is an open source toolkit for developin...</td>\n",
              "      <td>https://api.github.com/repos/mapnik/mapnik</td>\n",
              "      <td>```\\n    _/      _/                           ...</td>\n",
              "      <td>['mapnik', 'c-plus-plus', 'mapping', 'cartogra...</td>\n",
              "      <td>['XSLT', 'C++', 'Python', 'HTML', 'JavaScript'...</td>\n",
              "      <td>GNU Lesser General Public License v2.1</td>\n",
              "      <td>['breaking change', 'bug', 'c++11', 'c++14', '...</td>\n",
              "      <td>...</td>\n",
              "      <td>['.gitattributes', '.gitignore', '.gitmodules'...</td>\n",
              "      <td>68.0</td>\n",
              "      <td>1929.0</td>\n",
              "      <td>91.0</td>\n",
              "      <td>9.0</td>\n",
              "      <td>29.0</td>\n",
              "      <td>mapnik/mapnik</td>\n",
              "      <td>Non-web libraries and frameworks</td>\n",
              "      <td>XSLT</td>\n",
              "      <td>15649909</td>\n",
              "    </tr>\n",
              "  </tbody>\n",
              "</table>\n",
              "<p>5000 rows × 25 columns</p>\n",
              "</div>\n",
              "      <button class=\"colab-df-convert\" onclick=\"convertToInteractive('df-ac7189c6-d400-4f75-b5ac-ead7deba81ea')\"\n",
              "              title=\"Convert this dataframe to an interactive table.\"\n",
              "              style=\"display:none;\">\n",
              "        \n",
              "  <svg xmlns=\"http://www.w3.org/2000/svg\" height=\"24px\"viewBox=\"0 0 24 24\"\n",
              "       width=\"24px\">\n",
              "    <path d=\"M0 0h24v24H0V0z\" fill=\"none\"/>\n",
              "    <path d=\"M18.56 5.44l.94 2.06.94-2.06 2.06-.94-2.06-.94-.94-2.06-.94 2.06-2.06.94zm-11 1L8.5 8.5l.94-2.06 2.06-.94-2.06-.94L8.5 2.5l-.94 2.06-2.06.94zm10 10l.94 2.06.94-2.06 2.06-.94-2.06-.94-.94-2.06-.94 2.06-2.06.94z\"/><path d=\"M17.41 7.96l-1.37-1.37c-.4-.4-.92-.59-1.43-.59-.52 0-1.04.2-1.43.59L10.3 9.45l-7.72 7.72c-.78.78-.78 2.05 0 2.83L4 21.41c.39.39.9.59 1.41.59.51 0 1.02-.2 1.41-.59l7.78-7.78 2.81-2.81c.8-.78.8-2.07 0-2.86zM5.41 20L4 18.59l7.72-7.72 1.47 1.35L5.41 20z\"/>\n",
              "  </svg>\n",
              "      </button>\n",
              "      \n",
              "  <style>\n",
              "    .colab-df-container {\n",
              "      display:flex;\n",
              "      flex-wrap:wrap;\n",
              "      gap: 12px;\n",
              "    }\n",
              "\n",
              "    .colab-df-convert {\n",
              "      background-color: #E8F0FE;\n",
              "      border: none;\n",
              "      border-radius: 50%;\n",
              "      cursor: pointer;\n",
              "      display: none;\n",
              "      fill: #1967D2;\n",
              "      height: 32px;\n",
              "      padding: 0 0 0 0;\n",
              "      width: 32px;\n",
              "    }\n",
              "\n",
              "    .colab-df-convert:hover {\n",
              "      background-color: #E2EBFA;\n",
              "      box-shadow: 0px 1px 2px rgba(60, 64, 67, 0.3), 0px 1px 3px 1px rgba(60, 64, 67, 0.15);\n",
              "      fill: #174EA6;\n",
              "    }\n",
              "\n",
              "    [theme=dark] .colab-df-convert {\n",
              "      background-color: #3B4455;\n",
              "      fill: #D2E3FC;\n",
              "    }\n",
              "\n",
              "    [theme=dark] .colab-df-convert:hover {\n",
              "      background-color: #434B5C;\n",
              "      box-shadow: 0px 1px 3px 1px rgba(0, 0, 0, 0.15);\n",
              "      filter: drop-shadow(0px 1px 2px rgba(0, 0, 0, 0.3));\n",
              "      fill: #FFFFFF;\n",
              "    }\n",
              "  </style>\n",
              "\n",
              "      <script>\n",
              "        const buttonEl =\n",
              "          document.querySelector('#df-ac7189c6-d400-4f75-b5ac-ead7deba81ea button.colab-df-convert');\n",
              "        buttonEl.style.display =\n",
              "          google.colab.kernel.accessAllowed ? 'block' : 'none';\n",
              "\n",
              "        async function convertToInteractive(key) {\n",
              "          const element = document.querySelector('#df-ac7189c6-d400-4f75-b5ac-ead7deba81ea');\n",
              "          const dataTable =\n",
              "            await google.colab.kernel.invokeFunction('convertToInteractive',\n",
              "                                                     [key], {});\n",
              "          if (!dataTable) return;\n",
              "\n",
              "          const docLinkHtml = 'Like what you see? Visit the ' +\n",
              "            '<a target=\"_blank\" href=https://colab.research.google.com/notebooks/data_table.ipynb>data table notebook</a>'\n",
              "            + ' to learn more about interactive tables.';\n",
              "          element.innerHTML = '';\n",
              "          dataTable['output_type'] = 'display_data';\n",
              "          await google.colab.output.renderOutput(dataTable, element);\n",
              "          const docLink = document.createElement('div');\n",
              "          docLink.innerHTML = docLinkHtml;\n",
              "          element.appendChild(docLink);\n",
              "        }\n",
              "      </script>\n",
              "    </div>\n",
              "  </div>\n",
              "  "
            ],
            "text/plain": [
              "         Stars    Forks                                      Language dict  \\\n",
              "0     323943.0  25410.0  [{'JavaScript': 1492576, 'CSS': 103413, 'Shell...   \n",
              "1     150012.0  71296.0  [{'JavaScript': 738421, 'HTML': 575762, 'SCSS'...   \n",
              "2      96800.0  22341.0                             [{'JavaScript': 2361}]   \n",
              "3     168294.0  33061.0  [{'JavaScript': 5539058, 'HTML': 115651, 'CSS'...   \n",
              "4      59608.0  28135.0  [{'JavaScript': 6810485, 'HTML': 84393, 'Shell...   \n",
              "...        ...      ...                                                ...   \n",
              "4995    1850.0    349.0                                  [{'Java': 32480}]   \n",
              "4996    1780.0    178.0  [{'JavaScript': 123266, 'CSS': 6537, 'HTML': 1...   \n",
              "4997    3138.0    300.0                  [{'C': 77760, 'Assembly': 15792}]   \n",
              "4998    1668.0    441.0              [{'Objective-C': 48239, 'Ruby': 680}]   \n",
              "4999    2926.0    722.0  [{'XSLT': 7555212, 'C++': 4783229, 'Python': 2...   \n",
              "\n",
              "                                            Description  \\\n",
              "0     freeCodeCamp.org's open source codebase and cu...   \n",
              "1     The most popular HTML, CSS, and JavaScript fra...   \n",
              "2     Bring data to life with SVG, Canvas and HTML. ...   \n",
              "3     A declarative, efficient, and flexible JavaScr...   \n",
              "4               AngularJS - HTML enhanced for web apps!   \n",
              "...                                                 ...   \n",
              "4995  This project aims to provide a working page fl...   \n",
              "4996  JavaScript Client-Side Cookie Manipulation Lib...   \n",
              "4997  The earliest versions of the very first c comp...   \n",
              "4998  A clone of the UIImagePickerController using t...   \n",
              "4999  Mapnik is an open source toolkit for developin...   \n",
              "\n",
              "                                                    Url  \\\n",
              "0     https://api.github.com/repos/freeCodeCamp/free...   \n",
              "1           https://api.github.com/repos/twbs/bootstrap   \n",
              "2                    https://api.github.com/repos/d3/d3   \n",
              "3           https://api.github.com/repos/facebook/react   \n",
              "4       https://api.github.com/repos/angular/angular.js   \n",
              "...                                                 ...   \n",
              "4995  https://api.github.com/repos/Yalantis/FlipView...   \n",
              "4996   https://api.github.com/repos/ScottHamper/Cookies   \n",
              "4997    https://api.github.com/repos/mortdeus/legacy-cc   \n",
              "4998  https://api.github.com/repos/B-Sides/ELCImageP...   \n",
              "4999         https://api.github.com/repos/mapnik/mapnik   \n",
              "\n",
              "                                                 Readme  \\\n",
              "0     ![freeCodeCamp.org Social Banner](https://s3.a...   \n",
              "1     <p align=\"center\">\\n  <a href=\"https://getboot...   \n",
              "2     # D3: Data-Driven Documents\\n\\n<a href=\"https:...   \n",
              "3     # [React](https://reactjs.org/) &middot; [![Gi...   \n",
              "4     AngularJS [![CircleCI](https://circleci.com/gh...   \n",
              "...                                                 ...   \n",
              "4995  # Changes:\\n\\n  * Made clickable views like a ...   \n",
              "4996  # Cookies.js\\n\\nCookies.js is a small client-s...   \n",
              "4997  legacy-cc\\n=========\\n\\nThe earliest versions ...   \n",
              "4998  # ELCImagePickerController\\n\\n*A clone of the ...   \n",
              "4999  ```\\n    _/      _/                           ...   \n",
              "\n",
              "                                                 Topics  \\\n",
              "0     ['learn-to-code', 'nonprofits', 'programming',...   \n",
              "1     ['css', 'bootstrap', 'javascript', 'html', 'sc...   \n",
              "2                                     ['visualization']   \n",
              "3     ['javascript', 'react', 'frontend', 'declarati...   \n",
              "4                                                   NaN   \n",
              "...                                                 ...   \n",
              "4995  ['android', 'java', 'viewpager', 'animation', ...   \n",
              "4996                                                NaN   \n",
              "4997                                                NaN   \n",
              "4998                                                NaN   \n",
              "4999  ['mapnik', 'c-plus-plus', 'mapping', 'cartogra...   \n",
              "\n",
              "                                              Languages  \\\n",
              "0     ['JavaScript', 'CSS', 'Shell', 'HTML', 'EJS', ...   \n",
              "1     ['JavaScript', 'HTML', 'SCSS', 'CSS', 'PowerSh...   \n",
              "2                                        ['JavaScript']   \n",
              "3     ['JavaScript', 'HTML', 'CSS', 'C++', 'TypeScri...   \n",
              "4         ['JavaScript', 'HTML', 'Shell', 'PHP', 'CSS']   \n",
              "...                                                 ...   \n",
              "4995                                           ['Java']   \n",
              "4996                      ['JavaScript', 'CSS', 'HTML']   \n",
              "4997                                  ['C', 'Assembly']   \n",
              "4998                            ['Objective-C', 'Ruby']   \n",
              "4999  ['XSLT', 'C++', 'Python', 'HTML', 'JavaScript'...   \n",
              "\n",
              "                                      Licence  \\\n",
              "0     BSD 3-Clause \"New\" or \"Revised\" License   \n",
              "1                                 MIT License   \n",
              "2     BSD 3-Clause \"New\" or \"Revised\" License   \n",
              "3                                 MIT License   \n",
              "4                                 MIT License   \n",
              "...                                       ...   \n",
              "4995                                      NaN   \n",
              "4996                            The Unlicense   \n",
              "4997                                      NaN   \n",
              "4998                                      NaN   \n",
              "4999   GNU Lesser General Public License v2.1   \n",
              "\n",
              "                                                 Labels  ...  \\\n",
              "0     ['crowdin-sync', 'first timers only', 'help wa...  ...   \n",
              "1     ['3rd-party', 'CI', 'accessibility', 'awaiting...  ...   \n",
              "2     ['bug', 'code', 'docs', 'droid', 'ios', 'linux...  ...   \n",
              "3     ['Browser: IE', 'Browser: Safari', 'CLA Signed...  ...   \n",
              "4     ['In Progress', 'Intent-To-Deprecate', 'Known ...  ...   \n",
              "...                                                 ...  ...   \n",
              "4995  ['bug', 'duplicate', 'enhancement', 'help want...  ...   \n",
              "4996  ['bug', 'duplicate', 'enhancement', 'invalid',...  ...   \n",
              "4997  ['bug', 'duplicate', 'enhancement', 'invalid',...  ...   \n",
              "4998                                                NaN  ...   \n",
              "4999  ['breaking change', 'bug', 'c++11', 'c++14', '...  ...   \n",
              "\n",
              "                                               Contents  Description Length  \\\n",
              "0     ['.dockerignore', '.editorconfig', '.eslintign...                79.0   \n",
              "1     ['.babelrc.js', '.browserslistrc', '.bundlewat...               113.0   \n",
              "2     ['.gitignore', 'API.md', 'CHANGES.md', 'ISSUE_...                89.0   \n",
              "3     ['.circleci', '.codesandbox', '.editorconfig',...                87.0   \n",
              "4     ['.circleci', '.editorconfig', '.eslintignore'...                39.0   \n",
              "...                                                 ...                 ...   \n",
              "4995  ['.gitignore', 'README.md', 'build.gradle', 'f...                86.0   \n",
              "4996  ['.gitignore', 'CHANGELOG.md', 'README.md', 'U...                50.0   \n",
              "4997  ['Caldera-license.pdf', 'README.md', 'last1120...               118.0   \n",
              "4998  ['.gitignore', 'Classes', 'Default-568h@2x.png...               111.0   \n",
              "4999  ['.gitattributes', '.gitignore', '.gitmodules'...                68.0   \n",
              "\n",
              "      Readme Length Contributor Count Topic Count Content Count  \\\n",
              "0           18148.0             410.0        15.0          40.0   \n",
              "1           13218.0             375.0         7.0          26.0   \n",
              "2            2305.0             122.0         1.0          13.0   \n",
              "3            5166.0             431.0         6.0          29.0   \n",
              "4            5965.0             406.0         NaN          51.0   \n",
              "...             ...               ...         ...           ...   \n",
              "4995         4557.0               4.0         5.0          11.0   \n",
              "4996         7338.0              11.0         NaN           7.0   \n",
              "4997          866.0               2.0         NaN           4.0   \n",
              "4998         2960.0              23.0         NaN          14.0   \n",
              "4999         1929.0              91.0         9.0          29.0   \n",
              "\n",
              "                                  Name                            Domain  \\\n",
              "0            freeCodeCamp/freeCodeCamp                     Documentation   \n",
              "1                       twbs/bootstrap      Web libraries and frameworks   \n",
              "2                                d3/d3      Web libraries and frameworks   \n",
              "3                       facebook/react      Web libraries and frameworks   \n",
              "4                   angular/angular.js      Web libraries and frameworks   \n",
              "...                                ...                               ...   \n",
              "4995      Yalantis/FlipViewPager.Draco  Non-web libraries and frameworks   \n",
              "4996               ScottHamper/Cookies      Web libraries and frameworks   \n",
              "4997                mortdeus/legacy-cc                    Software tools   \n",
              "4998  B-Sides/ELCImagePickerController  Non-web libraries and frameworks   \n",
              "4999                     mapnik/mapnik  Non-web libraries and frameworks   \n",
              "\n",
              "      Main Language  Sum of bytes  \n",
              "0        JavaScript       1606036  \n",
              "1        JavaScript       1800587  \n",
              "2        JavaScript          2361  \n",
              "3        JavaScript       5815290  \n",
              "4        JavaScript       6937316  \n",
              "...             ...           ...  \n",
              "4995           Java         32480  \n",
              "4996     JavaScript        131183  \n",
              "4997              C         93552  \n",
              "4998    Objective-C         48919  \n",
              "4999           XSLT      15649909  \n",
              "\n",
              "[5000 rows x 25 columns]"
            ]
          },
          "metadata": {},
          "execution_count": 12
        }
      ]
    },
    {
      "cell_type": "code",
      "source": [
        "pd.isna(df['Topics']).sum(), pd.isna(df['Topics']).sum()/5000"
      ],
      "metadata": {
        "colab": {
          "base_uri": "https://localhost:8080/"
        },
        "id": "wV5QZugKLoVV",
        "outputId": "82c757c5-6203-4a9d-e40c-c08651853b4f"
      },
      "execution_count": 13,
      "outputs": [
        {
          "output_type": "execute_result",
          "data": {
            "text/plain": [
              "(2664, 0.5328)"
            ]
          },
          "metadata": {},
          "execution_count": 13
        }
      ]
    },
    {
      "cell_type": "code",
      "source": [
        "# Topics could be a great feature for the classifier. However, more than a half of the values are empty.\n",
        "pd.concat([pd.isna(df['Topics']).groupby(by=df['Domain']).sum(),df['Domain'].value_counts(),df['Domain'].value_counts(normalize=True)], axis=1).rename({'Topics':'Missing Topics','Domain':'Total Values'},axis=1)\n"
      ],
      "metadata": {
        "colab": {
          "base_uri": "https://localhost:8080/",
          "height": 235
        },
        "id": "u17jl3h8D5UQ",
        "outputId": "c2c9cca2-fcc7-45fb-a521-62a18419582b"
      },
      "execution_count": 14,
      "outputs": [
        {
          "output_type": "execute_result",
          "data": {
            "text/html": [
              "\n",
              "  <div id=\"df-0fc23da2-d416-46a8-8501-88f46f3ddd8c\">\n",
              "    <div class=\"colab-df-container\">\n",
              "      <div>\n",
              "<style scoped>\n",
              "    .dataframe tbody tr th:only-of-type {\n",
              "        vertical-align: middle;\n",
              "    }\n",
              "\n",
              "    .dataframe tbody tr th {\n",
              "        vertical-align: top;\n",
              "    }\n",
              "\n",
              "    .dataframe thead th {\n",
              "        text-align: right;\n",
              "    }\n",
              "</style>\n",
              "<table border=\"1\" class=\"dataframe\">\n",
              "  <thead>\n",
              "    <tr style=\"text-align: right;\">\n",
              "      <th></th>\n",
              "      <th>Missing Topics</th>\n",
              "      <th>Total Values</th>\n",
              "      <th>Total Values</th>\n",
              "    </tr>\n",
              "  </thead>\n",
              "  <tbody>\n",
              "    <tr>\n",
              "      <th>Application software</th>\n",
              "      <td>218</td>\n",
              "      <td>437</td>\n",
              "      <td>0.0874</td>\n",
              "    </tr>\n",
              "    <tr>\n",
              "      <th>Documentation</th>\n",
              "      <td>263</td>\n",
              "      <td>433</td>\n",
              "      <td>0.0866</td>\n",
              "    </tr>\n",
              "    <tr>\n",
              "      <th>Non-web libraries and frameworks</th>\n",
              "      <td>821</td>\n",
              "      <td>1439</td>\n",
              "      <td>0.2878</td>\n",
              "    </tr>\n",
              "    <tr>\n",
              "      <th>Software tools</th>\n",
              "      <td>462</td>\n",
              "      <td>972</td>\n",
              "      <td>0.1944</td>\n",
              "    </tr>\n",
              "    <tr>\n",
              "      <th>System software</th>\n",
              "      <td>83</td>\n",
              "      <td>184</td>\n",
              "      <td>0.0368</td>\n",
              "    </tr>\n",
              "    <tr>\n",
              "      <th>Web libraries and frameworks</th>\n",
              "      <td>817</td>\n",
              "      <td>1535</td>\n",
              "      <td>0.3070</td>\n",
              "    </tr>\n",
              "  </tbody>\n",
              "</table>\n",
              "</div>\n",
              "      <button class=\"colab-df-convert\" onclick=\"convertToInteractive('df-0fc23da2-d416-46a8-8501-88f46f3ddd8c')\"\n",
              "              title=\"Convert this dataframe to an interactive table.\"\n",
              "              style=\"display:none;\">\n",
              "        \n",
              "  <svg xmlns=\"http://www.w3.org/2000/svg\" height=\"24px\"viewBox=\"0 0 24 24\"\n",
              "       width=\"24px\">\n",
              "    <path d=\"M0 0h24v24H0V0z\" fill=\"none\"/>\n",
              "    <path d=\"M18.56 5.44l.94 2.06.94-2.06 2.06-.94-2.06-.94-.94-2.06-.94 2.06-2.06.94zm-11 1L8.5 8.5l.94-2.06 2.06-.94-2.06-.94L8.5 2.5l-.94 2.06-2.06.94zm10 10l.94 2.06.94-2.06 2.06-.94-2.06-.94-.94-2.06-.94 2.06-2.06.94z\"/><path d=\"M17.41 7.96l-1.37-1.37c-.4-.4-.92-.59-1.43-.59-.52 0-1.04.2-1.43.59L10.3 9.45l-7.72 7.72c-.78.78-.78 2.05 0 2.83L4 21.41c.39.39.9.59 1.41.59.51 0 1.02-.2 1.41-.59l7.78-7.78 2.81-2.81c.8-.78.8-2.07 0-2.86zM5.41 20L4 18.59l7.72-7.72 1.47 1.35L5.41 20z\"/>\n",
              "  </svg>\n",
              "      </button>\n",
              "      \n",
              "  <style>\n",
              "    .colab-df-container {\n",
              "      display:flex;\n",
              "      flex-wrap:wrap;\n",
              "      gap: 12px;\n",
              "    }\n",
              "\n",
              "    .colab-df-convert {\n",
              "      background-color: #E8F0FE;\n",
              "      border: none;\n",
              "      border-radius: 50%;\n",
              "      cursor: pointer;\n",
              "      display: none;\n",
              "      fill: #1967D2;\n",
              "      height: 32px;\n",
              "      padding: 0 0 0 0;\n",
              "      width: 32px;\n",
              "    }\n",
              "\n",
              "    .colab-df-convert:hover {\n",
              "      background-color: #E2EBFA;\n",
              "      box-shadow: 0px 1px 2px rgba(60, 64, 67, 0.3), 0px 1px 3px 1px rgba(60, 64, 67, 0.15);\n",
              "      fill: #174EA6;\n",
              "    }\n",
              "\n",
              "    [theme=dark] .colab-df-convert {\n",
              "      background-color: #3B4455;\n",
              "      fill: #D2E3FC;\n",
              "    }\n",
              "\n",
              "    [theme=dark] .colab-df-convert:hover {\n",
              "      background-color: #434B5C;\n",
              "      box-shadow: 0px 1px 3px 1px rgba(0, 0, 0, 0.15);\n",
              "      filter: drop-shadow(0px 1px 2px rgba(0, 0, 0, 0.3));\n",
              "      fill: #FFFFFF;\n",
              "    }\n",
              "  </style>\n",
              "\n",
              "      <script>\n",
              "        const buttonEl =\n",
              "          document.querySelector('#df-0fc23da2-d416-46a8-8501-88f46f3ddd8c button.colab-df-convert');\n",
              "        buttonEl.style.display =\n",
              "          google.colab.kernel.accessAllowed ? 'block' : 'none';\n",
              "\n",
              "        async function convertToInteractive(key) {\n",
              "          const element = document.querySelector('#df-0fc23da2-d416-46a8-8501-88f46f3ddd8c');\n",
              "          const dataTable =\n",
              "            await google.colab.kernel.invokeFunction('convertToInteractive',\n",
              "                                                     [key], {});\n",
              "          if (!dataTable) return;\n",
              "\n",
              "          const docLinkHtml = 'Like what you see? Visit the ' +\n",
              "            '<a target=\"_blank\" href=https://colab.research.google.com/notebooks/data_table.ipynb>data table notebook</a>'\n",
              "            + ' to learn more about interactive tables.';\n",
              "          element.innerHTML = '';\n",
              "          dataTable['output_type'] = 'display_data';\n",
              "          await google.colab.output.renderOutput(dataTable, element);\n",
              "          const docLink = document.createElement('div');\n",
              "          docLink.innerHTML = docLinkHtml;\n",
              "          element.appendChild(docLink);\n",
              "        }\n",
              "      </script>\n",
              "    </div>\n",
              "  </div>\n",
              "  "
            ],
            "text/plain": [
              "                                  Missing Topics  Total Values  Total Values\n",
              "Application software                         218           437        0.0874\n",
              "Documentation                                263           433        0.0866\n",
              "Non-web libraries and frameworks             821          1439        0.2878\n",
              "Software tools                               462           972        0.1944\n",
              "System software                               83           184        0.0368\n",
              "Web libraries and frameworks                 817          1535        0.3070"
            ]
          },
          "metadata": {},
          "execution_count": 14
        }
      ]
    },
    {
      "cell_type": "code",
      "source": [
        "def join_words_from_lists(text, join=False):\n",
        "  text = str(text)\n",
        "  if text == 'nan':\n",
        "    return ''\n",
        "  else:\n",
        "    text = text[1:-1]\n",
        "    text = text.replace('\\'','')\n",
        "    text = text.split(',')\n",
        "    if join:\n",
        "      text = ' '.join([word.strip() for word in text])\n",
        "    return text"
      ],
      "metadata": {
        "id": "CHI9d9yt3Cuw"
      },
      "execution_count": 15,
      "outputs": []
    },
    {
      "cell_type": "code",
      "source": [
        "df['Labels'] = df['Labels'].apply(lambda x: join_words_from_lists(x, join=True))"
      ],
      "metadata": {
        "id": "pBKHZR323wtj"
      },
      "execution_count": 7,
      "outputs": []
    },
    {
      "cell_type": "code",
      "source": [
        "df['Labels']"
      ],
      "metadata": {
        "colab": {
          "base_uri": "https://localhost:8080/"
        },
        "id": "4A-xF3ji3wqi",
        "outputId": "7f372f42-1e9c-4d07-c9ca-2ceda4d44f78"
      },
      "execution_count": 8,
      "outputs": [
        {
          "output_type": "execute_result",
          "data": {
            "text/plain": [
              "0       crowdin-sync first timers only help wanted inv...\n",
              "1       3rd-party CI accessibility awaiting-reply back...\n",
              "2       bug code docs droid ios linux moz ms o perf pk...\n",
              "3       Browser: IE Browser: Safari CLA Signed Compone...\n",
              "4       In Progress Intent-To-Deprecate Known Issue Lo...\n",
              "                              ...                        \n",
              "4995    bug duplicate enhancement help wanted invalid ...\n",
              "4996    bug duplicate enhancement invalid needs-docume...\n",
              "4997    bug duplicate enhancement invalid question won...\n",
              "4998                                                     \n",
              "4999    breaking change bug c++11 c++14 ci compositing...\n",
              "Name: Labels, Length: 5000, dtype: object"
            ]
          },
          "metadata": {},
          "execution_count": 8
        }
      ]
    },
    {
      "cell_type": "code",
      "source": [
        "def clean_htmltags(text):\n",
        "\n",
        "    html = markdown.markdown(text)                                # convert the code to html\n",
        "    soup = BeautifulSoup(html, \"lxml\")                            # html.parser #XML stands for \"eXtensible Markup Language\",\n",
        "    \n",
        "    [s.extract() for s in soup(['iframe', 'script'])]             # eliminate html tags \n",
        "    stripped_text = soup.get_text()                               # get the rest of the text\n",
        "    stripped_text = re.sub(r'[\\r|\\n|\\r\\n]+', ' ', stripped_text)  # delete remaining tags\n",
        "    text = stripped_text                                          # voila!\n",
        "                                    \n",
        "    return text"
      ],
      "metadata": {
        "id": "GP7lNhTzhOTx"
      },
      "execution_count": 9,
      "outputs": []
    },
    {
      "cell_type": "code",
      "source": [
        "df['Readme'] = df['Readme'].astype(str)\n",
        "df['Readme'] = pd.Series([clean_htmltags(x) for x in df['Readme']]) #df['Readme'].apply(lambda x: clean_htmltags(x)) #\n",
        "df['Readme'] = df['Readme'].apply(lambda x: re.sub('\\s{2,}', \" \", x))"
      ],
      "metadata": {
        "id": "H0iNDiJGkcFk"
      },
      "execution_count": 10,
      "outputs": []
    },
    {
      "cell_type": "code",
      "source": [
        "df['Readme']"
      ],
      "metadata": {
        "colab": {
          "base_uri": "https://localhost:8080/"
        },
        "id": "D3rxfyh-3buZ",
        "outputId": "722d0841-f2bc-471d-91a5-0039e75acf1d"
      },
      "execution_count": 11,
      "outputs": [
        {
          "output_type": "execute_result",
          "data": {
            "text/plain": [
              "0        freeCodeCamp.org's open-source codebase and c...\n",
              "1        Bootstrap Sleek, intuitive, and powerful fron...\n",
              "2       D3: Data-Driven Documents D3 (or D3.js) is a J...\n",
              "3       React · React is a JavaScript library for buil...\n",
              "4       AngularJS AngularJS lets you write client-side...\n",
              "                              ...                        \n",
              "4995    Changes: Made clickable views like a button cl...\n",
              "4996    Cookies.js Cookies.js is a small client-side j...\n",
              "4997    legacy-cc The earliest versions of the very fi...\n",
              "4998    ELCImagePickerController A clone of the UIImag...\n",
              "4999    _/ _/ _/ _/ _/_/ _/_/ _/_/_/ _/_/_/ _/_/_/ _/ ...\n",
              "Name: Readme, Length: 5000, dtype: object"
            ]
          },
          "metadata": {},
          "execution_count": 11
        }
      ]
    },
    {
      "cell_type": "code",
      "source": [
        "df['Description'] = df['Description'].astype(str)\n",
        "df['Description'] = df['Description'].replace('nan','')\n",
        "df['Text_data']   = df['Description'] + df['Readme'] + df['Labels']"
      ],
      "metadata": {
        "id": "gSghJ015lsC3"
      },
      "execution_count": 12,
      "outputs": []
    },
    {
      "cell_type": "code",
      "source": [
        "df['Text_data']"
      ],
      "metadata": {
        "colab": {
          "base_uri": "https://localhost:8080/"
        },
        "id": "raOfzrtLpGJ-",
        "outputId": "e4ac73ea-492a-40db-8de3-bca0eb4a6cda"
      },
      "execution_count": 13,
      "outputs": [
        {
          "output_type": "execute_result",
          "data": {
            "text/plain": [
              "0       freeCodeCamp.org's open source codebase and cu...\n",
              "1       The most popular HTML, CSS, and JavaScript fra...\n",
              "2       Bring data to life with SVG, Canvas and HTML. ...\n",
              "3       A declarative, efficient, and flexible JavaScr...\n",
              "4       AngularJS - HTML enhanced for web apps!Angular...\n",
              "                              ...                        \n",
              "4995    This project aims to provide a working page fl...\n",
              "4996    JavaScript Client-Side Cookie Manipulation Lib...\n",
              "4997    The earliest versions of the very first c comp...\n",
              "4998    A clone of the UIImagePickerController using t...\n",
              "4999    Mapnik is an open source toolkit for developin...\n",
              "Name: Text_data, Length: 5000, dtype: object"
            ]
          },
          "metadata": {},
          "execution_count": 13
        }
      ]
    },
    {
      "cell_type": "code",
      "source": [
        "X_train, X_test, y_train, y_test = train_test_split(df.loc[:,df.columns!='Domain'], df['Domain'], test_size=0.1, random_state=42, stratify=df['Domain'])\n",
        "del df"
      ],
      "metadata": {
        "id": "-MRwpVwA19ZA"
      },
      "execution_count": 16,
      "outputs": []
    },
    {
      "cell_type": "code",
      "source": [
        "X_train['Contributors']"
      ],
      "metadata": {
        "colab": {
          "base_uri": "https://localhost:8080/"
        },
        "id": "q5LAORA988-J",
        "outputId": "33cc60f1-0464-46e1-b4aa-57885e920963"
      },
      "execution_count": 18,
      "outputs": [
        {
          "output_type": "execute_result",
          "data": {
            "text/plain": [
              "3005    ['kyleduo', 'lpmfilho', 'pborreli', 'ytianhui'...\n",
              "4164    ['YabataDesign', 'kavu', 'vikjam', 'nugged', '...\n",
              "2877                 ['JamesDunne', 'id-travis-bradshaw']\n",
              "1472    ['greypants', 'benjtinsley', 'olets', 'solomon...\n",
              "2505    ['kennethreitz', 'vlcinsky', 'chadwhitacre', '...\n",
              "                              ...                        \n",
              "2892    ['m1entus', 'michalz-railwaymen', 'rex-remind1...\n",
              "681     ['buger', 'joekiller', 'urbanishimwe', 'slawos...\n",
              "604     ['jnicklas', 'bensie', 'mshibuya', 'trevorturk...\n",
              "570     ['JakeWharton', 'chrisbanes', 'SimonVT', 'goog...\n",
              "2553    ['obscuren', 'karalabe', 'fjl', 'tgerring', 'h...\n",
              "Name: Contributors, Length: 4500, dtype: object"
            ]
          },
          "metadata": {},
          "execution_count": 18
        }
      ]
    },
    {
      "cell_type": "code",
      "source": [
        "Y_train = pd.get_dummies(y_train)\n",
        "labels = Y_train.columns\n",
        "\n",
        "vect = CountVectorizer(tokenizer=join_words_from_lists)\n",
        "train = vect.fit_transform(X_train['Contributors'].astype(str))"
      ],
      "metadata": {
        "id": "_md3-DGk9FWQ"
      },
      "execution_count": 41,
      "outputs": []
    },
    {
      "cell_type": "code",
      "source": [
        "selected_features = []\n",
        "for label in labels:\n",
        "  selector =  SelectFromModel(LinearSVC(C=0.01, penalty=\"l1\", dual=False, max_iter=5000))\n",
        "  selector.fit(train, y_train)\n",
        "  features = selector.get_support()\n",
        "  selected_features.extend(list(vect.get_feature_names_out()[features]))"
      ],
      "metadata": {
        "id": "jsjvqliu9R-d"
      },
      "execution_count": 42,
      "outputs": []
    },
    {
      "cell_type": "code",
      "source": [
        "set(selected_features)"
      ],
      "metadata": {
        "colab": {
          "base_uri": "https://localhost:8080/"
        },
        "id": "ccexCt8H9arp",
        "outputId": "028b992d-6fef-4a42-defa-1c2e2dc22fc9"
      },
      "execution_count": 43,
      "outputs": [
        {
          "output_type": "execute_result",
          "data": {
            "text/plain": [
              "{' dependabot[bot]',\n",
              " ' kkirsche',\n",
              " ' lukasdrgon',\n",
              " ' peterdavehello',\n",
              " ' prayagverma'}"
            ]
          },
          "metadata": {},
          "execution_count": 43
        }
      ]
    },
    {
      "cell_type": "code",
      "source": [
        "m = np.isin(vect.get_feature_names_out(),list(set(selected_features)))\n",
        "indices = np.argwhere(m)\n",
        "\n",
        "indices"
      ],
      "metadata": {
        "colab": {
          "base_uri": "https://localhost:8080/"
        },
        "id": "7Pb4x1H49agM",
        "outputId": "22dec7fe-69fc-4423-adea-5db42bd54281"
      },
      "execution_count": 44,
      "outputs": [
        {
          "output_type": "execute_result",
          "data": {
            "text/plain": [
              "array([[ 49755],\n",
              "       [110561],\n",
              "       [121576],\n",
              "       [155868],\n",
              "       [160071]])"
            ]
          },
          "metadata": {},
          "execution_count": 44
        }
      ]
    },
    {
      "cell_type": "code",
      "source": [
        "len(vect.get_feature_names_out())"
      ],
      "metadata": {
        "colab": {
          "base_uri": "https://localhost:8080/"
        },
        "id": "uEF1F7A39w-J",
        "outputId": "0d69eb0a-2361-4596-94e5-74943b751301"
      },
      "execution_count": 46,
      "outputs": [
        {
          "output_type": "execute_result",
          "data": {
            "text/plain": [
              "224060"
            ]
          },
          "metadata": {},
          "execution_count": 46
        }
      ]
    },
    {
      "cell_type": "code",
      "source": [
        "# Text vectorization:\n",
        "def vectorize(train, test, prefix):\n",
        "    # Vectorize a text and return it as pandas dataframe with a prefix in each column.\n",
        "    start = time.time()\n",
        "\n",
        "    train_text_index = train.index\n",
        "    test_text_index  = test.index\n",
        "    \n",
        "    vect = CountVectorizer(tokenizer=join_words_from_lists)\n",
        "\n",
        "    train = vect.fit_transform(train.astype(str))\n",
        "    # train = pd.DataFrame(train.toarray(), columns=vect.get_feature_names_out(), index=train_text_index).add_prefix(prefix)\n",
        "    # train = train.astype(pd.SparseDtype(np.int16))\n",
        "\n",
        "    test = vect.transform(test.astype(str))\n",
        "    # test = pd.DataFrame(test.toarray(), columns=vect.get_feature_names_out(), index=test_text_index).add_prefix(prefix)\n",
        "    # test = test.astype(pd.SparseDtype(np.int16))\n",
        "    \n",
        "    end = time.time()\n",
        "    print('Prefix %s, Seconds %3.1f, shape: %i rows, %i columns'%(prefix, end-start, train.shape[0],train.shape[1]))\n",
        "    return train, test"
      ],
      "metadata": {
        "id": "8mda3hjVmbJV"
      },
      "execution_count": 5,
      "outputs": []
    },
    {
      "cell_type": "code",
      "source": [
        "Y_train = pd.get_dummies(y_train)\n",
        "\n",
        "def feature_reduction (Y_train, train_df, test_df, prefix, Selectmodel=True, Select50Best=False):\n",
        "\n",
        "    start = time.time()\n",
        "\n",
        "    labels = Y_train.columns\n",
        "    selected_features = []\n",
        "\n",
        "    if Selectmodel:\n",
        "\n",
        "        for label in labels:\n",
        "            selector =  SelectFromModel(LinearSVC(C=0.01, penalty=\"l1\", dual=False, max_iter=5000))\n",
        "            selector.fit(train_df, Y_train[label])\n",
        "            features = selector.get_support()\n",
        "            selected_features.append(list(train_df.columns[features]))\n",
        "\n",
        "    if Select50Best:\n",
        "\n",
        "        for label in labels:\n",
        "            selector =  SelectKBest(chi2, k=50) # SelectFpr(chi2, alpha=0.01)\n",
        "            selector.fit(train_df, Y_train[label])\n",
        "            features = selector.get_support()\n",
        "            selected_features.append(list(train_df.columns[features]))\n",
        "\n",
        "    unique_features = []\n",
        "    for feature in selected_features:\n",
        "        for element in feature:\n",
        "            if element not in unique_features:\n",
        "                unique_features.append(element)\n",
        "    \n",
        "    train_df = train_df[unique_features]\n",
        "    test_df  = test_df[unique_features]\n",
        "\n",
        "    end = time.time()\n",
        "    print('Prefix %s, Seconds %3.1f, shape: %i rows, %i columns'%(prefix, end-start, train_df.shape[0],train_df.shape[1]))\n",
        "\n",
        "    return train_df, test_df"
      ],
      "metadata": {
        "id": "APLHY_d0ma8M"
      },
      "execution_count": 6,
      "outputs": []
    },
    {
      "cell_type": "code",
      "source": [
        "cn_train, cn_test = vectorize(X_train['Contributors'], X_test['Contributors'], 'cn: ')\n",
        "cn_train, cn_test = feature_reduction(Y_train, cn_train, cn_test, 'cn: ', Selectmodel=False, Select50Best=True)\n",
        "pl_train, pl_test = vectorize(X_train['Languages'], X_test['Languages'], 'pl: ')\n",
        "pl_train, pl_test = feature_reduction(Y_train, pl_train, pl_test, 'pl: ')\n",
        "tp_train, tp_test = vectorize(X_train['Topics'], X_test['Topics'], 'tp: ')\n",
        "tp_train, tp_test = feature_reduction(Y_train, tp_train, tp_test, 'tp: ')\n",
        "ct_train, ct_test = vectorize(X_train['Contents'], X_test['Contents'], 'ct: ')\n",
        "ct_train, ct_test = feature_reduction(Y_train, ct_train, ct_test, 'ct: ')\n",
        "li_train, li_test = vectorize(X_train['Licence'], X_test['Licence'], 'li: ')\n",
        "li_train, li_test = feature_reduction(Y_train, li_train, li_test, 'li: ')"
      ],
      "metadata": {
        "colab": {
          "base_uri": "https://localhost:8080/",
          "height": 392
        },
        "id": "CBcb5d1AmbCv",
        "outputId": "754834e8-e0c3-49c5-92ab-da21f134c29d"
      },
      "execution_count": 9,
      "outputs": [
        {
          "output_type": "stream",
          "name": "stdout",
          "text": [
            "Prefix cn: , Seconds 1.8, shape: 4500 rows, 224060 columns\n"
          ]
        },
        {
          "output_type": "error",
          "ename": "AttributeError",
          "evalue": "ignored",
          "traceback": [
            "\u001b[0;31m---------------------------------------------------------------------------\u001b[0m",
            "\u001b[0;31mAttributeError\u001b[0m                            Traceback (most recent call last)",
            "\u001b[0;32m<ipython-input-9-1578f0b6a7a5>\u001b[0m in \u001b[0;36m<module>\u001b[0;34m()\u001b[0m\n\u001b[1;32m      1\u001b[0m \u001b[0mcn_train\u001b[0m\u001b[0;34m,\u001b[0m \u001b[0mcn_test\u001b[0m \u001b[0;34m=\u001b[0m \u001b[0mvectorize\u001b[0m\u001b[0;34m(\u001b[0m\u001b[0mX_train\u001b[0m\u001b[0;34m[\u001b[0m\u001b[0;34m'Contributors'\u001b[0m\u001b[0;34m]\u001b[0m\u001b[0;34m,\u001b[0m \u001b[0mX_test\u001b[0m\u001b[0;34m[\u001b[0m\u001b[0;34m'Contributors'\u001b[0m\u001b[0;34m]\u001b[0m\u001b[0;34m,\u001b[0m \u001b[0;34m'cn: '\u001b[0m\u001b[0;34m)\u001b[0m\u001b[0;34m\u001b[0m\u001b[0;34m\u001b[0m\u001b[0m\n\u001b[0;32m----> 2\u001b[0;31m \u001b[0mcn_train\u001b[0m\u001b[0;34m,\u001b[0m \u001b[0mcn_test\u001b[0m \u001b[0;34m=\u001b[0m \u001b[0mfeature_reduction\u001b[0m\u001b[0;34m(\u001b[0m\u001b[0mY_train\u001b[0m\u001b[0;34m,\u001b[0m \u001b[0mcn_train\u001b[0m\u001b[0;34m,\u001b[0m \u001b[0mcn_test\u001b[0m\u001b[0;34m,\u001b[0m \u001b[0;34m'cn: '\u001b[0m\u001b[0;34m,\u001b[0m \u001b[0mSelectmodel\u001b[0m\u001b[0;34m=\u001b[0m\u001b[0;32mFalse\u001b[0m\u001b[0;34m,\u001b[0m \u001b[0mSelect50Best\u001b[0m\u001b[0;34m=\u001b[0m\u001b[0;32mTrue\u001b[0m\u001b[0;34m)\u001b[0m\u001b[0;34m\u001b[0m\u001b[0;34m\u001b[0m\u001b[0m\n\u001b[0m\u001b[1;32m      3\u001b[0m \u001b[0mpl_train\u001b[0m\u001b[0;34m,\u001b[0m \u001b[0mpl_test\u001b[0m \u001b[0;34m=\u001b[0m \u001b[0mvectorize\u001b[0m\u001b[0;34m(\u001b[0m\u001b[0mX_train\u001b[0m\u001b[0;34m[\u001b[0m\u001b[0;34m'Languages'\u001b[0m\u001b[0;34m]\u001b[0m\u001b[0;34m,\u001b[0m \u001b[0mX_test\u001b[0m\u001b[0;34m[\u001b[0m\u001b[0;34m'Languages'\u001b[0m\u001b[0;34m]\u001b[0m\u001b[0;34m,\u001b[0m \u001b[0;34m'pl: '\u001b[0m\u001b[0;34m)\u001b[0m\u001b[0;34m\u001b[0m\u001b[0;34m\u001b[0m\u001b[0m\n\u001b[1;32m      4\u001b[0m \u001b[0mpl_train\u001b[0m\u001b[0;34m,\u001b[0m \u001b[0mpl_test\u001b[0m \u001b[0;34m=\u001b[0m \u001b[0mfeature_reduction\u001b[0m\u001b[0;34m(\u001b[0m\u001b[0mY_train\u001b[0m\u001b[0;34m,\u001b[0m \u001b[0mpl_train\u001b[0m\u001b[0;34m,\u001b[0m \u001b[0mpl_test\u001b[0m\u001b[0;34m,\u001b[0m \u001b[0;34m'pl: '\u001b[0m\u001b[0;34m)\u001b[0m\u001b[0;34m\u001b[0m\u001b[0;34m\u001b[0m\u001b[0m\n\u001b[1;32m      5\u001b[0m \u001b[0mtp_train\u001b[0m\u001b[0;34m,\u001b[0m \u001b[0mtp_test\u001b[0m \u001b[0;34m=\u001b[0m \u001b[0mvectorize\u001b[0m\u001b[0;34m(\u001b[0m\u001b[0mX_train\u001b[0m\u001b[0;34m[\u001b[0m\u001b[0;34m'Topics'\u001b[0m\u001b[0;34m]\u001b[0m\u001b[0;34m,\u001b[0m \u001b[0mX_test\u001b[0m\u001b[0;34m[\u001b[0m\u001b[0;34m'Topics'\u001b[0m\u001b[0;34m]\u001b[0m\u001b[0;34m,\u001b[0m \u001b[0;34m'tp: '\u001b[0m\u001b[0;34m)\u001b[0m\u001b[0;34m\u001b[0m\u001b[0;34m\u001b[0m\u001b[0m\n",
            "\u001b[0;32m<ipython-input-6-b99215d53628>\u001b[0m in \u001b[0;36mfeature_reduction\u001b[0;34m(Y_train, train_df, test_df, prefix, Selectmodel, Select50Best)\u001b[0m\n\u001b[1;32m     22\u001b[0m             \u001b[0mselector\u001b[0m\u001b[0;34m.\u001b[0m\u001b[0mfit\u001b[0m\u001b[0;34m(\u001b[0m\u001b[0mtrain_df\u001b[0m\u001b[0;34m,\u001b[0m \u001b[0mY_train\u001b[0m\u001b[0;34m[\u001b[0m\u001b[0mlabel\u001b[0m\u001b[0;34m]\u001b[0m\u001b[0;34m)\u001b[0m\u001b[0;34m\u001b[0m\u001b[0;34m\u001b[0m\u001b[0m\n\u001b[1;32m     23\u001b[0m             \u001b[0mfeatures\u001b[0m \u001b[0;34m=\u001b[0m \u001b[0mselector\u001b[0m\u001b[0;34m.\u001b[0m\u001b[0mget_support\u001b[0m\u001b[0;34m(\u001b[0m\u001b[0;34m)\u001b[0m\u001b[0;34m\u001b[0m\u001b[0;34m\u001b[0m\u001b[0m\n\u001b[0;32m---> 24\u001b[0;31m             \u001b[0mselected_features\u001b[0m\u001b[0;34m.\u001b[0m\u001b[0mappend\u001b[0m\u001b[0;34m(\u001b[0m\u001b[0mlist\u001b[0m\u001b[0;34m(\u001b[0m\u001b[0mtrain_df\u001b[0m\u001b[0;34m.\u001b[0m\u001b[0mcolumns\u001b[0m\u001b[0;34m[\u001b[0m\u001b[0mfeatures\u001b[0m\u001b[0;34m]\u001b[0m\u001b[0;34m)\u001b[0m\u001b[0;34m)\u001b[0m\u001b[0;34m\u001b[0m\u001b[0;34m\u001b[0m\u001b[0m\n\u001b[0m\u001b[1;32m     25\u001b[0m \u001b[0;34m\u001b[0m\u001b[0m\n\u001b[1;32m     26\u001b[0m     \u001b[0munique_features\u001b[0m \u001b[0;34m=\u001b[0m \u001b[0;34m[\u001b[0m\u001b[0;34m]\u001b[0m\u001b[0;34m\u001b[0m\u001b[0;34m\u001b[0m\u001b[0m\n",
            "\u001b[0;32m/usr/local/lib/python3.7/dist-packages/scipy/sparse/base.py\u001b[0m in \u001b[0;36m__getattr__\u001b[0;34m(self, attr)\u001b[0m\n\u001b[1;32m    689\u001b[0m             \u001b[0;32mreturn\u001b[0m \u001b[0mself\u001b[0m\u001b[0;34m.\u001b[0m\u001b[0mgetnnz\u001b[0m\u001b[0;34m(\u001b[0m\u001b[0;34m)\u001b[0m\u001b[0;34m\u001b[0m\u001b[0;34m\u001b[0m\u001b[0m\n\u001b[1;32m    690\u001b[0m         \u001b[0;32melse\u001b[0m\u001b[0;34m:\u001b[0m\u001b[0;34m\u001b[0m\u001b[0;34m\u001b[0m\u001b[0m\n\u001b[0;32m--> 691\u001b[0;31m             \u001b[0;32mraise\u001b[0m \u001b[0mAttributeError\u001b[0m\u001b[0;34m(\u001b[0m\u001b[0mattr\u001b[0m \u001b[0;34m+\u001b[0m \u001b[0;34m\" not found\"\u001b[0m\u001b[0;34m)\u001b[0m\u001b[0;34m\u001b[0m\u001b[0;34m\u001b[0m\u001b[0m\n\u001b[0m\u001b[1;32m    692\u001b[0m \u001b[0;34m\u001b[0m\u001b[0m\n\u001b[1;32m    693\u001b[0m     \u001b[0;32mdef\u001b[0m \u001b[0mtranspose\u001b[0m\u001b[0;34m(\u001b[0m\u001b[0mself\u001b[0m\u001b[0;34m,\u001b[0m \u001b[0maxes\u001b[0m\u001b[0;34m=\u001b[0m\u001b[0;32mNone\u001b[0m\u001b[0;34m,\u001b[0m \u001b[0mcopy\u001b[0m\u001b[0;34m=\u001b[0m\u001b[0;32mFalse\u001b[0m\u001b[0;34m)\u001b[0m\u001b[0;34m:\u001b[0m\u001b[0;34m\u001b[0m\u001b[0;34m\u001b[0m\u001b[0m\n",
            "\u001b[0;31mAttributeError\u001b[0m: columns not found"
          ]
        }
      ]
    },
    {
      "cell_type": "code",
      "source": [
        "model = SentenceTransformer('sentence-transformers/all-mpnet-base-v2')\n",
        "train_vectors = model.encode(X_train['Text_data'].to_list())\n",
        "test_vectors  = model.encode(X_test['Text_data'].to_list())"
      ],
      "metadata": {
        "id": "fxMdIkiA0IXh"
      },
      "execution_count": 15,
      "outputs": []
    },
    {
      "cell_type": "code",
      "source": [
        "train_vectors = pd.DataFrame(train_vectors.tolist(), index=X_train.index)\n",
        "train_vectors = train_vectors.add_prefix(\"Text \")\n",
        "test_vectors  = pd.DataFrame(test_vectors.tolist(), index=X_test.index)\n",
        "test_vectors  = test_vectors.add_prefix(\"Text \")"
      ],
      "metadata": {
        "id": "xG4H1Pbr0Hv4"
      },
      "execution_count": 16,
      "outputs": []
    },
    {
      "cell_type": "code",
      "source": [
        "X_train = pd.concat([train_vectors, cn_train, pl_train, tp_train, ct_train, li_train], axis=1)\n",
        "X_test  = pd.concat([test_vectors, cn_test, pl_test, tp_test, ct_test, li_test], axis=1)"
      ],
      "metadata": {
        "id": "t534JT7emaa9"
      },
      "execution_count": null,
      "outputs": []
    },
    {
      "cell_type": "code",
      "source": [
        "automl = AutoML()\n",
        "settings = {\n",
        "    \"time_budget\": 1000,  # total running time in seconds\n",
        "    \"metric\": 'macro_f1',  # can be: 'r2', 'rmse', 'mae', 'mse', 'accuracy', 'roc_auc', 'roc_auc_ovr',\n",
        "                           # 'roc_auc_ovo', 'log_loss', 'mape', 'f1', 'ap', 'ndcg', 'micro_f1', 'macro_f1'\n",
        "    \"task\": 'classification',  # task type\n",
        "    \"eval_method\" : 'cv',\n",
        "    \"n_splits\" : 10,\n",
        "    \"seed\": 42,    # random seed\n",
        "}"
      ],
      "metadata": {
        "id": "eq_xbcV32i3H"
      },
      "execution_count": null,
      "outputs": []
    },
    {
      "cell_type": "code",
      "source": [
        "automl.fit(X_train=X_train, y_train=y_train, **settings)"
      ],
      "metadata": {
        "id": "d4nYf6fe2jfO"
      },
      "execution_count": null,
      "outputs": []
    },
    {
      "cell_type": "code",
      "source": [
        "'''retrieve best config and best learner'''\n",
        "print('Best ML leaner:', automl.best_estimator)\n",
        "print('Best hyperparmeter config:', automl.best_config)\n",
        "print('Best accuracy on validation data: {0:.4g}'.format(1-automl.best_loss))\n",
        "print('Training duration of best run: {0:.4g} s'.format(automl.best_config_train_time))"
      ],
      "metadata": {
        "id": "yeaZ7eHe2pEl"
      },
      "execution_count": null,
      "outputs": []
    },
    {
      "cell_type": "code",
      "source": [
        "'''compute predictions of testing dataset''' \n",
        "y_pred = automl.predict(X_test)\n",
        "y_pred_proba = automl.predict_proba(X_test)[:,1]"
      ],
      "metadata": {
        "id": "aVXANl7j4ssf"
      },
      "execution_count": null,
      "outputs": []
    },
    {
      "cell_type": "code",
      "source": [
        "target_names, counts = np.unique(y_test, return_counts=True)\n",
        "print(np.asarray((target_names, counts)).T)"
      ],
      "metadata": {
        "id": "UfhHhtC_5yQ8"
      },
      "execution_count": null,
      "outputs": []
    },
    {
      "cell_type": "code",
      "source": [
        "print(classification_report(y_test, y_pred, target_names=target_names))"
      ],
      "metadata": {
        "id": "zLzxylST5m0h"
      },
      "execution_count": null,
      "outputs": []
    },
    {
      "cell_type": "code",
      "source": [
        "cnf_matrix = confusion_matrix(y_test, y_pred)\n",
        "disp = ConfusionMatrixDisplay(confusion_matrix=cnf_matrix, display_labels=target_names).plot(cmap=plt.cm.Blues, xticks_rotation='vertical')"
      ],
      "metadata": {
        "id": "xHrX-dfOIT5z"
      },
      "execution_count": null,
      "outputs": []
    }
  ]
}