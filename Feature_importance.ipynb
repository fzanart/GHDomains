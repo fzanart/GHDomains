{
  "nbformat": 4,
  "nbformat_minor": 0,
  "metadata": {
    "colab": {
      "name": "Feature_importance.ipynb",
      "provenance": [],
      "authorship_tag": "ABX9TyPWjBXktrX248OIFZ5y4QYq",
      "include_colab_link": true
    },
    "kernelspec": {
      "name": "python3",
      "display_name": "Python 3"
    },
    "language_info": {
      "name": "python"
    }
  },
  "cells": [
    {
      "cell_type": "markdown",
      "metadata": {
        "id": "view-in-github",
        "colab_type": "text"
      },
      "source": [
        "<a href=\"https://colab.research.google.com/github/fzanart/GHDomains/blob/main/Feature_importance.ipynb\" target=\"_parent\"><img src=\"https://colab.research.google.com/assets/colab-badge.svg\" alt=\"Open In Colab\"/></a>"
      ]
    },
    {
      "cell_type": "code",
      "source": [
        "%%capture\n",
        "!pip install flaml"
      ],
      "metadata": {
        "id": "e4oK-wN7RF_H"
      },
      "execution_count": 1,
      "outputs": []
    },
    {
      "cell_type": "code",
      "source": [
        "from flaml import AutoML\n",
        "import numpy as np\n",
        "import pandas as pd\n",
        "from google.colab import drive\n",
        "import pickle\n",
        "drive.mount('/content/drive/')"
      ],
      "metadata": {
        "colab": {
          "base_uri": "https://localhost:8080/"
        },
        "id": "7dDjjzwjQ81X",
        "outputId": "a52a1964-6c12-421e-c4ae-b23a2000ee9f"
      },
      "execution_count": 2,
      "outputs": [
        {
          "output_type": "stream",
          "name": "stdout",
          "text": [
            "Mounted at /content/drive/\n"
          ]
        }
      ]
    },
    {
      "cell_type": "code",
      "execution_count": 3,
      "metadata": {
        "id": "RzhoyiaNQv_h"
      },
      "outputs": [],
      "source": [
        "#Imports:\n",
        "# Clasification model\n",
        "with open('/content/drive/MyDrive/GHDomains/Resources/automl.pkl', 'rb') as fp:\n",
        "  automl = pickle.load(fp)"
      ]
    },
    {
      "cell_type": "code",
      "source": [
        "# Column names\n",
        "with open('/content/drive/MyDrive/GHDomains/Resources/column_names.pkl', 'rb') as fp:\n",
        "  column_names = pickle.load(fp)"
      ],
      "metadata": {
        "id": "5TohXm9KS2kj"
      },
      "execution_count": 9,
      "outputs": []
    },
    {
      "cell_type": "code",
      "source": [
        "tx_importance = [i for i, e in enumerate(column_names.to_list()) if e.startswith('Text')]\n",
        "cn_importance = [i for i, e in enumerate(column_names.to_list()) if e.startswith('cn:')]\n",
        "pl_importance = [i for i, e in enumerate(column_names.to_list()) if e.startswith('pl:')]\n",
        "tp_importance = [i for i, e in enumerate(column_names.to_list()) if e.startswith('tp:')]\n",
        "ct_importance = [i for i, e in enumerate(column_names.to_list()) if e.startswith('ct:')]\n",
        "li_importance = [i for i, e in enumerate(column_names.to_list()) if e.startswith('li:')]\n",
        "num_importance = automl.model.estimator.feature_importances_[-3:]\n",
        "\n",
        "\n",
        "text_importance = []\n",
        "for i in tx_importance:\n",
        "  text_importance.append(automl.model.estimator.feature_importances_[i])\n",
        "\n",
        "contributors_importance = []\n",
        "for i in cn_importance:\n",
        "  contributors_importance.append(automl.model.estimator.feature_importances_[i])\n",
        "\n",
        "language_importance = []\n",
        "for i in pl_importance:\n",
        "  language_importance.append(automl.model.estimator.feature_importances_[i])\n",
        "\n",
        "topics_importance = []\n",
        "for i in tp_importance:\n",
        "  topics_importance.append(automl.model.estimator.feature_importances_[i])\n",
        "\n",
        "content_importance = []\n",
        "for i in ct_importance:\n",
        "  content_importance.append(automl.model.estimator.feature_importances_[i])\n",
        "\n",
        "license_importance = []\n",
        "for i in li_importance:\n",
        "  license_importance.append(automl.model.estimator.feature_importances_[i])\n"
      ],
      "metadata": {
        "id": "vxtqc2mmU5QQ"
      },
      "execution_count": 68,
      "outputs": []
    },
    {
      "cell_type": "code",
      "source": [
        "total = sum(automl.model.estimator.feature_importances_)"
      ],
      "metadata": {
        "id": "9OEjUSeOfWnE"
      },
      "execution_count": 75,
      "outputs": []
    },
    {
      "cell_type": "code",
      "source": [
        "sum(text_importance), sum(contributors_importance), sum(language_importance), sum(topics_importance), sum(content_importance), sum(license_importance), sum(num_importance)"
      ],
      "metadata": {
        "colab": {
          "base_uri": "https://localhost:8080/"
        },
        "id": "nLrLYCXJXbYi",
        "outputId": "c7127b40-48a7-46e0-9c0a-4ac9a542b4a1"
      },
      "execution_count": 74,
      "outputs": [
        {
          "output_type": "execute_result",
          "data": {
            "text/plain": [
              "(40994, 47, 574, 6, 1034, 49, 477)"
            ]
          },
          "metadata": {},
          "execution_count": 74
        }
      ]
    },
    {
      "cell_type": "code",
      "source": [
        "sum(text_importance)/total, sum(contributors_importance)/total, sum(language_importance)/total, sum(topics_importance)/total, sum(content_importance)/total, sum(license_importance)/total, sum(num_importance)/total"
      ],
      "metadata": {
        "colab": {
          "base_uri": "https://localhost:8080/"
        },
        "id": "ur2drohGfTko",
        "outputId": "8944c6b3-f5ae-45d3-ab1c-7d38ac91e51d"
      },
      "execution_count": 76,
      "outputs": [
        {
          "output_type": "execute_result",
          "data": {
            "text/plain": [
              "(0.9493527245779394,\n",
              " 0.001088441675737014,\n",
              " 0.013292883444107362,\n",
              " 0.0001389500011579167,\n",
              " 0.023945716866214307,\n",
              " 0.0011347583427896528,\n",
              " 0.011046525092054376)"
            ]
          },
          "metadata": {},
          "execution_count": 76
        }
      ]
    }
  ]
}