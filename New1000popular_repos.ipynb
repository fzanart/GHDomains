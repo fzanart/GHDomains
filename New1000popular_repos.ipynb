{
  "nbformat": 4,
  "nbformat_minor": 0,
  "metadata": {
    "colab": {
      "name": "Untitled9.ipynb",
      "provenance": [],
      "mount_file_id": "https://github.com/fzanart/GHDomains/blob/main/New1000popular_repos.ipynb",
      "authorship_tag": "ABX9TyPD7oYU3FebzFJtD/A8u+F3",
      "include_colab_link": true
    },
    "kernelspec": {
      "name": "python3",
      "display_name": "Python 3"
    },
    "language_info": {
      "name": "python"
    }
  },
  "cells": [
    {
      "cell_type": "markdown",
      "metadata": {
        "id": "view-in-github",
        "colab_type": "text"
      },
      "source": [
        "<a href=\"https://colab.research.google.com/github/fzanart/GHDomains/blob/main/New1000popular_repos.ipynb\" target=\"_parent\"><img src=\"https://colab.research.google.com/assets/colab-badge.svg\" alt=\"Open In Colab\"/></a>"
      ]
    },
    {
      "cell_type": "code",
      "source": [
        "!pip install PyGithub"
      ],
      "metadata": {
        "colab": {
          "base_uri": "https://localhost:8080/"
        },
        "id": "8Zz_ECtxHlNI",
        "outputId": "ebc081ce-d083-4758-941a-60f0c342769d"
      },
      "execution_count": 2,
      "outputs": [
        {
          "output_type": "stream",
          "name": "stdout",
          "text": [
            "Collecting PyGithub\n",
            "  Downloading PyGithub-1.55-py3-none-any.whl (291 kB)\n",
            "\u001b[?25l\r\u001b[K     |█▏                              | 10 kB 17.7 MB/s eta 0:00:01\r\u001b[K     |██▎                             | 20 kB 10.1 MB/s eta 0:00:01\r\u001b[K     |███▍                            | 30 kB 6.4 MB/s eta 0:00:01\r\u001b[K     |████▌                           | 40 kB 5.7 MB/s eta 0:00:01\r\u001b[K     |█████▋                          | 51 kB 2.7 MB/s eta 0:00:01\r\u001b[K     |██████▊                         | 61 kB 3.2 MB/s eta 0:00:01\r\u001b[K     |███████▉                        | 71 kB 3.4 MB/s eta 0:00:01\r\u001b[K     |█████████                       | 81 kB 3.5 MB/s eta 0:00:01\r\u001b[K     |██████████                      | 92 kB 3.9 MB/s eta 0:00:01\r\u001b[K     |███████████▎                    | 102 kB 3.2 MB/s eta 0:00:01\r\u001b[K     |████████████▍                   | 112 kB 3.2 MB/s eta 0:00:01\r\u001b[K     |█████████████▌                  | 122 kB 3.2 MB/s eta 0:00:01\r\u001b[K     |██████████████▋                 | 133 kB 3.2 MB/s eta 0:00:01\r\u001b[K     |███████████████▊                | 143 kB 3.2 MB/s eta 0:00:01\r\u001b[K     |████████████████▉               | 153 kB 3.2 MB/s eta 0:00:01\r\u001b[K     |██████████████████              | 163 kB 3.2 MB/s eta 0:00:01\r\u001b[K     |███████████████████             | 174 kB 3.2 MB/s eta 0:00:01\r\u001b[K     |████████████████████▏           | 184 kB 3.2 MB/s eta 0:00:01\r\u001b[K     |█████████████████████▍          | 194 kB 3.2 MB/s eta 0:00:01\r\u001b[K     |██████████████████████▌         | 204 kB 3.2 MB/s eta 0:00:01\r\u001b[K     |███████████████████████▋        | 215 kB 3.2 MB/s eta 0:00:01\r\u001b[K     |████████████████████████▊       | 225 kB 3.2 MB/s eta 0:00:01\r\u001b[K     |█████████████████████████▉      | 235 kB 3.2 MB/s eta 0:00:01\r\u001b[K     |███████████████████████████     | 245 kB 3.2 MB/s eta 0:00:01\r\u001b[K     |████████████████████████████    | 256 kB 3.2 MB/s eta 0:00:01\r\u001b[K     |█████████████████████████████▏  | 266 kB 3.2 MB/s eta 0:00:01\r\u001b[K     |██████████████████████████████▎ | 276 kB 3.2 MB/s eta 0:00:01\r\u001b[K     |███████████████████████████████▌| 286 kB 3.2 MB/s eta 0:00:01\r\u001b[K     |████████████████████████████████| 291 kB 3.2 MB/s \n",
            "\u001b[?25hCollecting pyjwt>=2.0\n",
            "  Downloading PyJWT-2.3.0-py3-none-any.whl (16 kB)\n",
            "Collecting pynacl>=1.4.0\n",
            "  Downloading PyNaCl-1.5.0-cp36-abi3-manylinux_2_17_x86_64.manylinux2014_x86_64.manylinux_2_24_x86_64.whl (856 kB)\n",
            "\u001b[K     |████████████████████████████████| 856 kB 47.0 MB/s \n",
            "\u001b[?25hCollecting deprecated\n",
            "  Downloading Deprecated-1.2.13-py2.py3-none-any.whl (9.6 kB)\n",
            "Requirement already satisfied: requests>=2.14.0 in /usr/local/lib/python3.7/dist-packages (from PyGithub) (2.23.0)\n",
            "Requirement already satisfied: cffi>=1.4.1 in /usr/local/lib/python3.7/dist-packages (from pynacl>=1.4.0->PyGithub) (1.15.0)\n",
            "Requirement already satisfied: pycparser in /usr/local/lib/python3.7/dist-packages (from cffi>=1.4.1->pynacl>=1.4.0->PyGithub) (2.21)\n",
            "Requirement already satisfied: chardet<4,>=3.0.2 in /usr/local/lib/python3.7/dist-packages (from requests>=2.14.0->PyGithub) (3.0.4)\n",
            "Requirement already satisfied: urllib3!=1.25.0,!=1.25.1,<1.26,>=1.21.1 in /usr/local/lib/python3.7/dist-packages (from requests>=2.14.0->PyGithub) (1.24.3)\n",
            "Requirement already satisfied: certifi>=2017.4.17 in /usr/local/lib/python3.7/dist-packages (from requests>=2.14.0->PyGithub) (2021.10.8)\n",
            "Requirement already satisfied: idna<3,>=2.5 in /usr/local/lib/python3.7/dist-packages (from requests>=2.14.0->PyGithub) (2.10)\n",
            "Requirement already satisfied: wrapt<2,>=1.10 in /usr/local/lib/python3.7/dist-packages (from deprecated->PyGithub) (1.13.3)\n",
            "Installing collected packages: pynacl, pyjwt, deprecated, PyGithub\n",
            "Successfully installed PyGithub-1.55 deprecated-1.2.13 pyjwt-2.3.0 pynacl-1.5.0\n"
          ]
        }
      ]
    },
    {
      "cell_type": "code",
      "execution_count": 3,
      "metadata": {
        "id": "xb7CYqg8cmUH",
        "colab": {
          "base_uri": "https://localhost:8080/"
        },
        "outputId": "c1f67037-c514-4f89-9a9a-94b3ca9d442c"
      },
      "outputs": [
        {
          "output_type": "stream",
          "name": "stdout",
          "text": [
            "Drive already mounted at /content/drive/; to attempt to forcibly remount, call drive.mount(\"/content/drive/\", force_remount=True).\n"
          ]
        }
      ],
      "source": [
        "import pandas as pd\n",
        "from google.colab import drive\n",
        "from github import Github, RateLimitExceededException\n",
        "from github.GithubException import UnknownObjectException\n",
        "from tqdm import tqdm\n",
        "from datetime import datetime\n",
        "import time\n",
        "import os\n",
        "import json\n",
        "drive.mount('/content/drive/')"
      ]
    },
    {
      "cell_type": "code",
      "source": [
        "new_1000 = pd.read_excel('/content/drive/MyDrive/GHDomains/1000Popular_repos.xlsx', index_col=0)\n",
        "new = new_1000['Name'].to_list()"
      ],
      "metadata": {
        "id": "OP9xMY_PBG4b"
      },
      "execution_count": 4,
      "outputs": []
    },
    {
      "cell_type": "code",
      "source": [
        "old_1000 = pd.read_csv('/content/drive/MyDrive/GHDomains/expanded_frame_final.csv', usecols=['Name'])\n",
        "old = old_1000['Name'].to_list()"
      ],
      "metadata": {
        "id": "Ny1IV_jvCf4q"
      },
      "execution_count": 5,
      "outputs": []
    },
    {
      "cell_type": "code",
      "source": [
        "repos_ids = list(set(new) - set(old))"
      ],
      "metadata": {
        "id": "T9AkGS26DiOi"
      },
      "execution_count": 6,
      "outputs": []
    },
    {
      "cell_type": "code",
      "source": [
        "len(repos_ids)"
      ],
      "metadata": {
        "colab": {
          "base_uri": "https://localhost:8080/"
        },
        "id": "NG38oElXDs62",
        "outputId": "928d7fb3-c81b-4276-8770-127d59a36896"
      },
      "execution_count": 7,
      "outputs": [
        {
          "output_type": "execute_result",
          "data": {
            "text/plain": [
              "441"
            ]
          },
          "metadata": {},
          "execution_count": 7
        }
      ]
    },
    {
      "cell_type": "code",
      "source": [
        "token = input(\"Enter your Github token:\")\n",
        "g = Github(token, timeout=30, per_page=100)"
      ],
      "metadata": {
        "id": "JZfJjkWFHY2s"
      },
      "execution_count": null,
      "outputs": []
    },
    {
      "cell_type": "code",
      "source": [
        "def catch(c):\n",
        "    try:\n",
        "        return c.author.login\n",
        "    except:\n",
        "        return c.commit.author.name\n",
        "\n",
        "\n",
        "def get_commits_data(token, repo_id):\n",
        "\n",
        "    repo = token.get_repo(repo_id)\n",
        "\n",
        "    repo_commits_author = []\n",
        "    repo_commits_message = []\n",
        "    try:\n",
        "        \n",
        "        commits = repo.get_commits()\n",
        "        repo_commits_author.extend([catch(commit) for commit in commits])\n",
        "        repo_commits_message.extend([commit.commit.message for commit in commits])\n",
        "        \n",
        "        if len(repo_commits_author) != 0 and len(repo_commits_author) !=0:\n",
        "            return {'Authors:': repo_commits_author, 'Messages:': repo_commits_message}\n",
        "        else:\n",
        "            return None\n",
        "    except:\n",
        "\t    return None\n",
        "\n",
        "def download_commits(token, repo_id):\n",
        "\n",
        "    return get_commits_data(token, repo_id)"
      ],
      "metadata": {
        "id": "merRAxm3Ig94"
      },
      "execution_count": 9,
      "outputs": []
    },
    {
      "cell_type": "code",
      "source": [
        "output_directory_path    = '/content/drive/MyDrive/GHDomains/Downloaded_repos'\n",
        "repos_already_downloaded = [file_name.replace('.json', '').replace(':','/') for file_name in os.listdir(output_directory_path) if file_name.endswith('.json') and not file_name.startswith('all_repos')]\n",
        "repos_to_download        = [repo_name for repo_name in repos_ids if repo_name not in repos_already_downloaded]"
      ],
      "metadata": {
        "id": "Y82v6fv1JJP5"
      },
      "execution_count": 15,
      "outputs": []
    },
    {
      "cell_type": "code",
      "source": [
        "repos_to_download = ['huginn/huginn',\n",
        "                      'mastodon/mastodon',\n",
        "                      'quozd/awesome-dotnet',\n",
        "                      'kamranahmedse/design-patterns-for-humans',\n",
        "                      'derailed/k9s',\n",
        "                      'spmallick/learnopencv',\n",
        "                      'qishibo/AnotherRedisDesktopManager',\n",
        "                      'bailicangdu/vue2-elm',\n",
        "                      'akullpp/awesome-java',\n",
        "                      'puppeteer/puppeteer',\n",
        "                      'alibaba/arthas',\n",
        "                      'atlassian/react-beautiful-dnd',\n",
        "                      'plotly/dash']"
      ],
      "metadata": {
        "id": "1NpZqGqu9Xyj"
      },
      "execution_count": 16,
      "outputs": []
    },
    {
      "cell_type": "code",
      "source": [
        "for i, repo_id in enumerate(repos_to_download):\n",
        "  try:\n",
        "    print('Downloading repo: ' + repo_id + ' ...')\n",
        "    print(str(time.asctime(time.localtime(time.time()))) + ' ' + ': #' + str(i+1+len(repos_already_downloaded)) + ' out of ' + str(len(repos_ids)) + ' repos')\n",
        "\n",
        "    commits = download_commits(g, repo_id)\n",
        "    repo_id = repo_id.replace('/', ':')\n",
        "    json.dump(commits, open(output_directory_path + '/' + repo_id + '.json', 'w'))\n",
        "\n",
        "    print('- '*50)\n",
        "  except RateLimitExceededException:\n",
        "    print('sleeping...')\n",
        "    time.sleep((g.get_rate_limit().core.reset - datetime.today()).seconds + 5)\n",
        "    print('continue...')\n",
        "  except UnknownObjectException:\n",
        "    print(repo_id + ' not found')\n",
        "    continue"
      ],
      "metadata": {
        "colab": {
          "base_uri": "https://localhost:8080/"
        },
        "id": "glp-C1HoJ1Qn",
        "outputId": "cce9ec34-0294-464d-ac92-15ad73fa9d81"
      },
      "execution_count": 17,
      "outputs": [
        {
          "output_type": "stream",
          "name": "stdout",
          "text": [
            "Downloading repo: huginn/huginn ...\n",
            "Wed Mar 16 04:22:53 2022 : #441 out of 441 repos\n",
            "- - - - - - - - - - - - - - - - - - - - - - - - - - - - - - - - - - - - - - - - - - - - - - - - - - \n",
            "Downloading repo: mastodon/mastodon ...\n",
            "Wed Mar 16 04:23:03 2022 : #442 out of 441 repos\n",
            "- - - - - - - - - - - - - - - - - - - - - - - - - - - - - - - - - - - - - - - - - - - - - - - - - - \n",
            "Downloading repo: quozd/awesome-dotnet ...\n",
            "Wed Mar 16 04:23:42 2022 : #443 out of 441 repos\n",
            "- - - - - - - - - - - - - - - - - - - - - - - - - - - - - - - - - - - - - - - - - - - - - - - - - - \n",
            "Downloading repo: kamranahmedse/design-patterns-for-humans ...\n",
            "Wed Mar 16 04:23:47 2022 : #444 out of 441 repos\n",
            "- - - - - - - - - - - - - - - - - - - - - - - - - - - - - - - - - - - - - - - - - - - - - - - - - - \n",
            "Downloading repo: derailed/k9s ...\n",
            "Wed Mar 16 04:23:48 2022 : #445 out of 441 repos\n",
            "- - - - - - - - - - - - - - - - - - - - - - - - - - - - - - - - - - - - - - - - - - - - - - - - - - \n",
            "Downloading repo: spmallick/learnopencv ...\n",
            "Wed Mar 16 04:23:53 2022 : #446 out of 441 repos\n",
            "- - - - - - - - - - - - - - - - - - - - - - - - - - - - - - - - - - - - - - - - - - - - - - - - - - \n",
            "Downloading repo: qishibo/AnotherRedisDesktopManager ...\n",
            "Wed Mar 16 04:24:00 2022 : #447 out of 441 repos\n",
            "- - - - - - - - - - - - - - - - - - - - - - - - - - - - - - - - - - - - - - - - - - - - - - - - - - \n",
            "Downloading repo: bailicangdu/vue2-elm ...\n",
            "Wed Mar 16 04:24:02 2022 : #448 out of 441 repos\n",
            "- - - - - - - - - - - - - - - - - - - - - - - - - - - - - - - - - - - - - - - - - - - - - - - - - - \n",
            "Downloading repo: akullpp/awesome-java ...\n",
            "Wed Mar 16 04:24:04 2022 : #449 out of 441 repos\n",
            "- - - - - - - - - - - - - - - - - - - - - - - - - - - - - - - - - - - - - - - - - - - - - - - - - - \n",
            "Downloading repo: puppeteer/puppeteer ...\n",
            "Wed Mar 16 04:24:09 2022 : #450 out of 441 repos\n",
            "- - - - - - - - - - - - - - - - - - - - - - - - - - - - - - - - - - - - - - - - - - - - - - - - - - \n",
            "Downloading repo: alibaba/arthas ...\n",
            "Wed Mar 16 04:24:17 2022 : #451 out of 441 repos\n",
            "- - - - - - - - - - - - - - - - - - - - - - - - - - - - - - - - - - - - - - - - - - - - - - - - - - \n",
            "Downloading repo: atlassian/react-beautiful-dnd ...\n",
            "Wed Mar 16 04:24:22 2022 : #452 out of 441 repos\n",
            "- - - - - - - - - - - - - - - - - - - - - - - - - - - - - - - - - - - - - - - - - - - - - - - - - - \n",
            "Downloading repo: plotly/dash ...\n",
            "Wed Mar 16 04:24:25 2022 : #453 out of 441 repos\n",
            "- - - - - - - - - - - - - - - - - - - - - - - - - - - - - - - - - - - - - - - - - - - - - - - - - - \n"
          ]
        }
      ]
    }
  ]
}