{
  "nbformat": 4,
  "nbformat_minor": 0,
  "metadata": {
    "colab": {
      "name": "Untitled9.ipynb",
      "provenance": [],
      "mount_file_id": "https://github.com/fzanart/GHDomains/blob/main/New1000popular_repos.ipynb",
      "authorship_tag": "ABX9TyNrlREmISvaphPwaPwZAcGR",
      "include_colab_link": true
    },
    "kernelspec": {
      "name": "python3",
      "display_name": "Python 3"
    },
    "language_info": {
      "name": "python"
    }
  },
  "cells": [
    {
      "cell_type": "markdown",
      "metadata": {
        "id": "view-in-github",
        "colab_type": "text"
      },
      "source": [
        "<a href=\"https://colab.research.google.com/github/fzanart/GHDomains/blob/main/New1000popular_repos.ipynb\" target=\"_parent\"><img src=\"https://colab.research.google.com/assets/colab-badge.svg\" alt=\"Open In Colab\"/></a>"
      ]
    },
    {
      "cell_type": "code",
      "source": [
        "%%capture\n",
        "!pip install PyGithub"
      ],
      "metadata": {
        "id": "8Zz_ECtxHlNI"
      },
      "execution_count": 24,
      "outputs": []
    },
    {
      "cell_type": "code",
      "execution_count": 25,
      "metadata": {
        "id": "xb7CYqg8cmUH",
        "colab": {
          "base_uri": "https://localhost:8080/"
        },
        "outputId": "ab52b12f-1c60-4a72-f1dc-4f5ebc3d85f3"
      },
      "outputs": [
        {
          "output_type": "stream",
          "name": "stdout",
          "text": [
            "Drive already mounted at /content/drive/; to attempt to forcibly remount, call drive.mount(\"/content/drive/\", force_remount=True).\n"
          ]
        }
      ],
      "source": [
        "import pandas as pd\n",
        "from google.colab import drive\n",
        "from github import Github, RateLimitExceededException\n",
        "from github.GithubException import UnknownObjectException\n",
        "from tqdm import tqdm\n",
        "from datetime import datetime\n",
        "import time\n",
        "import os\n",
        "import json\n",
        "import pickle\n",
        "from getpass import getpass\n",
        "drive.mount('/content/drive/')"
      ]
    },
    {
      "cell_type": "code",
      "source": [
        "new_1000 = pd.read_csv('/content/drive/MyDrive/GHDomains/2000Popular_repos.csv', index_col=0)\n",
        "new = new_1000['Name'].to_list()"
      ],
      "metadata": {
        "id": "OP9xMY_PBG4b"
      },
      "execution_count": 136,
      "outputs": []
    },
    {
      "cell_type": "code",
      "source": [
        "old_1000 = pd.read_csv('/content/drive/MyDrive/GHDomains/expanded_frame_final.csv', usecols=['Name'])\n",
        "old = old_1000['Name'].to_list()"
      ],
      "metadata": {
        "id": "Ny1IV_jvCf4q"
      },
      "execution_count": 137,
      "outputs": []
    },
    {
      "cell_type": "code",
      "source": [
        "repos_ids = list(set(new) - set(old))"
      ],
      "metadata": {
        "id": "T9AkGS26DiOi"
      },
      "execution_count": 138,
      "outputs": []
    },
    {
      "cell_type": "code",
      "source": [
        "len(repos_ids)"
      ],
      "metadata": {
        "colab": {
          "base_uri": "https://localhost:8080/"
        },
        "id": "NG38oElXDs62",
        "outputId": "b1459c47-47f8-44d1-d488-b8fcfb5c48ef"
      },
      "execution_count": 139,
      "outputs": [
        {
          "output_type": "execute_result",
          "data": {
            "text/plain": [
              "893"
            ]
          },
          "metadata": {},
          "execution_count": 139
        }
      ]
    },
    {
      "cell_type": "code",
      "source": [
        "with open('/content/drive/MyDrive/GHDomains/new_popular_list.pickle', 'wb') as fp:\n",
        "    pickle.dump(repos_ids, fp)"
      ],
      "metadata": {
        "id": "WXmQaPkFOcPG"
      },
      "execution_count": 30,
      "outputs": []
    },
    {
      "cell_type": "code",
      "source": [
        "token = getpass(prompt=\"Enter your Github token:\")\n",
        "g = Github(token, timeout=30, per_page=100)"
      ],
      "metadata": {
        "id": "JZfJjkWFHY2s",
        "colab": {
          "base_uri": "https://localhost:8080/"
        },
        "outputId": "1d5cd94e-218d-4a0d-dd8c-cc659396d2b8"
      },
      "execution_count": 31,
      "outputs": [
        {
          "name": "stdout",
          "output_type": "stream",
          "text": [
            "Enter your Github token:··········\n"
          ]
        }
      ]
    },
    {
      "cell_type": "code",
      "source": [
        "def catch(c):\n",
        "    try:\n",
        "        return c.author.login\n",
        "    except:\n",
        "        return c.commit.author.name\n",
        "\n",
        "\n",
        "def get_commits_data(token, repo_id):\n",
        "\n",
        "    repo = token.get_repo(repo_id)\n",
        "\n",
        "    repo_commits_author = []\n",
        "    repo_commits_message = []\n",
        "    try:\n",
        "        \n",
        "        commits = repo.get_commits()\n",
        "        repo_commits_author.extend([catch(commit) for commit in commits])\n",
        "        repo_commits_message.extend([commit.commit.message for commit in commits])\n",
        "        \n",
        "        if len(repo_commits_author) != 0 and len(repo_commits_author) !=0:\n",
        "            return {'Authors:': repo_commits_author, 'Messages:': repo_commits_message}\n",
        "        else:\n",
        "            return None\n",
        "    except:\n",
        "\t    return None\n",
        "\n",
        "def download_commits(token, repo_id):\n",
        "\n",
        "    return get_commits_data(token, repo_id)"
      ],
      "metadata": {
        "id": "merRAxm3Ig94"
      },
      "execution_count": 32,
      "outputs": []
    },
    {
      "cell_type": "code",
      "source": [
        "excluded_repos = ['chromium/chromium','aosp-mirror/platform_frameworks_base','llvm/llvm-project','Homebrew/homebrew-core']"
      ],
      "metadata": {
        "id": "-u9kSHTVQtRs"
      },
      "execution_count": 140,
      "outputs": []
    },
    {
      "cell_type": "code",
      "source": [
        "output_directory_path    = '/content/drive/MyDrive/GHDomains/Downloaded_repos'\n",
        "repos_already_downloaded = [file_name.replace('.json', '').replace(':','/') for file_name in os.listdir(output_directory_path) if file_name.endswith('.json') and not file_name.startswith('all_repos')]\n",
        "repos_to_download        = [repo_name for repo_name in repos_ids if repo_name not in repos_already_downloaded]\n",
        "repos_to_download        = [repo_name for repo_name in repos_to_download if repo_name not in excluded_repos]"
      ],
      "metadata": {
        "id": "Y82v6fv1JJP5"
      },
      "execution_count": 161,
      "outputs": []
    },
    {
      "cell_type": "code",
      "source": [
        "len(repos_to_download)"
      ],
      "metadata": {
        "id": "1NpZqGqu9Xyj",
        "colab": {
          "base_uri": "https://localhost:8080/"
        },
        "outputId": "e29ef735-4bfe-4f91-9690-a1b0efcf1ffe"
      },
      "execution_count": 142,
      "outputs": [
        {
          "output_type": "execute_result",
          "data": {
            "text/plain": [
              "0"
            ]
          },
          "metadata": {},
          "execution_count": 142
        }
      ]
    },
    {
      "cell_type": "code",
      "source": [
        "for i, repo_id in enumerate(repos_to_download):\n",
        "  try:\n",
        "    print('Downloading repo: ' + repo_id + ' ...')\n",
        "    print(str(time.asctime(time.localtime(time.time()))) + ' ' + ': #' + str(i+1+len(repos_already_downloaded)) + ' out of ' + str(len(repos_ids)) + ' repos')\n",
        "\n",
        "    commits = download_commits(g, repo_id)\n",
        "    repo_id = repo_id.replace('/', ':')\n",
        "    json.dump(commits, open(output_directory_path + '/' + repo_id + '.json', 'w'))\n",
        "\n",
        "    print('- '*50)\n",
        "  except RateLimitExceededException:\n",
        "    print('sleeping...')\n",
        "    time.sleep((g.get_rate_limit().core.reset - datetime.today()).seconds + 5)\n",
        "    print('continue...')\n",
        "  except UnknownObjectException:\n",
        "    print(repo_id + ' not found')\n",
        "    continue"
      ],
      "metadata": {
        "colab": {
          "base_uri": "https://localhost:8080/"
        },
        "id": "glp-C1HoJ1Qn",
        "outputId": "4f5869ea-0230-4fef-975e-545180cd14f3"
      },
      "execution_count": 134,
      "outputs": [
        {
          "output_type": "stream",
          "name": "stdout",
          "text": [
            "Downloading repo: dotnet/AspNetCore.Docs ...\n",
            "Mon Mar 21 07:25:29 2022 : #881 out of 893 repos\n",
            "- - - - - - - - - - - - - - - - - - - - - - - - - - - - - - - - - - - - - - - - - - - - - - - - - - \n",
            "Downloading repo: jmcunningham/AngularJS-Learning ...\n",
            "Mon Mar 21 07:26:21 2022 : #882 out of 893 repos\n",
            "- - - - - - - - - - - - - - - - - - - - - - - - - - - - - - - - - - - - - - - - - - - - - - - - - - \n",
            "Downloading repo: mozilla/send ...\n",
            "Mon Mar 21 07:26:23 2022 : #883 out of 893 repos\n",
            "- - - - - - - - - - - - - - - - - - - - - - - - - - - - - - - - - - - - - - - - - - - - - - - - - - \n",
            "Downloading repo: sharkdp/hyperfine ...\n",
            "Mon Mar 21 07:26:35 2022 : #884 out of 893 repos\n",
            "- - - - - - - - - - - - - - - - - - - - - - - - - - - - - - - - - - - - - - - - - - - - - - - - - - \n",
            "Downloading repo: golang/protobuf ...\n",
            "Mon Mar 21 07:26:37 2022 : #885 out of 893 repos\n",
            "- - - - - - - - - - - - - - - - - - - - - - - - - - - - - - - - - - - - - - - - - - - - - - - - - - \n",
            "Downloading repo: moment/luxon ...\n",
            "Mon Mar 21 07:26:40 2022 : #886 out of 893 repos\n",
            "- - - - - - - - - - - - - - - - - - - - - - - - - - - - - - - - - - - - - - - - - - - - - - - - - - \n",
            "Downloading repo: didi/cube-ui ...\n",
            "Mon Mar 21 07:26:43 2022 : #887 out of 893 repos\n",
            "- - - - - - - - - - - - - - - - - - - - - - - - - - - - - - - - - - - - - - - - - - - - - - - - - - \n",
            "Downloading repo: cdnjs/cdnjs ...\n",
            "Mon Mar 21 07:26:50 2022 : #888 out of 893 repos\n",
            "- - - - - - - - - - - - - - - - - - - - - - - - - - - - - - - - - - - - - - - - - - - - - - - - - - \n",
            "Downloading repo: Foundry376/Mailspring ...\n",
            "Mon Mar 21 07:33:19 2022 : #889 out of 893 repos\n",
            "- - - - - - - - - - - - - - - - - - - - - - - - - - - - - - - - - - - - - - - - - - - - - - - - - - \n",
            "Downloading repo: ElemeFE/node-interview ...\n",
            "Mon Mar 21 07:33:36 2022 : #890 out of 893 repos\n",
            "- - - - - - - - - - - - - - - - - - - - - - - - - - - - - - - - - - - - - - - - - - - - - - - - - - \n"
          ]
        }
      ]
    },
    {
      "cell_type": "code",
      "source": [
        "len(repos_already_downloaded)"
      ],
      "metadata": {
        "id": "Gm8rliK8ZmNB",
        "outputId": "a1cbe2e4-531e-4f15-d63d-55eeed7284a3",
        "colab": {
          "base_uri": "https://localhost:8080/"
        }
      },
      "execution_count": 164,
      "outputs": [
        {
          "output_type": "execute_result",
          "data": {
            "text/plain": [
              "889"
            ]
          },
          "metadata": {},
          "execution_count": 164
        }
      ]
    },
    {
      "cell_type": "code",
      "source": [
        "list(set(repos_ids) - set(repos_already_downloaded))"
      ],
      "metadata": {
        "id": "rESkZX59aF2V",
        "outputId": "2cffbb08-bfe0-4891-f359-9a904331bc40",
        "colab": {
          "base_uri": "https://localhost:8080/"
        }
      },
      "execution_count": 166,
      "outputs": [
        {
          "output_type": "execute_result",
          "data": {
            "text/plain": [
              "['chromium/chromium',\n",
              " 'llvm/llvm-project',\n",
              " 'aosp-mirror/platform_frameworks_base',\n",
              " 'Homebrew/homebrew-core']"
            ]
          },
          "metadata": {},
          "execution_count": 166
        }
      ]
    }
  ]
}