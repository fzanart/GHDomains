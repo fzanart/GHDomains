{
  "nbformat": 4,
  "nbformat_minor": 0,
  "metadata": {
    "colab": {
      "name": "Untitled9.ipynb",
      "provenance": [],
      "mount_file_id": "https://github.com/fzanart/GHDomains/blob/main/New1000popular_repos.ipynb",
      "authorship_tag": "ABX9TyN0hm1KZYnTQZaEbZpw8mDn",
      "include_colab_link": true
    },
    "kernelspec": {
      "name": "python3",
      "display_name": "Python 3"
    },
    "language_info": {
      "name": "python"
    }
  },
  "cells": [
    {
      "cell_type": "markdown",
      "metadata": {
        "id": "view-in-github",
        "colab_type": "text"
      },
      "source": [
        "<a href=\"https://colab.research.google.com/github/fzanart/GHDomains/blob/main/New1000popular_repos.ipynb\" target=\"_parent\"><img src=\"https://colab.research.google.com/assets/colab-badge.svg\" alt=\"Open In Colab\"/></a>"
      ]
    },
    {
      "cell_type": "code",
      "source": [
        "!pip install PyGithub"
      ],
      "metadata": {
        "id": "8Zz_ECtxHlNI",
        "outputId": "8a099528-1219-4483-a11b-0d48a55ba963",
        "colab": {
          "base_uri": "https://localhost:8080/"
        }
      },
      "execution_count": 21,
      "outputs": [
        {
          "output_type": "stream",
          "name": "stdout",
          "text": [
            "Collecting PyGithub\n",
            "  Downloading PyGithub-1.55-py3-none-any.whl (291 kB)\n",
            "\u001b[?25l\r\u001b[K     |█▏                              | 10 kB 20.2 MB/s eta 0:00:01\r\u001b[K     |██▎                             | 20 kB 12.9 MB/s eta 0:00:01\r\u001b[K     |███▍                            | 30 kB 10.1 MB/s eta 0:00:01\r\u001b[K     |████▌                           | 40 kB 8.8 MB/s eta 0:00:01\r\u001b[K     |█████▋                          | 51 kB 4.6 MB/s eta 0:00:01\r\u001b[K     |██████▊                         | 61 kB 5.4 MB/s eta 0:00:01\r\u001b[K     |███████▉                        | 71 kB 5.6 MB/s eta 0:00:01\r\u001b[K     |█████████                       | 81 kB 5.6 MB/s eta 0:00:01\r\u001b[K     |██████████                      | 92 kB 6.2 MB/s eta 0:00:01\r\u001b[K     |███████████▎                    | 102 kB 5.4 MB/s eta 0:00:01\r\u001b[K     |████████████▍                   | 112 kB 5.4 MB/s eta 0:00:01\r\u001b[K     |█████████████▌                  | 122 kB 5.4 MB/s eta 0:00:01\r\u001b[K     |██████████████▋                 | 133 kB 5.4 MB/s eta 0:00:01\r\u001b[K     |███████████████▊                | 143 kB 5.4 MB/s eta 0:00:01\r\u001b[K     |████████████████▉               | 153 kB 5.4 MB/s eta 0:00:01\r\u001b[K     |██████████████████              | 163 kB 5.4 MB/s eta 0:00:01\r\u001b[K     |███████████████████             | 174 kB 5.4 MB/s eta 0:00:01\r\u001b[K     |████████████████████▏           | 184 kB 5.4 MB/s eta 0:00:01\r\u001b[K     |█████████████████████▍          | 194 kB 5.4 MB/s eta 0:00:01\r\u001b[K     |██████████████████████▌         | 204 kB 5.4 MB/s eta 0:00:01\r\u001b[K     |███████████████████████▋        | 215 kB 5.4 MB/s eta 0:00:01\r\u001b[K     |████████████████████████▊       | 225 kB 5.4 MB/s eta 0:00:01\r\u001b[K     |█████████████████████████▉      | 235 kB 5.4 MB/s eta 0:00:01\r\u001b[K     |███████████████████████████     | 245 kB 5.4 MB/s eta 0:00:01\r\u001b[K     |████████████████████████████    | 256 kB 5.4 MB/s eta 0:00:01\r\u001b[K     |█████████████████████████████▏  | 266 kB 5.4 MB/s eta 0:00:01\r\u001b[K     |██████████████████████████████▎ | 276 kB 5.4 MB/s eta 0:00:01\r\u001b[K     |███████████████████████████████▌| 286 kB 5.4 MB/s eta 0:00:01\r\u001b[K     |████████████████████████████████| 291 kB 5.4 MB/s \n",
            "\u001b[?25hRequirement already satisfied: requests>=2.14.0 in /usr/local/lib/python3.7/dist-packages (from PyGithub) (2.23.0)\n",
            "Collecting pynacl>=1.4.0\n",
            "  Downloading PyNaCl-1.5.0-cp36-abi3-manylinux_2_17_x86_64.manylinux2014_x86_64.manylinux_2_24_x86_64.whl (856 kB)\n",
            "\u001b[K     |████████████████████████████████| 856 kB 44.1 MB/s \n",
            "\u001b[?25hCollecting pyjwt>=2.0\n",
            "  Downloading PyJWT-2.3.0-py3-none-any.whl (16 kB)\n",
            "Collecting deprecated\n",
            "  Downloading Deprecated-1.2.13-py2.py3-none-any.whl (9.6 kB)\n",
            "Requirement already satisfied: cffi>=1.4.1 in /usr/local/lib/python3.7/dist-packages (from pynacl>=1.4.0->PyGithub) (1.15.0)\n",
            "Requirement already satisfied: pycparser in /usr/local/lib/python3.7/dist-packages (from cffi>=1.4.1->pynacl>=1.4.0->PyGithub) (2.21)\n",
            "Requirement already satisfied: chardet<4,>=3.0.2 in /usr/local/lib/python3.7/dist-packages (from requests>=2.14.0->PyGithub) (3.0.4)\n",
            "Requirement already satisfied: urllib3!=1.25.0,!=1.25.1,<1.26,>=1.21.1 in /usr/local/lib/python3.7/dist-packages (from requests>=2.14.0->PyGithub) (1.24.3)\n",
            "Requirement already satisfied: idna<3,>=2.5 in /usr/local/lib/python3.7/dist-packages (from requests>=2.14.0->PyGithub) (2.10)\n",
            "Requirement already satisfied: certifi>=2017.4.17 in /usr/local/lib/python3.7/dist-packages (from requests>=2.14.0->PyGithub) (2021.10.8)\n",
            "Requirement already satisfied: wrapt<2,>=1.10 in /usr/local/lib/python3.7/dist-packages (from deprecated->PyGithub) (1.13.3)\n",
            "Installing collected packages: pynacl, pyjwt, deprecated, PyGithub\n",
            "Successfully installed PyGithub-1.55 deprecated-1.2.13 pyjwt-2.3.0 pynacl-1.5.0\n"
          ]
        }
      ]
    },
    {
      "cell_type": "code",
      "execution_count": 22,
      "metadata": {
        "id": "xb7CYqg8cmUH",
        "outputId": "5ad9884b-dc05-4d25-9922-69c0a9423071",
        "colab": {
          "base_uri": "https://localhost:8080/"
        }
      },
      "outputs": [
        {
          "output_type": "stream",
          "name": "stdout",
          "text": [
            "Drive already mounted at /content/drive/; to attempt to forcibly remount, call drive.mount(\"/content/drive/\", force_remount=True).\n"
          ]
        }
      ],
      "source": [
        "import pandas as pd\n",
        "from google.colab import drive\n",
        "from github import Github, RateLimitExceededException\n",
        "from github.GithubException import UnknownObjectException\n",
        "from tqdm import tqdm\n",
        "import time\n",
        "import os\n",
        "import json\n",
        "drive.mount('/content/drive/')"
      ]
    },
    {
      "cell_type": "code",
      "source": [
        "new_1000 = pd.read_excel('/content/drive/MyDrive/GHDomains/1000Popular_repos.xlsx', index_col=0)\n",
        "new = new_1000['Name'].to_list()"
      ],
      "metadata": {
        "id": "OP9xMY_PBG4b"
      },
      "execution_count": 23,
      "outputs": []
    },
    {
      "cell_type": "code",
      "source": [
        "old_1000 = pd.read_csv('/content/drive/MyDrive/GHDomains/expanded_frame_final.csv', usecols=['Name'])\n",
        "old = old_1000['Name'].to_list()"
      ],
      "metadata": {
        "id": "Ny1IV_jvCf4q"
      },
      "execution_count": 24,
      "outputs": []
    },
    {
      "cell_type": "code",
      "source": [
        "repos_ids = list(set(new) - set(old))"
      ],
      "metadata": {
        "id": "T9AkGS26DiOi"
      },
      "execution_count": 25,
      "outputs": []
    },
    {
      "cell_type": "code",
      "source": [
        "len(repos_ids)"
      ],
      "metadata": {
        "id": "NG38oElXDs62",
        "outputId": "f83ad9c7-1254-40ff-ed43-7d20b59b220b",
        "colab": {
          "base_uri": "https://localhost:8080/"
        }
      },
      "execution_count": 26,
      "outputs": [
        {
          "output_type": "execute_result",
          "data": {
            "text/plain": [
              "441"
            ]
          },
          "metadata": {},
          "execution_count": 26
        }
      ]
    },
    {
      "cell_type": "code",
      "source": [
        "repos_ids[0]"
      ],
      "metadata": {
        "id": "kGk9t1n7Ms42",
        "outputId": "e6744648-5dd6-4822-d2ca-959f823bc3bd",
        "colab": {
          "base_uri": "https://localhost:8080/",
          "height": 37
        }
      },
      "execution_count": 27,
      "outputs": [
        {
          "output_type": "execute_result",
          "data": {
            "text/plain": [
              "'limetext/lime'"
            ],
            "application/vnd.google.colaboratory.intrinsic+json": {
              "type": "string"
            }
          },
          "metadata": {},
          "execution_count": 27
        }
      ]
    },
    {
      "cell_type": "code",
      "source": [
        "token = input(\"Enter your Github token:\")\n",
        "g = Github(token, timeout=30, per_page=100)"
      ],
      "metadata": {
        "id": "JZfJjkWFHY2s"
      },
      "execution_count": null,
      "outputs": []
    },
    {
      "cell_type": "code",
      "source": [
        "def catch(c):\n",
        "    try:\n",
        "        return c.author.login\n",
        "    except:\n",
        "        return c.commit.author.name\n",
        "\n",
        "\n",
        "def get_commits_data(token, repo_id):\n",
        "\n",
        "    repo = token.get_repo(repo_id)\n",
        "\n",
        "    repo_commits_author = []\n",
        "    repo_commits_message = []\n",
        "    try:\n",
        "        \n",
        "        commits = repo.get_commits()\n",
        "        repo_commits_author.extend([catch(commit) for commit in commits])\n",
        "        repo_commits_message.extend([commit.commit.message for commit in commits])\n",
        "        \n",
        "        if len(repo_commits_author) != 0 and len(repo_commits_author) !=0:\n",
        "            return {'Authors:': repo_commits_author, 'Messages:': repo_commits_message}\n",
        "        else:\n",
        "            return None\n",
        "    except:\n",
        "\t    return None\n",
        "\n",
        "def download_commits(token, repo_id):\n",
        "\n",
        "    repo_id = repo_id.replace(':', '/')\n",
        "\n",
        "    return get_commits_data(token, repo_id)"
      ],
      "metadata": {
        "id": "merRAxm3Ig94"
      },
      "execution_count": 70,
      "outputs": []
    },
    {
      "cell_type": "code",
      "source": [
        "repos_ids = [repo.replace('/', ':') for repo in repos_ids]\n",
        "\n",
        "output_directory_path    = '/content/drive/MyDrive/GHDomains/Downloaded_repos'\n",
        "repos_already_downloaded = [file_name.replace('.json', '') for file_name in os.listdir(output_directory_path) if file_name.endswith('.json') and not file_name.startswith('all_repos')]\n",
        "repos_to_download        = [repo_name for repo_name in repos_ids[0:3] if repo_name not in repos_already_downloaded]"
      ],
      "metadata": {
        "id": "Y82v6fv1JJP5"
      },
      "execution_count": 46,
      "outputs": []
    },
    {
      "cell_type": "code",
      "source": [
        "repos_to_download = 'fzanart:GHDomains'"
      ],
      "metadata": {
        "id": "5oirmtmcNCPl"
      },
      "execution_count": 48,
      "outputs": []
    },
    {
      "cell_type": "code",
      "source": [
        "for i, repo_id in enumerate(repos_to_download):\n",
        "  try:\n",
        "    print('Downloading repo' + repo_id + 'commits and authors...')\n",
        "    print(str(time.asctime(time.localtime(time.time()))) + ' ' + ': #' + str(i+1+len(repos_already_downloaded)) + ' out of ' + str(len(repos_ids)) + ' repos')\n",
        "\n",
        "    commits = download_commits(g, repo_id)\n",
        "    json.dump(commits, open(output_directory_path + '/' + repo_id + '.json', 'w'))\n",
        "\n",
        "    print('- '*50)\n",
        "  except UnknownObjectException:\n",
        "    continue"
      ],
      "metadata": {
        "id": "glp-C1HoJ1Qn",
        "outputId": "eb5b95f9-074c-4b91-bbae-7a313d5b850c",
        "colab": {
          "base_uri": "https://localhost:8080/"
        }
      },
      "execution_count": 49,
      "outputs": [
        {
          "output_type": "stream",
          "name": "stdout",
          "text": [
            "Downloading repofcommits and authors...\n",
            "Tue Mar 15 01:38:49 2022 : #2 out of 441 repos\n",
            "Downloading repozcommits and authors...\n",
            "Tue Mar 15 01:38:49 2022 : #3 out of 441 repos\n",
            "Downloading repoacommits and authors...\n",
            "Tue Mar 15 01:38:49 2022 : #4 out of 441 repos\n",
            "Downloading reponcommits and authors...\n",
            "Tue Mar 15 01:38:49 2022 : #5 out of 441 repos\n",
            "Downloading repoacommits and authors...\n",
            "Tue Mar 15 01:38:49 2022 : #6 out of 441 repos\n",
            "Downloading reporcommits and authors...\n",
            "Tue Mar 15 01:38:49 2022 : #7 out of 441 repos\n",
            "Downloading repotcommits and authors...\n",
            "Tue Mar 15 01:38:49 2022 : #8 out of 441 repos\n",
            "Downloading repo:commits and authors...\n",
            "Tue Mar 15 01:38:50 2022 : #9 out of 441 repos\n",
            "Downloading repoGcommits and authors...\n",
            "Tue Mar 15 01:38:50 2022 : #10 out of 441 repos\n",
            "Downloading repoHcommits and authors...\n",
            "Tue Mar 15 01:38:50 2022 : #11 out of 441 repos\n",
            "Downloading repoDcommits and authors...\n",
            "Tue Mar 15 01:38:50 2022 : #12 out of 441 repos\n",
            "Downloading repoocommits and authors...\n",
            "Tue Mar 15 01:38:50 2022 : #13 out of 441 repos\n",
            "Downloading repomcommits and authors...\n",
            "Tue Mar 15 01:38:50 2022 : #14 out of 441 repos\n",
            "Downloading repoacommits and authors...\n",
            "Tue Mar 15 01:38:50 2022 : #15 out of 441 repos\n",
            "Downloading repoicommits and authors...\n",
            "Tue Mar 15 01:38:50 2022 : #16 out of 441 repos\n",
            "Downloading reponcommits and authors...\n",
            "Tue Mar 15 01:38:50 2022 : #17 out of 441 repos\n",
            "Downloading reposcommits and authors...\n",
            "Tue Mar 15 01:38:50 2022 : #18 out of 441 repos\n"
          ]
        }
      ]
    },
    {
      "cell_type": "code",
      "source": [
        "commits = download_commits(g, 'fzanart/GHDomains')"
      ],
      "metadata": {
        "id": "GBPHn8V2PBWZ"
      },
      "execution_count": 71,
      "outputs": []
    },
    {
      "cell_type": "code",
      "source": [
        "commits"
      ],
      "metadata": {
        "id": "bQ4Ei-nCPZ6P",
        "outputId": "3bf6fe4b-0ee2-46b1-d760-ed9a4bf41a4d",
        "colab": {
          "base_uri": "https://localhost:8080/"
        }
      },
      "execution_count": 72,
      "outputs": [
        {
          "output_type": "execute_result",
          "data": {
            "text/plain": [
              "{'Authors:': ['fzanart',\n",
              "  'fzanart',\n",
              "  'fzanart',\n",
              "  'fzanart',\n",
              "  'fzanart',\n",
              "  'fzanart',\n",
              "  'fzanart',\n",
              "  'fzanart',\n",
              "  'fzanart',\n",
              "  'fzanart',\n",
              "  'fzanart',\n",
              "  'fzanart',\n",
              "  'fzanart',\n",
              "  'fzanart',\n",
              "  'fzanart',\n",
              "  'fzanart',\n",
              "  'fzanart',\n",
              "  'fzanart',\n",
              "  'fzanart',\n",
              "  'fzanart',\n",
              "  'fzanart',\n",
              "  'fzanart'],\n",
              " 'Messages:': [\"Results including less popular test\\n\\n- Run FlaML for 10,000's to only fine tune LGBM algorithm with 10-fold cross-validation.\\n- Change validation metric from macro_f1 to roc_auc_ovr (One vs rest)\\n- Compute results -> 0.73 overall accuracy. (Clases merged)\\n- Save model and log.\",\n",
              "  'Draft less popular test\\n\\n- Fix categorical variables\\n- Add less popular dataset, transformation and metrics\\n- Pending to run longer',\n",
              "  \"Results for LGBM + Imbalance Learn\\n\\n-  Delete repos that are no longer maintained, its documentations has been mainly erased.\\n- Add Imbalance learn algorithm to balance the dataset.\\n- Run FlaML for 3,000's to only fine tune LGBM algorithm with 10-fold cross-validation and macro_f1 validation metric. WARNING: Consider increasing time, not all hyper parameter search converged.\\n- Compute results -> 0.73 overall accuracy. (Without merging clases).\",\n",
              "  'Download new 1,000 popular GitHub repositories names\\n\\n- Webscrape gitstar-ranking.com to download the current 1,000 most popular repos at the moment. 11/March/2022',\n",
              "  \"Results for LGBM Text data + categorical data + Num Data\\n\\n- Add num data: Stars, Forks, Releases\\n- Run FlaML for 3,000's to only fine tune LGBM algorithm with 10-fold cross-validation and macro_f1 validation metric. \\n- Compute results -> 0.72 overall accuracy.\",\n",
              "  'Bert_classification_model.ipynb \\n\\nThis file was an exploratory work, no longer needed.',\n",
              "  'Delete FastAI_DistilBERT.ipynb\\n\\nThis file was an exploratory work, no longer needed.',\n",
              "  'Delete  Sentence_transformers_RAMefficient.ipynb\\n\\nThis file was saved as a precaution, no longer needed.',\n",
              "  \"Results for LGBM Text data + categorical data \\n\\n- Run FlaML to only fine tune LGBM algorithm with 10-fold cross-validation and macro_f1 validation metric.\\n- Run for 2,000's. WARNING: Consider increasing time, not all hyper parameter search converged.\\n- Compute results -> 0.70 overall accuracy.\",\n",
              "  \"Results for Text data + categorical data\\n\\n- Text data: Description + README + Labels\\n- Categorical data: Contributors, Programming languages, Topics, Content headers, Licence tag.\\n- Add memory friendly method (Due to Google Colab RAM memory constrains) to expand categorical features and reduce dimensionality.\\n- Add tokeniser that splits words as they were obtained, not using the default tokenise from sk-learn.\\n- Run FlaML algorithm with 10-fold cross-validation and macro_f1 validation metric.\\n- After 1,000's lgbm was the best classifier. WARNING: Consider increasing time, not all hyper parameter search converged.\\n- Compute results -> 0.69 overall accuracy.\",\n",
              "  'temporary file testing RAM efficiency version, Google Colab has 12GB',\n",
              "  \"Results for Description + Topics + README + Labels\\n\\n- Concatenate Description + Topics + README + Labels to get the transformers vectors.\\n- After 1,000's lgbm was the best classifier.\\n- Compute results -> 0.67 overall accuracy.\\n- Comparing to previous result Description + README + Labels:\\n - Adding Topics benefits f1-scores for:\\n   - Application software (0.39 -> 0.45), \\n   - Documentation (0.44 -> 0.57), \\n   - Software tools (0.63 -> 0.66).\\n - But decrease for:\\n  - Non-web libraries and frameworks (0.72 -> 0.71),\\n  - System software (0.41 -> 0.34),\\n  - Web libraries and frameworks (0.80 -> 0.76)\\n\\nBecause Web/Non-web libraries are the greater classes, accuracy remains the same despite the improvement in the others.\",\n",
              "  \"Results for Description + Topics + Labels\\n\\n- Add Topics to the dataset.\\n- Show distribution and missing values for topics.\\n- Add method to deal with nan values.\\n- Concatenate Description + Topics + Labels to get the transformers vectors.\\n- After 1,000's lgbm was the best classifier.\\n- Compute results -> 0.61 overall accuracy.\",\n",
              "  \"Results for Description + README + Labels\\n- Add formula to clean and join Labels data.\\n- Add a column to sum Description + README + Labels and get the transformers vectors.\\n- Run FlaML algorithm with 10-fold cross-validation and macro_f1 validation metric.\\n- After 1,000's lgbm was the best classifier.\\n- Compute results -> 0.67 overall accuracy.\",\n",
              "  \"Results for README files\\n\\n- Add formula to clean HTML tags.\\n- Add formula to clean repeated white spaces.\\n- Run FlaML algorithm with 10-fold cross-validation and macro_f1 validation metric.\\n- After 1,000's lgbm was the best classifier.\\n- Compute results -> 0.65 overall accuracy.\",\n",
              "  'Run FlaML with Sentence transformers word vectors\\n\\n- Read the dataset.\\n- Select only description and domain (labels) columns .\\n- Get the transformers embeddings.\\n- Split train/test data stratified respect to labels.\\n- Run FlaML algorithm with 10-fold cross-validation and macro_f1 validation metric.\\n- Compute results -> 0.61 overall accuracy.',\n",
              "  'Created using Colaboratory',\n",
              "  'Created using Colaboratory',\n",
              "  'Created using Colaboratory',\n",
              "  'Created using Colaboratory',\n",
              "  'Created using Colaboratory',\n",
              "  'Dataset for GHDomains project\\n\\nThis dataset contains several features for each repository, such as README, description, labels, programming languages, etc..']}"
            ]
          },
          "metadata": {},
          "execution_count": 72
        }
      ]
    },
    {
      "cell_type": "code",
      "source": [
        "pd.DataFrame(commits)"
      ],
      "metadata": {
        "id": "TLYlxfl3QDvG",
        "outputId": "442706e8-cdea-4894-9fd7-ba682d157e69",
        "colab": {
          "base_uri": "https://localhost:8080/",
          "height": 731
        }
      },
      "execution_count": 73,
      "outputs": [
        {
          "output_type": "execute_result",
          "data": {
            "text/plain": [
              "   Authors:                                          Messages:\n",
              "0   fzanart  Results including less popular test\\n\\n- Run F...\n",
              "1   fzanart  Draft less popular test\\n\\n- Fix categorical v...\n",
              "2   fzanart  Results for LGBM + Imbalance Learn\\n\\n-  Delet...\n",
              "3   fzanart  Download new 1,000 popular GitHub repositories...\n",
              "4   fzanart  Results for LGBM Text data + categorical data ...\n",
              "5   fzanart  Bert_classification_model.ipynb \\n\\nThis file ...\n",
              "6   fzanart  Delete FastAI_DistilBERT.ipynb\\n\\nThis file wa...\n",
              "7   fzanart  Delete  Sentence_transformers_RAMefficient.ipy...\n",
              "8   fzanart  Results for LGBM Text data + categorical data ...\n",
              "9   fzanart  Results for Text data + categorical data\\n\\n- ...\n",
              "10  fzanart  temporary file testing RAM efficiency version,...\n",
              "11  fzanart  Results for Description + Topics + README + La...\n",
              "12  fzanart  Results for Description + Topics + Labels\\n\\n-...\n",
              "13  fzanart  Results for Description + README + Labels\\n- A...\n",
              "14  fzanart  Results for README files\\n\\n- Add formula to c...\n",
              "15  fzanart  Run FlaML with Sentence transformers word vect...\n",
              "16  fzanart                         Created using Colaboratory\n",
              "17  fzanart                         Created using Colaboratory\n",
              "18  fzanart                         Created using Colaboratory\n",
              "19  fzanart                         Created using Colaboratory\n",
              "20  fzanart                         Created using Colaboratory\n",
              "21  fzanart  Dataset for GHDomains project\\n\\nThis dataset ..."
            ],
            "text/html": [
              "\n",
              "  <div id=\"df-2ee0db5b-126f-4282-81dd-4e6202f69aa5\">\n",
              "    <div class=\"colab-df-container\">\n",
              "      <div>\n",
              "<style scoped>\n",
              "    .dataframe tbody tr th:only-of-type {\n",
              "        vertical-align: middle;\n",
              "    }\n",
              "\n",
              "    .dataframe tbody tr th {\n",
              "        vertical-align: top;\n",
              "    }\n",
              "\n",
              "    .dataframe thead th {\n",
              "        text-align: right;\n",
              "    }\n",
              "</style>\n",
              "<table border=\"1\" class=\"dataframe\">\n",
              "  <thead>\n",
              "    <tr style=\"text-align: right;\">\n",
              "      <th></th>\n",
              "      <th>Authors:</th>\n",
              "      <th>Messages:</th>\n",
              "    </tr>\n",
              "  </thead>\n",
              "  <tbody>\n",
              "    <tr>\n",
              "      <th>0</th>\n",
              "      <td>fzanart</td>\n",
              "      <td>Results including less popular test\\n\\n- Run F...</td>\n",
              "    </tr>\n",
              "    <tr>\n",
              "      <th>1</th>\n",
              "      <td>fzanart</td>\n",
              "      <td>Draft less popular test\\n\\n- Fix categorical v...</td>\n",
              "    </tr>\n",
              "    <tr>\n",
              "      <th>2</th>\n",
              "      <td>fzanart</td>\n",
              "      <td>Results for LGBM + Imbalance Learn\\n\\n-  Delet...</td>\n",
              "    </tr>\n",
              "    <tr>\n",
              "      <th>3</th>\n",
              "      <td>fzanart</td>\n",
              "      <td>Download new 1,000 popular GitHub repositories...</td>\n",
              "    </tr>\n",
              "    <tr>\n",
              "      <th>4</th>\n",
              "      <td>fzanart</td>\n",
              "      <td>Results for LGBM Text data + categorical data ...</td>\n",
              "    </tr>\n",
              "    <tr>\n",
              "      <th>5</th>\n",
              "      <td>fzanart</td>\n",
              "      <td>Bert_classification_model.ipynb \\n\\nThis file ...</td>\n",
              "    </tr>\n",
              "    <tr>\n",
              "      <th>6</th>\n",
              "      <td>fzanart</td>\n",
              "      <td>Delete FastAI_DistilBERT.ipynb\\n\\nThis file wa...</td>\n",
              "    </tr>\n",
              "    <tr>\n",
              "      <th>7</th>\n",
              "      <td>fzanart</td>\n",
              "      <td>Delete  Sentence_transformers_RAMefficient.ipy...</td>\n",
              "    </tr>\n",
              "    <tr>\n",
              "      <th>8</th>\n",
              "      <td>fzanart</td>\n",
              "      <td>Results for LGBM Text data + categorical data ...</td>\n",
              "    </tr>\n",
              "    <tr>\n",
              "      <th>9</th>\n",
              "      <td>fzanart</td>\n",
              "      <td>Results for Text data + categorical data\\n\\n- ...</td>\n",
              "    </tr>\n",
              "    <tr>\n",
              "      <th>10</th>\n",
              "      <td>fzanart</td>\n",
              "      <td>temporary file testing RAM efficiency version,...</td>\n",
              "    </tr>\n",
              "    <tr>\n",
              "      <th>11</th>\n",
              "      <td>fzanart</td>\n",
              "      <td>Results for Description + Topics + README + La...</td>\n",
              "    </tr>\n",
              "    <tr>\n",
              "      <th>12</th>\n",
              "      <td>fzanart</td>\n",
              "      <td>Results for Description + Topics + Labels\\n\\n-...</td>\n",
              "    </tr>\n",
              "    <tr>\n",
              "      <th>13</th>\n",
              "      <td>fzanart</td>\n",
              "      <td>Results for Description + README + Labels\\n- A...</td>\n",
              "    </tr>\n",
              "    <tr>\n",
              "      <th>14</th>\n",
              "      <td>fzanart</td>\n",
              "      <td>Results for README files\\n\\n- Add formula to c...</td>\n",
              "    </tr>\n",
              "    <tr>\n",
              "      <th>15</th>\n",
              "      <td>fzanart</td>\n",
              "      <td>Run FlaML with Sentence transformers word vect...</td>\n",
              "    </tr>\n",
              "    <tr>\n",
              "      <th>16</th>\n",
              "      <td>fzanart</td>\n",
              "      <td>Created using Colaboratory</td>\n",
              "    </tr>\n",
              "    <tr>\n",
              "      <th>17</th>\n",
              "      <td>fzanart</td>\n",
              "      <td>Created using Colaboratory</td>\n",
              "    </tr>\n",
              "    <tr>\n",
              "      <th>18</th>\n",
              "      <td>fzanart</td>\n",
              "      <td>Created using Colaboratory</td>\n",
              "    </tr>\n",
              "    <tr>\n",
              "      <th>19</th>\n",
              "      <td>fzanart</td>\n",
              "      <td>Created using Colaboratory</td>\n",
              "    </tr>\n",
              "    <tr>\n",
              "      <th>20</th>\n",
              "      <td>fzanart</td>\n",
              "      <td>Created using Colaboratory</td>\n",
              "    </tr>\n",
              "    <tr>\n",
              "      <th>21</th>\n",
              "      <td>fzanart</td>\n",
              "      <td>Dataset for GHDomains project\\n\\nThis dataset ...</td>\n",
              "    </tr>\n",
              "  </tbody>\n",
              "</table>\n",
              "</div>\n",
              "      <button class=\"colab-df-convert\" onclick=\"convertToInteractive('df-2ee0db5b-126f-4282-81dd-4e6202f69aa5')\"\n",
              "              title=\"Convert this dataframe to an interactive table.\"\n",
              "              style=\"display:none;\">\n",
              "        \n",
              "  <svg xmlns=\"http://www.w3.org/2000/svg\" height=\"24px\"viewBox=\"0 0 24 24\"\n",
              "       width=\"24px\">\n",
              "    <path d=\"M0 0h24v24H0V0z\" fill=\"none\"/>\n",
              "    <path d=\"M18.56 5.44l.94 2.06.94-2.06 2.06-.94-2.06-.94-.94-2.06-.94 2.06-2.06.94zm-11 1L8.5 8.5l.94-2.06 2.06-.94-2.06-.94L8.5 2.5l-.94 2.06-2.06.94zm10 10l.94 2.06.94-2.06 2.06-.94-2.06-.94-.94-2.06-.94 2.06-2.06.94z\"/><path d=\"M17.41 7.96l-1.37-1.37c-.4-.4-.92-.59-1.43-.59-.52 0-1.04.2-1.43.59L10.3 9.45l-7.72 7.72c-.78.78-.78 2.05 0 2.83L4 21.41c.39.39.9.59 1.41.59.51 0 1.02-.2 1.41-.59l7.78-7.78 2.81-2.81c.8-.78.8-2.07 0-2.86zM5.41 20L4 18.59l7.72-7.72 1.47 1.35L5.41 20z\"/>\n",
              "  </svg>\n",
              "      </button>\n",
              "      \n",
              "  <style>\n",
              "    .colab-df-container {\n",
              "      display:flex;\n",
              "      flex-wrap:wrap;\n",
              "      gap: 12px;\n",
              "    }\n",
              "\n",
              "    .colab-df-convert {\n",
              "      background-color: #E8F0FE;\n",
              "      border: none;\n",
              "      border-radius: 50%;\n",
              "      cursor: pointer;\n",
              "      display: none;\n",
              "      fill: #1967D2;\n",
              "      height: 32px;\n",
              "      padding: 0 0 0 0;\n",
              "      width: 32px;\n",
              "    }\n",
              "\n",
              "    .colab-df-convert:hover {\n",
              "      background-color: #E2EBFA;\n",
              "      box-shadow: 0px 1px 2px rgba(60, 64, 67, 0.3), 0px 1px 3px 1px rgba(60, 64, 67, 0.15);\n",
              "      fill: #174EA6;\n",
              "    }\n",
              "\n",
              "    [theme=dark] .colab-df-convert {\n",
              "      background-color: #3B4455;\n",
              "      fill: #D2E3FC;\n",
              "    }\n",
              "\n",
              "    [theme=dark] .colab-df-convert:hover {\n",
              "      background-color: #434B5C;\n",
              "      box-shadow: 0px 1px 3px 1px rgba(0, 0, 0, 0.15);\n",
              "      filter: drop-shadow(0px 1px 2px rgba(0, 0, 0, 0.3));\n",
              "      fill: #FFFFFF;\n",
              "    }\n",
              "  </style>\n",
              "\n",
              "      <script>\n",
              "        const buttonEl =\n",
              "          document.querySelector('#df-2ee0db5b-126f-4282-81dd-4e6202f69aa5 button.colab-df-convert');\n",
              "        buttonEl.style.display =\n",
              "          google.colab.kernel.accessAllowed ? 'block' : 'none';\n",
              "\n",
              "        async function convertToInteractive(key) {\n",
              "          const element = document.querySelector('#df-2ee0db5b-126f-4282-81dd-4e6202f69aa5');\n",
              "          const dataTable =\n",
              "            await google.colab.kernel.invokeFunction('convertToInteractive',\n",
              "                                                     [key], {});\n",
              "          if (!dataTable) return;\n",
              "\n",
              "          const docLinkHtml = 'Like what you see? Visit the ' +\n",
              "            '<a target=\"_blank\" href=https://colab.research.google.com/notebooks/data_table.ipynb>data table notebook</a>'\n",
              "            + ' to learn more about interactive tables.';\n",
              "          element.innerHTML = '';\n",
              "          dataTable['output_type'] = 'display_data';\n",
              "          await google.colab.output.renderOutput(dataTable, element);\n",
              "          const docLink = document.createElement('div');\n",
              "          docLink.innerHTML = docLinkHtml;\n",
              "          element.appendChild(docLink);\n",
              "        }\n",
              "      </script>\n",
              "    </div>\n",
              "  </div>\n",
              "  "
            ]
          },
          "metadata": {},
          "execution_count": 73
        }
      ]
    }
  ]
}