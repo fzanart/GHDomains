{
  "nbformat": 4,
  "nbformat_minor": 0,
  "metadata": {
    "colab": {
      "name": "Untitled9.ipynb",
      "provenance": [],
      "mount_file_id": "https://github.com/fzanart/GHDomains/blob/main/New1000popular_repos.ipynb",
      "authorship_tag": "ABX9TyPZb/SRZJEHdJKj6bEn4Uek",
      "include_colab_link": true
    },
    "kernelspec": {
      "name": "python3",
      "display_name": "Python 3"
    },
    "language_info": {
      "name": "python"
    }
  },
  "cells": [
    {
      "cell_type": "markdown",
      "metadata": {
        "id": "view-in-github",
        "colab_type": "text"
      },
      "source": [
        "<a href=\"https://colab.research.google.com/github/fzanart/GHDomains/blob/main/New1000popular_repos.ipynb\" target=\"_parent\"><img src=\"https://colab.research.google.com/assets/colab-badge.svg\" alt=\"Open In Colab\"/></a>"
      ]
    },
    {
      "cell_type": "code",
      "source": [
        "%%capture\n",
        "!pip install PyGithub"
      ],
      "metadata": {
        "id": "8Zz_ECtxHlNI"
      },
      "execution_count": 1,
      "outputs": []
    },
    {
      "cell_type": "code",
      "execution_count": 7,
      "metadata": {
        "id": "xb7CYqg8cmUH",
        "colab": {
          "base_uri": "https://localhost:8080/"
        },
        "outputId": "431ba3ce-85f6-4e33-b940-7900e0346441"
      },
      "outputs": [
        {
          "output_type": "stream",
          "name": "stdout",
          "text": [
            "Drive already mounted at /content/drive/; to attempt to forcibly remount, call drive.mount(\"/content/drive/\", force_remount=True).\n"
          ]
        }
      ],
      "source": [
        "import pandas as pd\n",
        "from google.colab import drive\n",
        "from github import Github, RateLimitExceededException\n",
        "from github.GithubException import UnknownObjectException\n",
        "from tqdm import tqdm\n",
        "from datetime import datetime\n",
        "import time\n",
        "import os\n",
        "import json\n",
        "import pickle\n",
        "drive.mount('/content/drive/')"
      ]
    },
    {
      "cell_type": "code",
      "source": [
        "new_1000 = pd.read_excel('/content/drive/MyDrive/GHDomains/1000Popular_repos.xlsx', index_col=0)\n",
        "new = new_1000['Name'].to_list()"
      ],
      "metadata": {
        "id": "OP9xMY_PBG4b"
      },
      "execution_count": 3,
      "outputs": []
    },
    {
      "cell_type": "code",
      "source": [
        "old_1000 = pd.read_csv('/content/drive/MyDrive/GHDomains/expanded_frame_final.csv', usecols=['Name'])\n",
        "old = old_1000['Name'].to_list()"
      ],
      "metadata": {
        "id": "Ny1IV_jvCf4q"
      },
      "execution_count": 4,
      "outputs": []
    },
    {
      "cell_type": "code",
      "source": [
        "repos_ids = list(set(new) - set(old))"
      ],
      "metadata": {
        "id": "T9AkGS26DiOi"
      },
      "execution_count": 5,
      "outputs": []
    },
    {
      "cell_type": "code",
      "source": [
        "len(repos_ids)"
      ],
      "metadata": {
        "colab": {
          "base_uri": "https://localhost:8080/"
        },
        "id": "NG38oElXDs62",
        "outputId": "0b2a20c6-db2e-4968-81ca-c69aab81637e"
      },
      "execution_count": 6,
      "outputs": [
        {
          "output_type": "execute_result",
          "data": {
            "text/plain": [
              "441"
            ]
          },
          "metadata": {},
          "execution_count": 6
        }
      ]
    },
    {
      "cell_type": "code",
      "source": [
        "with open('/content/drive/MyDrive/GHDomains/new_popular_list.pickle', 'wb') as fp:\n",
        "    pickle.dump(repos_ids, fp)"
      ],
      "metadata": {
        "id": "WXmQaPkFOcPG"
      },
      "execution_count": 8,
      "outputs": []
    },
    {
      "cell_type": "code",
      "source": [
        "token = input(\"Enter your Github token:\")\n",
        "g = Github(token, timeout=30, per_page=100)"
      ],
      "metadata": {
        "id": "JZfJjkWFHY2s"
      },
      "execution_count": null,
      "outputs": []
    },
    {
      "cell_type": "code",
      "source": [
        "def catch(c):\n",
        "    try:\n",
        "        return c.author.login\n",
        "    except:\n",
        "        return c.commit.author.name\n",
        "\n",
        "\n",
        "def get_commits_data(token, repo_id):\n",
        "\n",
        "    repo = token.get_repo(repo_id)\n",
        "\n",
        "    repo_commits_author = []\n",
        "    repo_commits_message = []\n",
        "    try:\n",
        "        \n",
        "        commits = repo.get_commits()\n",
        "        repo_commits_author.extend([catch(commit) for commit in commits])\n",
        "        repo_commits_message.extend([commit.commit.message for commit in commits])\n",
        "        \n",
        "        if len(repo_commits_author) != 0 and len(repo_commits_author) !=0:\n",
        "            return {'Authors:': repo_commits_author, 'Messages:': repo_commits_message}\n",
        "        else:\n",
        "            return None\n",
        "    except:\n",
        "\t    return None\n",
        "\n",
        "def download_commits(token, repo_id):\n",
        "\n",
        "    return get_commits_data(token, repo_id)"
      ],
      "metadata": {
        "id": "merRAxm3Ig94"
      },
      "execution_count": 9,
      "outputs": []
    },
    {
      "cell_type": "code",
      "source": [
        "output_directory_path    = '/content/drive/MyDrive/GHDomains/Downloaded_repos'\n",
        "repos_already_downloaded = [file_name.replace('.json', '').replace(':','/') for file_name in os.listdir(output_directory_path) if file_name.endswith('.json') and not file_name.startswith('all_repos')]\n",
        "repos_to_download        = [repo_name for repo_name in repos_ids if repo_name not in repos_already_downloaded]"
      ],
      "metadata": {
        "id": "Y82v6fv1JJP5"
      },
      "execution_count": 15,
      "outputs": []
    },
    {
      "cell_type": "code",
      "source": [
        "repos_to_download = ['huginn/huginn',\n",
        "                      'mastodon/mastodon',\n",
        "                      'quozd/awesome-dotnet',\n",
        "                      'kamranahmedse/design-patterns-for-humans',\n",
        "                      'derailed/k9s',\n",
        "                      'spmallick/learnopencv',\n",
        "                      'qishibo/AnotherRedisDesktopManager',\n",
        "                      'bailicangdu/vue2-elm',\n",
        "                      'akullpp/awesome-java',\n",
        "                      'puppeteer/puppeteer',\n",
        "                      'alibaba/arthas',\n",
        "                      'atlassian/react-beautiful-dnd',\n",
        "                      'plotly/dash']"
      ],
      "metadata": {
        "id": "1NpZqGqu9Xyj"
      },
      "execution_count": 16,
      "outputs": []
    },
    {
      "cell_type": "code",
      "source": [
        "for i, repo_id in enumerate(repos_to_download):\n",
        "  try:\n",
        "    print('Downloading repo: ' + repo_id + ' ...')\n",
        "    print(str(time.asctime(time.localtime(time.time()))) + ' ' + ': #' + str(i+1+len(repos_already_downloaded)) + ' out of ' + str(len(repos_ids)) + ' repos')\n",
        "\n",
        "    commits = download_commits(g, repo_id)\n",
        "    repo_id = repo_id.replace('/', ':')\n",
        "    json.dump(commits, open(output_directory_path + '/' + repo_id + '.json', 'w'))\n",
        "\n",
        "    print('- '*50)\n",
        "  except RateLimitExceededException:\n",
        "    print('sleeping...')\n",
        "    time.sleep((g.get_rate_limit().core.reset - datetime.today()).seconds + 5)\n",
        "    print('continue...')\n",
        "  except UnknownObjectException:\n",
        "    print(repo_id + ' not found')\n",
        "    continue"
      ],
      "metadata": {
        "colab": {
          "base_uri": "https://localhost:8080/"
        },
        "id": "glp-C1HoJ1Qn",
        "outputId": "cce9ec34-0294-464d-ac92-15ad73fa9d81"
      },
      "execution_count": 17,
      "outputs": [
        {
          "output_type": "stream",
          "name": "stdout",
          "text": [
            "Downloading repo: huginn/huginn ...\n",
            "Wed Mar 16 04:22:53 2022 : #441 out of 441 repos\n",
            "- - - - - - - - - - - - - - - - - - - - - - - - - - - - - - - - - - - - - - - - - - - - - - - - - - \n",
            "Downloading repo: mastodon/mastodon ...\n",
            "Wed Mar 16 04:23:03 2022 : #442 out of 441 repos\n",
            "- - - - - - - - - - - - - - - - - - - - - - - - - - - - - - - - - - - - - - - - - - - - - - - - - - \n",
            "Downloading repo: quozd/awesome-dotnet ...\n",
            "Wed Mar 16 04:23:42 2022 : #443 out of 441 repos\n",
            "- - - - - - - - - - - - - - - - - - - - - - - - - - - - - - - - - - - - - - - - - - - - - - - - - - \n",
            "Downloading repo: kamranahmedse/design-patterns-for-humans ...\n",
            "Wed Mar 16 04:23:47 2022 : #444 out of 441 repos\n",
            "- - - - - - - - - - - - - - - - - - - - - - - - - - - - - - - - - - - - - - - - - - - - - - - - - - \n",
            "Downloading repo: derailed/k9s ...\n",
            "Wed Mar 16 04:23:48 2022 : #445 out of 441 repos\n",
            "- - - - - - - - - - - - - - - - - - - - - - - - - - - - - - - - - - - - - - - - - - - - - - - - - - \n",
            "Downloading repo: spmallick/learnopencv ...\n",
            "Wed Mar 16 04:23:53 2022 : #446 out of 441 repos\n",
            "- - - - - - - - - - - - - - - - - - - - - - - - - - - - - - - - - - - - - - - - - - - - - - - - - - \n",
            "Downloading repo: qishibo/AnotherRedisDesktopManager ...\n",
            "Wed Mar 16 04:24:00 2022 : #447 out of 441 repos\n",
            "- - - - - - - - - - - - - - - - - - - - - - - - - - - - - - - - - - - - - - - - - - - - - - - - - - \n",
            "Downloading repo: bailicangdu/vue2-elm ...\n",
            "Wed Mar 16 04:24:02 2022 : #448 out of 441 repos\n",
            "- - - - - - - - - - - - - - - - - - - - - - - - - - - - - - - - - - - - - - - - - - - - - - - - - - \n",
            "Downloading repo: akullpp/awesome-java ...\n",
            "Wed Mar 16 04:24:04 2022 : #449 out of 441 repos\n",
            "- - - - - - - - - - - - - - - - - - - - - - - - - - - - - - - - - - - - - - - - - - - - - - - - - - \n",
            "Downloading repo: puppeteer/puppeteer ...\n",
            "Wed Mar 16 04:24:09 2022 : #450 out of 441 repos\n",
            "- - - - - - - - - - - - - - - - - - - - - - - - - - - - - - - - - - - - - - - - - - - - - - - - - - \n",
            "Downloading repo: alibaba/arthas ...\n",
            "Wed Mar 16 04:24:17 2022 : #451 out of 441 repos\n",
            "- - - - - - - - - - - - - - - - - - - - - - - - - - - - - - - - - - - - - - - - - - - - - - - - - - \n",
            "Downloading repo: atlassian/react-beautiful-dnd ...\n",
            "Wed Mar 16 04:24:22 2022 : #452 out of 441 repos\n",
            "- - - - - - - - - - - - - - - - - - - - - - - - - - - - - - - - - - - - - - - - - - - - - - - - - - \n",
            "Downloading repo: plotly/dash ...\n",
            "Wed Mar 16 04:24:25 2022 : #453 out of 441 repos\n",
            "- - - - - - - - - - - - - - - - - - - - - - - - - - - - - - - - - - - - - - - - - - - - - - - - - - \n"
          ]
        }
      ]
    }
  ]
}